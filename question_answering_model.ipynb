{
 "cells": [
  {
   "cell_type": "markdown",
   "id": "6730fecf",
   "metadata": {},
   "source": [
    "# Question Answering Model"
   ]
  },
  {
   "cell_type": "markdown",
   "id": "2f3d6fa4",
   "metadata": {},
   "source": [
    "### 1. Reading datasets"
   ]
  },
  {
   "cell_type": "markdown",
   "id": "1bb34019",
   "metadata": {},
   "source": [
    "### 1.1. Import libraries"
   ]
  },
  {
   "cell_type": "code",
   "execution_count": 1,
   "id": "454b1612",
   "metadata": {
    "ExecuteTime": {
     "end_time": "2024-03-28T01:50:27.140626Z",
     "start_time": "2024-03-28T01:50:17.842077Z"
    }
   },
   "outputs": [],
   "source": [
    "import pandas as pd\n",
    "import re\n",
    "import string\n",
    "import spacy\n",
    "import numpy as np\n",
    "import math\n",
    "import seaborn as sns\n",
    "import matplotlib.pyplot as plt\n",
    "\n",
    "import warnings\n",
    "warnings.simplefilter('ignore')\n",
    "\n",
    "random_state_val = 0"
   ]
  },
  {
   "cell_type": "code",
   "execution_count": 2,
   "id": "23dce1e3",
   "metadata": {
    "ExecuteTime": {
     "end_time": "2024-03-28T01:50:53.512657Z",
     "start_time": "2024-03-28T01:50:27.140626Z"
    }
   },
   "outputs": [
    {
     "name": "stdout",
     "output_type": "stream",
     "text": [
      "WARNING:tensorflow:From C:\\Users\\sacas\\anaconda3\\Lib\\site-packages\\keras\\src\\losses.py:2976: The name tf.losses.sparse_softmax_cross_entropy is deprecated. Please use tf.compat.v1.losses.sparse_softmax_cross_entropy instead.\n",
      "\n"
     ]
    }
   ],
   "source": [
    "import torch\n",
    "from transformers import BertForQuestionAnswering\n",
    "from transformers import BertTokenizer\n",
    "from transformers import BertTokenizerFast\n",
    "from transformers import TrainingArguments\n",
    "from transformers import DefaultDataCollator\n",
    "from transformers import Trainer\n",
    "from datasets import Dataset, DatasetDict\n",
    "from sklearn.model_selection import train_test_split\n",
    "\n",
    "\n",
    "\n",
    "tokenizer_ori = BertTokenizer.from_pretrained('bert-large-cased-whole-word-masking-finetuned-squad')\n",
    "model_ori = BertForQuestionAnswering.from_pretrained('bert-large-cased-whole-word-masking-finetuned-squad')"
   ]
  },
  {
   "cell_type": "markdown",
   "id": "f563e4ec",
   "metadata": {},
   "source": [
    "### 1.2. Read news_dataset"
   ]
  },
  {
   "cell_type": "code",
   "execution_count": null,
   "id": "da4b77d1",
   "metadata": {
    "ExecuteTime": {
     "end_time": "2024-03-28T01:51:00.070828Z",
     "start_time": "2024-03-28T01:51:00.070828Z"
    }
   },
   "outputs": [],
   "source": [
    "df_news_dataset = pd.read_csv(\"news_dataset.csv\", encoding = \"ISO-8859-1\")\n",
    "df_news_dataset.rename(columns={\"article\":\"context\"},inplace=True)"
   ]
  },
  {
   "cell_type": "code",
   "execution_count": null,
   "id": "d2596a63",
   "metadata": {
    "ExecuteTime": {
     "end_time": "2024-03-28T01:51:00.072108Z",
     "start_time": "2024-03-28T01:51:00.072108Z"
    }
   },
   "outputs": [],
   "source": [
    "df_news_sample = df_news_dataset.sample(n=30,random_state = random_state_val)"
   ]
  },
  {
   "cell_type": "code",
   "execution_count": null,
   "id": "7142b8df",
   "metadata": {
    "ExecuteTime": {
     "end_time": "2024-03-28T01:51:00.074786Z",
     "start_time": "2024-03-28T01:51:00.074786Z"
    }
   },
   "outputs": [],
   "source": [
    "df_qa = pd.read_csv(\"qa_article.tsv\",sep=\"\\t\")\n"
   ]
  },
  {
   "cell_type": "code",
   "execution_count": 8,
   "id": "2f8bb51b",
   "metadata": {
    "ExecuteTime": {
     "end_time": "2024-03-28T01:51:00.153171Z",
     "start_time": "2024-03-28T01:51:00.137993Z"
    }
   },
   "outputs": [
    {
     "data": {
      "text/html": [
       "<div>\n",
       "<style scoped>\n",
       "    .dataframe tbody tr th:only-of-type {\n",
       "        vertical-align: middle;\n",
       "    }\n",
       "\n",
       "    .dataframe tbody tr th {\n",
       "        vertical-align: top;\n",
       "    }\n",
       "\n",
       "    .dataframe thead th {\n",
       "        text-align: right;\n",
       "    }\n",
       "</style>\n",
       "<table border=\"1\" class=\"dataframe\">\n",
       "  <thead>\n",
       "    <tr style=\"text-align: right;\">\n",
       "      <th></th>\n",
       "      <th>id</th>\n",
       "      <th>author</th>\n",
       "      <th>date</th>\n",
       "      <th>year</th>\n",
       "      <th>month</th>\n",
       "      <th>topic</th>\n",
       "      <th>context</th>\n",
       "      <th>question</th>\n",
       "      <th>answer_text</th>\n",
       "    </tr>\n",
       "  </thead>\n",
       "  <tbody>\n",
       "    <tr>\n",
       "      <th>0</th>\n",
       "      <td>18456</td>\n",
       "      <td>Victor Mather</td>\n",
       "      <td>13/02/2017</td>\n",
       "      <td>2017</td>\n",
       "      <td>2</td>\n",
       "      <td>politics</td>\n",
       "      <td>At least six members of the Super   New Englan...</td>\n",
       "      <td>Where did Blount reveal his decision?</td>\n",
       "      <td>on Fox Sports in a radio interview on The Rich...</td>\n",
       "    </tr>\n",
       "    <tr>\n",
       "      <th>1</th>\n",
       "      <td>18308</td>\n",
       "      <td>Ken Belson</td>\n",
       "      <td>8/02/2017</td>\n",
       "      <td>2017</td>\n",
       "      <td>2</td>\n",
       "      <td>sports</td>\n",
       "      <td>HOUSTON  ?   There was the game on the field, ...</td>\n",
       "      <td>What did Mr. Bush do from a wheelchair on the ...</td>\n",
       "      <td>Mr. Bush did the opening coin toss</td>\n",
       "    </tr>\n",
       "    <tr>\n",
       "      <th>2</th>\n",
       "      <td>17636</td>\n",
       "      <td>Ron Lieber</td>\n",
       "      <td>14/01/2017</td>\n",
       "      <td>2017</td>\n",
       "      <td>1</td>\n",
       "      <td>business</td>\n",
       "      <td>When Wells Fargo announced its quarterly earni...</td>\n",
       "      <td>Why were not many customers exactly pleased</td>\n",
       "      <td>the number of new consumer checking accounts h...</td>\n",
       "    </tr>\n",
       "    <tr>\n",
       "      <th>3</th>\n",
       "      <td>17938</td>\n",
       "      <td>Dale Russakoff</td>\n",
       "      <td>29/01/2017</td>\n",
       "      <td>2017</td>\n",
       "      <td>1</td>\n",
       "      <td>politics</td>\n",
       "      <td>When Indira Islas was in third grade at Centen...</td>\n",
       "      <td>How many hours did Indira work as a volunteer?</td>\n",
       "      <td>over 1, 000 hours a year</td>\n",
       "    </tr>\n",
       "    <tr>\n",
       "      <th>4</th>\n",
       "      <td>18070</td>\n",
       "      <td>Laurie Goodstein</td>\n",
       "      <td>30/01/2017</td>\n",
       "      <td>2017</td>\n",
       "      <td>1</td>\n",
       "      <td>crime</td>\n",
       "      <td>Over the past decade, Christians in the United...</td>\n",
       "      <td>When the United States admitted almost as many...</td>\n",
       "      <td>In 2016</td>\n",
       "    </tr>\n",
       "  </tbody>\n",
       "</table>\n",
       "</div>"
      ],
      "text/plain": [
       "      id            author        date  year month     topic  \\\n",
       "0  18456     Victor Mather  13/02/2017  2017     2  politics   \n",
       "1  18308        Ken Belson   8/02/2017  2017     2    sports   \n",
       "2  17636        Ron Lieber  14/01/2017  2017     1  business   \n",
       "3  17938    Dale Russakoff  29/01/2017  2017     1  politics   \n",
       "4  18070  Laurie Goodstein  30/01/2017  2017     1     crime   \n",
       "\n",
       "                                             context  \\\n",
       "0  At least six members of the Super   New Englan...   \n",
       "1  HOUSTON  ?   There was the game on the field, ...   \n",
       "2  When Wells Fargo announced its quarterly earni...   \n",
       "3  When Indira Islas was in third grade at Centen...   \n",
       "4  Over the past decade, Christians in the United...   \n",
       "\n",
       "                                            question  \\\n",
       "0              Where did Blount reveal his decision?   \n",
       "1  What did Mr. Bush do from a wheelchair on the ...   \n",
       "2        Why were not many customers exactly pleased   \n",
       "3     How many hours did Indira work as a volunteer?   \n",
       "4  When the United States admitted almost as many...   \n",
       "\n",
       "                                         answer_text  \n",
       "0  on Fox Sports in a radio interview on The Rich...  \n",
       "1                 Mr. Bush did the opening coin toss  \n",
       "2  the number of new consumer checking accounts h...  \n",
       "3                           over 1, 000 hours a year  \n",
       "4                                            In 2016  "
      ]
     },
     "execution_count": 8,
     "metadata": {},
     "output_type": "execute_result"
    }
   ],
   "source": [
    "df_news_qa = pd.merge(df_news_sample,df_qa,how=\"inner\",on=\"id\")\n",
    "df_news_qa.head()\n"
   ]
  },
  {
   "cell_type": "markdown",
   "id": "b4ee4711",
   "metadata": {},
   "source": [
    "Pronouns in the answer should be avoided as much as possible because they may be subject to changes through coreference resolution. Threfore check ronouns in the answer"
   ]
  },
  {
   "cell_type": "code",
   "execution_count": 9,
   "id": "fd546393",
   "metadata": {
    "ExecuteTime": {
     "end_time": "2024-03-28T01:51:11.503705Z",
     "start_time": "2024-03-28T01:51:10.488219Z"
    }
   },
   "outputs": [],
   "source": [
    "nlp = spacy.load(\"en_core_web_sm\")\n",
    "cnt_pron_checker=0\n",
    "def pron_checker(text):\n",
    "    global cnt_pron_checker\n",
    "    if cnt_pron_checker % 10000 == 0:\n",
    "        print(\"count\",cnt_pron_checker)\n",
    "    cnt_pron_checker+=1\n",
    "\n",
    "    doc = nlp(text)\n",
    "\n",
    "    pron_num = len([1 for token in doc if token.pos_ == \"PRON\"])\n",
    "    return pron_num\n"
   ]
  },
  {
   "cell_type": "code",
   "execution_count": 10,
   "id": "a8bf9930",
   "metadata": {
    "ExecuteTime": {
     "end_time": "2024-03-28T01:51:12.810209Z",
     "start_time": "2024-03-28T01:51:12.562326Z"
    }
   },
   "outputs": [
    {
     "name": "stdout",
     "output_type": "stream",
     "text": [
      "count 0\n"
     ]
    },
    {
     "data": {
      "text/html": [
       "<div>\n",
       "<style scoped>\n",
       "    .dataframe tbody tr th:only-of-type {\n",
       "        vertical-align: middle;\n",
       "    }\n",
       "\n",
       "    .dataframe tbody tr th {\n",
       "        vertical-align: top;\n",
       "    }\n",
       "\n",
       "    .dataframe thead th {\n",
       "        text-align: right;\n",
       "    }\n",
       "</style>\n",
       "<table border=\"1\" class=\"dataframe\">\n",
       "  <thead>\n",
       "    <tr style=\"text-align: right;\">\n",
       "      <th></th>\n",
       "      <th>id</th>\n",
       "      <th>author</th>\n",
       "      <th>date</th>\n",
       "      <th>year</th>\n",
       "      <th>month</th>\n",
       "      <th>topic</th>\n",
       "      <th>context</th>\n",
       "      <th>question</th>\n",
       "      <th>answer_text</th>\n",
       "      <th>cnt_pron_answer</th>\n",
       "    </tr>\n",
       "  </thead>\n",
       "  <tbody>\n",
       "    <tr>\n",
       "      <th>23</th>\n",
       "      <td>17653</td>\n",
       "      <td>Anahad O?Connor</td>\n",
       "      <td>18/01/2017</td>\n",
       "      <td>2017</td>\n",
       "      <td>1</td>\n",
       "      <td>lifestyle</td>\n",
       "      <td>What do households on food stamps buy at the g...</td>\n",
       "      <td>What did the United States Department of Agric...</td>\n",
       "      <td>a detailed report that provides a glimpse into...</td>\n",
       "      <td>2</td>\n",
       "    </tr>\n",
       "  </tbody>\n",
       "</table>\n",
       "</div>"
      ],
      "text/plain": [
       "       id           author        date  year month      topic  \\\n",
       "23  17653  Anahad O?Connor  18/01/2017  2017     1  lifestyle   \n",
       "\n",
       "                                              context  \\\n",
       "23  What do households on food stamps buy at the g...   \n",
       "\n",
       "                                             question  \\\n",
       "23  What did the United States Department of Agric...   \n",
       "\n",
       "                                          answer_text  cnt_pron_answer  \n",
       "23  a detailed report that provides a glimpse into...                2  "
      ]
     },
     "metadata": {},
     "output_type": "display_data"
    },
    {
     "name": "stdout",
     "output_type": "stream",
     "text": [
      "a detailed report that provides a glimpse into the shopping cart of the typical household that receives food stamps\n"
     ]
    }
   ],
   "source": [
    "df_news_qa[\"cnt_pron_answer\"] = df_news_qa[\"answer_text\"].apply(lambda x:pron_checker(x))\n",
    "display(df_news_qa[df_news_qa[\"cnt_pron_answer\"]>0])\n",
    "print(df_news_qa[df_news_qa[\"cnt_pron_answer\"]>0][\"answer_text\"].values[0])"
   ]
  },
  {
   "cell_type": "markdown",
   "id": "e1a52d3a",
   "metadata": {},
   "source": [
    "Coreference resolution is not affected because only relative pronouns are caught as pronouns."
   ]
  },
  {
   "cell_type": "markdown",
   "id": "fc682168",
   "metadata": {},
   "source": [
    "### 1.3. Read SQuAD dataset"
   ]
  },
  {
   "cell_type": "code",
   "execution_count": 12,
   "id": "2ab8c7b5",
   "metadata": {
    "ExecuteTime": {
     "end_time": "2024-03-28T01:51:22.242657Z",
     "start_time": "2024-03-28T01:51:16.514709Z"
    }
   },
   "outputs": [
    {
     "name": "stderr",
     "output_type": "stream",
     "text": [
      "Found cached dataset parquet (C:/Users/sacas/.cache/huggingface/datasets/parquet/plain_text-57edf78d6033ac9a/0.0.0/2a3b91fbd88a2c90d1dbbb32b460cf621d31bd5b05b934492fdef7d8d6f236ec)\n"
     ]
    },
    {
     "data": {
      "application/vnd.jupyter.widget-view+json": {
       "model_id": "2cc47fbbe0db4cc6989ae69fc2e5b6ef",
       "version_major": 2,
       "version_minor": 0
      },
      "text/plain": [
       "  0%|          | 0/2 [00:00<?, ?it/s]"
      ]
     },
     "metadata": {},
     "output_type": "display_data"
    },
    {
     "data": {
      "text/html": [
       "<div>\n",
       "<style scoped>\n",
       "    .dataframe tbody tr th:only-of-type {\n",
       "        vertical-align: middle;\n",
       "    }\n",
       "\n",
       "    .dataframe tbody tr th {\n",
       "        vertical-align: top;\n",
       "    }\n",
       "\n",
       "    .dataframe thead th {\n",
       "        text-align: right;\n",
       "    }\n",
       "</style>\n",
       "<table border=\"1\" class=\"dataframe\">\n",
       "  <thead>\n",
       "    <tr style=\"text-align: right;\">\n",
       "      <th></th>\n",
       "      <th>id</th>\n",
       "      <th>title</th>\n",
       "      <th>question</th>\n",
       "      <th>answer_text</th>\n",
       "      <th>answer_start_position</th>\n",
       "      <th>context</th>\n",
       "    </tr>\n",
       "  </thead>\n",
       "  <tbody>\n",
       "    <tr>\n",
       "      <th>0</th>\n",
       "      <td>5733be284776f41900661182</td>\n",
       "      <td>University_of_Notre_Dame</td>\n",
       "      <td>To whom did the Virgin Mary allegedly appear i...</td>\n",
       "      <td>Saint Bernadette Soubirous</td>\n",
       "      <td>515</td>\n",
       "      <td>Architecturally, the school has a Catholic cha...</td>\n",
       "    </tr>\n",
       "    <tr>\n",
       "      <th>1</th>\n",
       "      <td>5733be284776f4190066117f</td>\n",
       "      <td>University_of_Notre_Dame</td>\n",
       "      <td>What is in front of the Notre Dame Main Building?</td>\n",
       "      <td>a copper statue of Christ</td>\n",
       "      <td>188</td>\n",
       "      <td>Architecturally, the school has a Catholic cha...</td>\n",
       "    </tr>\n",
       "    <tr>\n",
       "      <th>2</th>\n",
       "      <td>5733be284776f41900661180</td>\n",
       "      <td>University_of_Notre_Dame</td>\n",
       "      <td>The Basilica of the Sacred heart at Notre Dame...</td>\n",
       "      <td>the Main Building</td>\n",
       "      <td>279</td>\n",
       "      <td>Architecturally, the school has a Catholic cha...</td>\n",
       "    </tr>\n",
       "    <tr>\n",
       "      <th>3</th>\n",
       "      <td>5733be284776f41900661181</td>\n",
       "      <td>University_of_Notre_Dame</td>\n",
       "      <td>What is the Grotto at Notre Dame?</td>\n",
       "      <td>a Marian place of prayer and reflection</td>\n",
       "      <td>381</td>\n",
       "      <td>Architecturally, the school has a Catholic cha...</td>\n",
       "    </tr>\n",
       "    <tr>\n",
       "      <th>4</th>\n",
       "      <td>5733be284776f4190066117e</td>\n",
       "      <td>University_of_Notre_Dame</td>\n",
       "      <td>What sits on top of the Main Building at Notre...</td>\n",
       "      <td>a golden statue of the Virgin Mary</td>\n",
       "      <td>92</td>\n",
       "      <td>Architecturally, the school has a Catholic cha...</td>\n",
       "    </tr>\n",
       "  </tbody>\n",
       "</table>\n",
       "</div>"
      ],
      "text/plain": [
       "                         id                     title  \\\n",
       "0  5733be284776f41900661182  University_of_Notre_Dame   \n",
       "1  5733be284776f4190066117f  University_of_Notre_Dame   \n",
       "2  5733be284776f41900661180  University_of_Notre_Dame   \n",
       "3  5733be284776f41900661181  University_of_Notre_Dame   \n",
       "4  5733be284776f4190066117e  University_of_Notre_Dame   \n",
       "\n",
       "                                            question  \\\n",
       "0  To whom did the Virgin Mary allegedly appear i...   \n",
       "1  What is in front of the Notre Dame Main Building?   \n",
       "2  The Basilica of the Sacred heart at Notre Dame...   \n",
       "3                  What is the Grotto at Notre Dame?   \n",
       "4  What sits on top of the Main Building at Notre...   \n",
       "\n",
       "                               answer_text  answer_start_position  \\\n",
       "0               Saint Bernadette Soubirous                    515   \n",
       "1                a copper statue of Christ                    188   \n",
       "2                        the Main Building                    279   \n",
       "3  a Marian place of prayer and reflection                    381   \n",
       "4       a golden statue of the Virgin Mary                     92   \n",
       "\n",
       "                                             context  \n",
       "0  Architecturally, the school has a Catholic cha...  \n",
       "1  Architecturally, the school has a Catholic cha...  \n",
       "2  Architecturally, the school has a Catholic cha...  \n",
       "3  Architecturally, the school has a Catholic cha...  \n",
       "4  Architecturally, the school has a Catholic cha...  "
      ]
     },
     "execution_count": 12,
     "metadata": {},
     "output_type": "execute_result"
    }
   ],
   "source": [
    "from datasets import load_dataset\n",
    "\n",
    "dic_squad = load_dataset(\"squad\")\n",
    "dic_squad = {split: dset.to_pandas() for split, dset in dic_squad.flatten().items()}\n",
    "\n",
    "squad_cols = [\"id\",\"title\", \"question\", \"answers.text\", \"answers.answer_start\", \"context\"]\n",
    "df_squad = dic_squad[\"train\"][squad_cols] # \"valid\" is not used since the number of answer is different.\n",
    "\n",
    "df_squad[\"answers.text\"] = df_squad[\"answers.text\"].apply(lambda x:x[0])\n",
    "df_squad[\"answers.answer_start\"] = df_squad[\"answers.answer_start\"].apply(lambda x:x[0])\n",
    "\n",
    "df_squad.columns = [\"id\",\"title\",\"question\",\"answer_text\",\"answer_start_position\",\"context\"]\n",
    "df_squad.head()\n"
   ]
  },
  {
   "cell_type": "code",
   "execution_count": 13,
   "id": "e0341c22",
   "metadata": {
    "ExecuteTime": {
     "end_time": "2024-03-28T01:59:13.470134Z",
     "start_time": "2024-03-28T01:51:28.537761Z"
    }
   },
   "outputs": [
    {
     "name": "stdout",
     "output_type": "stream",
     "text": [
      "count 10000\n",
      "count 20000\n",
      "count 30000\n",
      "count 40000\n",
      "count 50000\n",
      "count 60000\n",
      "count 70000\n",
      "count 80000\n"
     ]
    }
   ],
   "source": [
    "df_squad[\"cnt_pron_answer\"] = df_squad[\"answer_text\"].apply(lambda x:pron_checker(x))"
   ]
  },
  {
   "cell_type": "code",
   "execution_count": 14,
   "id": "e52b92d2",
   "metadata": {
    "ExecuteTime": {
     "end_time": "2024-03-28T01:59:13.487506Z",
     "start_time": "2024-03-28T01:59:13.470134Z"
    }
   },
   "outputs": [
    {
     "data": {
      "text/plain": [
       "cnt_pron_answer\n",
       "0    84128\n",
       "1     2890\n",
       "2      445\n",
       "3      102\n",
       "4       22\n",
       "5        9\n",
       "6        3\n",
       "Name: count, dtype: int64"
      ]
     },
     "execution_count": 14,
     "metadata": {},
     "output_type": "execute_result"
    }
   ],
   "source": [
    "df_squad[\"cnt_pron_answer\"].value_counts()"
   ]
  },
  {
   "cell_type": "markdown",
   "id": "c1d62d49",
   "metadata": {},
   "source": [
    "If pronouns exist within the answer, it is anticipated that Coreference Resolution may alter the answer's pronouns. Therefore, they are removed."
   ]
  },
  {
   "cell_type": "code",
   "execution_count": 15,
   "id": "4233f0fb",
   "metadata": {
    "ExecuteTime": {
     "end_time": "2024-03-28T01:59:13.606283Z",
     "start_time": "2024-03-28T01:59:13.487506Z"
    }
   },
   "outputs": [],
   "source": [
    "df_squad_select = df_squad.copy()[df_squad[\"cnt_pron_answer\"]==0]\n",
    "df_squad_select.reset_index(drop=True, inplace=True)"
   ]
  },
  {
   "cell_type": "markdown",
   "id": "73db135c",
   "metadata": {},
   "source": [
    "### 2. Exploratory Data Analysis (EDA)"
   ]
  },
  {
   "cell_type": "markdown",
   "id": "21de841b",
   "metadata": {},
   "source": [
    "### 2.1. Confirm missing values and types"
   ]
  },
  {
   "cell_type": "code",
   "execution_count": 17,
   "id": "d81d89c8",
   "metadata": {
    "ExecuteTime": {
     "end_time": "2024-03-28T02:08:12.389566Z",
     "start_time": "2024-03-28T02:08:12.358102Z"
    }
   },
   "outputs": [
    {
     "name": "stdout",
     "output_type": "stream",
     "text": [
      "<class 'pandas.core.frame.DataFrame'>\n",
      "RangeIndex: 30 entries, 0 to 29\n",
      "Data columns (total 10 columns):\n",
      " #   Column           Non-Null Count  Dtype \n",
      "---  ------           --------------  ----- \n",
      " 0   id               30 non-null     int64 \n",
      " 1   author           30 non-null     object\n",
      " 2   date             30 non-null     object\n",
      " 3   year             30 non-null     object\n",
      " 4   month            30 non-null     object\n",
      " 5   topic            30 non-null     object\n",
      " 6   context          30 non-null     object\n",
      " 7   question         30 non-null     object\n",
      " 8   answer_text      30 non-null     object\n",
      " 9   cnt_pron_answer  30 non-null     int64 \n",
      "dtypes: int64(2), object(8)\n",
      "memory usage: 2.5+ KB\n"
     ]
    }
   ],
   "source": [
    "df_news_qa.info()"
   ]
  },
  {
   "cell_type": "code",
   "execution_count": 18,
   "id": "b329df93",
   "metadata": {
    "ExecuteTime": {
     "end_time": "2024-03-28T02:08:12.742760Z",
     "start_time": "2024-03-28T02:08:12.716887Z"
    }
   },
   "outputs": [
    {
     "name": "stdout",
     "output_type": "stream",
     "text": [
      "<class 'pandas.core.frame.DataFrame'>\n",
      "RangeIndex: 84128 entries, 0 to 84127\n",
      "Data columns (total 7 columns):\n",
      " #   Column                 Non-Null Count  Dtype \n",
      "---  ------                 --------------  ----- \n",
      " 0   id                     84128 non-null  object\n",
      " 1   title                  84128 non-null  object\n",
      " 2   question               84128 non-null  object\n",
      " 3   answer_text            84128 non-null  object\n",
      " 4   answer_start_position  84128 non-null  int32 \n",
      " 5   context                84128 non-null  object\n",
      " 6   cnt_pron_answer        84128 non-null  int64 \n",
      "dtypes: int32(1), int64(1), object(5)\n",
      "memory usage: 4.2+ MB\n"
     ]
    }
   ],
   "source": [
    "df_squad_select.info()"
   ]
  },
  {
   "cell_type": "markdown",
   "id": "2bd0f96f",
   "metadata": {},
   "source": [
    "There are no missing values in both the news dataset and the SQuAD dataset. There are no particular issues with the data types too."
   ]
  },
  {
   "cell_type": "markdown",
   "id": "4a7e171c",
   "metadata": {},
   "source": [
    "### 2.2. Check the length of context, question and answer"
   ]
  },
  {
   "cell_type": "code",
   "execution_count": 19,
   "id": "27b86d06",
   "metadata": {
    "ExecuteTime": {
     "end_time": "2024-03-28T02:08:14.984998Z",
     "start_time": "2024-03-28T02:08:12.905206Z"
    }
   },
   "outputs": [
    {
     "name": "stdout",
     "output_type": "stream",
     "text": [
      "mean context length 1158.9333333333334\n",
      "meadian context length 1042.5\n"
     ]
    },
    {
     "data": {
      "image/png": "[encoded data removed]",
      "text/plain": [
       "<Figure size 640x480 with 1 Axes>"
      ]
     },
     "metadata": {},
     "output_type": "display_data"
    },
    {
     "name": "stdout",
     "output_type": "stream",
     "text": [
      "mean context length 119.49197651198175\n",
      "meadian context length 110.0\n"
     ]
    },
    {
     "data": {
      "image/png": "[encoded data removed]",
      "text/plain": [
       "<Figure size 640x480 with 1 Axes>"
      ]
     },
     "metadata": {},
     "output_type": "display_data"
    }
   ],
   "source": [
    "df_news_qa[\"context_len\"] = df_news_qa[\"context\"].apply(lambda x: len(x.split()))\n",
    "print(\"mean context length\",df_news_qa[\"context_len\"].mean())\n",
    "print(\"meadian context length\",df_news_qa[\"context_len\"].median())\n",
    "\n",
    "sns.histplot(df_news_qa[\"context_len\"], bins=30, kde=True)\n",
    "plt.title('Distribution of Context Lengths for News Dataset')\n",
    "plt.xlabel('Text Length')\n",
    "plt.show()\n",
    "\n",
    "df_squad_select[\"context_len\"] = df_squad_select[\"context\"].apply(lambda x: len(x.split()))\n",
    "print(\"mean context length\",df_squad_select[\"context_len\"].mean())\n",
    "print(\"meadian context length\",df_squad_select[\"context_len\"].median())\n",
    "\n",
    "sns.histplot(df_squad_select[\"context_len\"], bins=30, kde=True)\n",
    "plt.title('Distribution of Context Lengths for SQuAD Dataset')\n",
    "plt.xlabel('Text Length')\n",
    "plt.show()\n"
   ]
  },
  {
   "cell_type": "markdown",
   "id": "1100f550",
   "metadata": {},
   "source": [
    "Due to significant disparities in context, longer contexts in the SQuAD dataset are prioritized for use."
   ]
  },
  {
   "cell_type": "code",
   "execution_count": 20,
   "id": "a0a250d8",
   "metadata": {
    "ExecuteTime": {
     "end_time": "2024-03-28T02:08:15.975470Z",
     "start_time": "2024-03-28T02:08:14.988403Z"
    }
   },
   "outputs": [
    {
     "name": "stdout",
     "output_type": "stream",
     "text": [
      "mean question length 10.833333333333334\n",
      "meadian question length 9.0\n"
     ]
    },
    {
     "data": {
      "image/png": "[encoded data removed]",
      "text/plain": [
       "<Figure size 640x480 with 1 Axes>"
      ]
     },
     "metadata": {},
     "output_type": "display_data"
    },
    {
     "name": "stdout",
     "output_type": "stream",
     "text": [
      "mean question length 10.063878851274248\n",
      "meadian question length 10.0\n"
     ]
    },
    {
     "data": {
      "image/png": "[encoded data removed]",
      "text/plain": [
       "<Figure size 640x480 with 1 Axes>"
      ]
     },
     "metadata": {},
     "output_type": "display_data"
    }
   ],
   "source": [
    "df_news_qa[\"question_len\"] = df_news_qa[\"question\"].apply(lambda x: len(x.split()))\n",
    "print(\"mean question length\",df_news_qa[\"question_len\"].mean())\n",
    "print(\"meadian question length\",df_news_qa[\"question_len\"].median())\n",
    "\n",
    "sns.histplot(df_news_qa[\"question_len\"], bins=30, kde=True)\n",
    "plt.title('Distribution of Question Lengths for News Dataset')\n",
    "plt.xlabel('Text Length')\n",
    "plt.show()\n",
    "\n",
    "df_squad_select[\"question_len\"] = df_squad_select[\"question\"].apply(lambda x: len(x.split()))\n",
    "print(\"mean question length\",df_squad_select[\"question_len\"].mean())\n",
    "print(\"meadian question length\",df_squad_select[\"question_len\"].median())\n",
    "\n",
    "sns.histplot(df_squad_select[\"question_len\"], bins=30, kde=True)\n",
    "plt.title('Distribution of Question Lengths for SQuAD Dataset')\n",
    "plt.xlabel('Text Length')\n",
    "plt.show()\n"
   ]
  },
  {
   "cell_type": "markdown",
   "id": "523d9daa",
   "metadata": {},
   "source": [
    "The length of the questions does not differ significantly between the news dataset and the SQuAD dataset."
   ]
  },
  {
   "cell_type": "code",
   "execution_count": 21,
   "id": "a8b0f8fc",
   "metadata": {
    "ExecuteTime": {
     "end_time": "2024-03-28T02:08:16.980325Z",
     "start_time": "2024-03-28T02:08:15.977090Z"
    }
   },
   "outputs": [
    {
     "name": "stdout",
     "output_type": "stream",
     "text": [
      "mean answer length 8.733333333333333\n",
      "meadian answer length 7.0\n"
     ]
    },
    {
     "data": {
      "image/png": "[encoded data removed]",
      "text/plain": [
       "<Figure size 640x480 with 1 Axes>"
      ]
     },
     "metadata": {},
     "output_type": "display_data"
    },
    {
     "name": "stdout",
     "output_type": "stream",
     "text": [
      "mean answer length 2.8794574933434767\n",
      "meadian answer length 2.0\n"
     ]
    },
    {
     "data": {
      "image/png": "[encoded data removed]",
      "text/plain": [
       "<Figure size 640x480 with 1 Axes>"
      ]
     },
     "metadata": {},
     "output_type": "display_data"
    }
   ],
   "source": [
    "df_news_qa[\"answer_len\"] = df_news_qa[\"answer_text\"].apply(lambda x: len(x.split()))\n",
    "print(\"mean answer length\",df_news_qa[\"answer_len\"].mean())\n",
    "print(\"meadian answer length\",df_news_qa[\"answer_len\"].median())\n",
    "\n",
    "sns.histplot(df_news_qa[\"answer_len\"], bins=30, kde=True)\n",
    "plt.title('Distribution of Answer Lengths for News Dataset')\n",
    "plt.xlabel('Text Length')\n",
    "plt.show()\n",
    "\n",
    "df_squad_select[\"answer_len\"] = df_squad_select[\"answer_text\"].apply(lambda x: len(x.split()))\n",
    "print(\"mean answer length\",df_squad_select[\"answer_len\"].mean())\n",
    "print(\"meadian answer length\",df_squad_select[\"answer_len\"].median())\n",
    "\n",
    "sns.histplot(df_squad_select[\"answer_len\"], bins=30, kde=True)\n",
    "plt.title('Distribution of Answer Lengths for SQuAD Dataset')\n",
    "plt.xlabel('Text Length')\n",
    "plt.show()\n"
   ]
  },
  {
   "cell_type": "markdown",
   "id": "da493286",
   "metadata": {},
   "source": [
    "It can be confirmed that there is a significant difference in the length of answers between the news dataset and the SQuAD dataset. This is because the news dataset mainly consists of sentence-based answers, whereas the SQuAD dataset consists of word or phrase-based answers, leading to the disparity."
   ]
  },
  {
   "cell_type": "markdown",
   "id": "8117992b",
   "metadata": {
    "ExecuteTime": {
     "end_time": "2024-03-21T09:45:01.140240Z",
     "start_time": "2024-03-21T09:45:01.123536Z"
    }
   },
   "source": [
    "### 2.3. Analyse Initial Place Names"
   ]
  },
  {
   "cell_type": "code",
   "execution_count": 22,
   "id": "9962eae0",
   "metadata": {
    "ExecuteTime": {
     "end_time": "2024-03-28T02:08:23.941684Z",
     "start_time": "2024-03-28T02:08:16.983583Z"
    }
   },
   "outputs": [],
   "source": [
    "nlp_coref = spacy.load(\"en_core_web_trf\")"
   ]
  },
  {
   "cell_type": "code",
   "execution_count": 23,
   "id": "f061e8a2",
   "metadata": {
    "ExecuteTime": {
     "end_time": "2024-03-28T02:08:24.019868Z",
     "start_time": "2024-03-28T02:08:23.995290Z"
    }
   },
   "outputs": [],
   "source": [
    "def header_place_checker(text):\n",
    "    \n",
    "    doc = nlp(text)\n",
    "    if len(doc.ents)==0:\n",
    "        return None\n",
    "\n",
    "    else:\n",
    "        header_word = text.split()[0]\n",
    "        if doc.ents[0].text == header_word:\n",
    "\n",
    "            return doc.ents[0].label_\n",
    "        else:\n",
    "            return None\n",
    "\n",
    "def is_header_uppercase(text):\n",
    "    header_word = text.split()[0]\n",
    "    if header_word.isupper():\n",
    "        return \"1\"\n",
    "    else:\n",
    "        return \"0\""
   ]
  },
  {
   "cell_type": "code",
   "execution_count": null,
   "id": "1f96d47c",
   "metadata": {},
   "outputs": [],
   "source": [
    "# News dataset"
   ]
  },
  {
   "cell_type": "code",
   "execution_count": 24,
   "id": "a1032a8b",
   "metadata": {
    "ExecuteTime": {
     "end_time": "2024-03-28T02:08:30.043334Z",
     "start_time": "2024-03-28T02:08:24.021875Z"
    },
    "scrolled": true
   },
   "outputs": [],
   "source": [
    "df_news_qa[\"ent_label\"] = df_news_qa[\"context\"].apply(lambda x: header_place_checker(x))\n",
    "df_news_qa[\"header_upper_flg\"] = df_news_qa[\"context\"].apply(lambda x: is_header_uppercase(x))"
   ]
  },
  {
   "cell_type": "code",
   "execution_count": 26,
   "id": "b60cc8f6",
   "metadata": {
    "ExecuteTime": {
     "end_time": "2024-03-28T02:08:30.240659Z",
     "start_time": "2024-03-28T02:08:30.193244Z"
    }
   },
   "outputs": [
    {
     "data": {
      "text/html": [
       "<div>\n",
       "<style scoped>\n",
       "    .dataframe tbody tr th:only-of-type {\n",
       "        vertical-align: middle;\n",
       "    }\n",
       "\n",
       "    .dataframe tbody tr th {\n",
       "        vertical-align: top;\n",
       "    }\n",
       "\n",
       "    .dataframe thead th {\n",
       "        text-align: right;\n",
       "    }\n",
       "</style>\n",
       "<table border=\"1\" class=\"dataframe\">\n",
       "  <thead>\n",
       "    <tr style=\"text-align: right;\">\n",
       "      <th></th>\n",
       "      <th>ent_label</th>\n",
       "      <th>context</th>\n",
       "    </tr>\n",
       "  </thead>\n",
       "  <tbody>\n",
       "    <tr>\n",
       "      <th>1</th>\n",
       "      <td>GPE</td>\n",
       "      <td>HOUSTON  ?   There was the game on the field, ...</td>\n",
       "    </tr>\n",
       "    <tr>\n",
       "      <th>5</th>\n",
       "      <td>GPE</td>\n",
       "      <td>MOSCOW  ?   All died far from the front lines ...</td>\n",
       "    </tr>\n",
       "    <tr>\n",
       "      <th>7</th>\n",
       "      <td>GPE</td>\n",
       "      <td>WASHINGTON  ?   The chiefs of America?s intell...</td>\n",
       "    </tr>\n",
       "    <tr>\n",
       "      <th>11</th>\n",
       "      <td>GPE</td>\n",
       "      <td>WASHINGTON  ?   The Trump administration is pr...</td>\n",
       "    </tr>\n",
       "    <tr>\n",
       "      <th>12</th>\n",
       "      <td>ORG</td>\n",
       "      <td>MODERN homes today are getting   light bulbs, ...</td>\n",
       "    </tr>\n",
       "    <tr>\n",
       "      <th>15</th>\n",
       "      <td>ORG</td>\n",
       "      <td>ISTANBUL  ?   Turkish officials accused the Un...</td>\n",
       "    </tr>\n",
       "    <tr>\n",
       "      <th>18</th>\n",
       "      <td>ORG</td>\n",
       "      <td>OTTAWA  ?   It was 7 a. m. and 99 passengers a...</td>\n",
       "    </tr>\n",
       "    <tr>\n",
       "      <th>26</th>\n",
       "      <td>GPE</td>\n",
       "      <td>WASHINGTON  ?   It was supposed to be a triump...</td>\n",
       "    </tr>\n",
       "    <tr>\n",
       "      <th>27</th>\n",
       "      <td>GPE</td>\n",
       "      <td>WASHINGTON  ?   Smartphone users in Russia can...</td>\n",
       "    </tr>\n",
       "  </tbody>\n",
       "</table>\n",
       "</div>"
      ],
      "text/plain": [
       "   ent_label                                            context\n",
       "1        GPE  HOUSTON  ?   There was the game on the field, ...\n",
       "5        GPE  MOSCOW  ?   All died far from the front lines ...\n",
       "7        GPE  WASHINGTON  ?   The chiefs of America?s intell...\n",
       "11       GPE  WASHINGTON  ?   The Trump administration is pr...\n",
       "12       ORG  MODERN homes today are getting   light bulbs, ...\n",
       "15       ORG  ISTANBUL  ?   Turkish officials accused the Un...\n",
       "18       ORG  OTTAWA  ?   It was 7 a. m. and 99 passengers a...\n",
       "26       GPE  WASHINGTON  ?   It was supposed to be a triump...\n",
       "27       GPE  WASHINGTON  ?   Smartphone users in Russia can..."
      ]
     },
     "execution_count": 26,
     "metadata": {},
     "output_type": "execute_result"
    }
   ],
   "source": [
    "df_news_qa[(df_news_qa[\"header_upper_flg\"]==\"1\")&\n",
    "                  (df_news_qa[\"ent_label\"].notnull())\n",
    "                 ][[\"ent_label\",\"context\"]]"
   ]
  },
  {
   "cell_type": "markdown",
   "id": "0e344bc4",
   "metadata": {},
   "source": [
    "It is evindent that the beginning of some news dataset starts with with a place name.\n",
    "In named entity recognition (NER), it can be confirmed that the place names at the beginning of articles are classified as 'GPE' (Geo-Political Entity) and 'ORG' (Organization).\n",
    "The initial place names are considered to have no relevance to the question and answer, and thus, they are excluded."
   ]
  },
  {
   "cell_type": "code",
   "execution_count": null,
   "id": "067e5cf0",
   "metadata": {},
   "outputs": [],
   "source": [
    "# SQuAD dataset"
   ]
  },
  {
   "cell_type": "code",
   "execution_count": 27,
   "id": "341faec7",
   "metadata": {
    "ExecuteTime": {
     "end_time": "2024-03-28T02:38:28.368715Z",
     "start_time": "2024-03-28T02:08:30.246669Z"
    }
   },
   "outputs": [],
   "source": [
    "df_squad_select[\"ent_label\"] = df_squad_select[\"context\"].apply(lambda x: header_place_checker(x))\n",
    "df_squad_select[\"header_upper_flg\"] = df_squad_select[\"context\"].apply(lambda x: is_header_uppercase(x))"
   ]
  },
  {
   "cell_type": "code",
   "execution_count": 178,
   "id": "af0a70ca",
   "metadata": {
    "ExecuteTime": {
     "end_time": "2024-03-28T08:08:11.476885Z",
     "start_time": "2024-03-28T08:08:11.452985Z"
    }
   },
   "outputs": [
    {
     "data": {
      "text/html": [
       "<div>\n",
       "<style scoped>\n",
       "    .dataframe tbody tr th:only-of-type {\n",
       "        vertical-align: middle;\n",
       "    }\n",
       "\n",
       "    .dataframe tbody tr th {\n",
       "        vertical-align: top;\n",
       "    }\n",
       "\n",
       "    .dataframe thead th {\n",
       "        text-align: right;\n",
       "    }\n",
       "</style>\n",
       "<table border=\"1\" class=\"dataframe\">\n",
       "  <thead>\n",
       "    <tr style=\"text-align: right;\">\n",
       "      <th></th>\n",
       "      <th>ent_label</th>\n",
       "      <th>context</th>\n",
       "    </tr>\n",
       "  </thead>\n",
       "  <tbody>\n",
       "    <tr>\n",
       "      <th>2516</th>\n",
       "      <td>ORG</td>\n",
       "      <td>BMW released the first iPod automobile interfa...</td>\n",
       "    </tr>\n",
       "    <tr>\n",
       "      <th>8806</th>\n",
       "      <td>ORG</td>\n",
       "      <td>CDO issuance grew from an estimated $20 billio...</td>\n",
       "    </tr>\n",
       "    <tr>\n",
       "      <th>9553</th>\n",
       "      <td>ORG</td>\n",
       "      <td>EPN is known for research and education in the...</td>\n",
       "    </tr>\n",
       "    <tr>\n",
       "      <th>9559</th>\n",
       "      <td>ORG</td>\n",
       "      <td>MIT raises funds from non-governmental organiz...</td>\n",
       "    </tr>\n",
       "    <tr>\n",
       "      <th>10906</th>\n",
       "      <td>ORG</td>\n",
       "      <td>BBC Japan was a general entertainment channel,...</td>\n",
       "    </tr>\n",
       "    <tr>\n",
       "      <th>...</th>\n",
       "      <td>...</td>\n",
       "      <td>...</td>\n",
       "    </tr>\n",
       "    <tr>\n",
       "      <th>73323</th>\n",
       "      <td>ORG</td>\n",
       "      <td>IBM also had their own DBMS in 1966, known as ...</td>\n",
       "    </tr>\n",
       "    <tr>\n",
       "      <th>73357</th>\n",
       "      <td>ORG</td>\n",
       "      <td>IBM started working on a prototype system loos...</td>\n",
       "    </tr>\n",
       "    <tr>\n",
       "      <th>73370</th>\n",
       "      <td>ORG</td>\n",
       "      <td>\\nXML databases are a type of structured docum...</td>\n",
       "    </tr>\n",
       "    <tr>\n",
       "      <th>75274</th>\n",
       "      <td>GPE</td>\n",
       "      <td>U.S. submarines, as well as some British and D...</td>\n",
       "    </tr>\n",
       "    <tr>\n",
       "      <th>75278</th>\n",
       "      <td>GPE</td>\n",
       "      <td>U.S. submarines accounted for 56% of the Japan...</td>\n",
       "    </tr>\n",
       "  </tbody>\n",
       "</table>\n",
       "<p>81 rows × 2 columns</p>\n",
       "</div>"
      ],
      "text/plain": [
       "      ent_label                                            context\n",
       "2516        ORG  BMW released the first iPod automobile interfa...\n",
       "8806        ORG  CDO issuance grew from an estimated $20 billio...\n",
       "9553        ORG  EPN is known for research and education in the...\n",
       "9559        ORG  MIT raises funds from non-governmental organiz...\n",
       "10906       ORG  BBC Japan was a general entertainment channel,...\n",
       "...         ...                                                ...\n",
       "73323       ORG  IBM also had their own DBMS in 1966, known as ...\n",
       "73357       ORG  IBM started working on a prototype system loos...\n",
       "73370       ORG  \\nXML databases are a type of structured docum...\n",
       "75274       GPE  U.S. submarines, as well as some British and D...\n",
       "75278       GPE  U.S. submarines accounted for 56% of the Japan...\n",
       "\n",
       "[81 rows x 2 columns]"
      ]
     },
     "execution_count": 178,
     "metadata": {},
     "output_type": "execute_result"
    }
   ],
   "source": [
    "df_squad_select[(df_squad_select[\"header_upper_flg\"]==\"1\")&\n",
    "                   (df_squad_select[\"ent_label\"].notnull())\n",
    "                  ][[\"ent_label\",\"context\"]].drop_duplicates()"
   ]
  },
  {
   "cell_type": "markdown",
   "id": "b7e57cf8",
   "metadata": {
    "ExecuteTime": {
     "end_time": "2024-03-28T08:07:57.196258Z",
     "start_time": "2024-03-28T08:07:57.132457Z"
    }
   },
   "source": [
    "It is evident that place names in the SQuAD dataset are less likely to appear at the beginning of articles."
   ]
  },
  {
   "cell_type": "markdown",
   "id": "6889838e",
   "metadata": {},
   "source": [
    "### 2.4. Analyse Pronoun Proportion "
   ]
  },
  {
   "cell_type": "code",
   "execution_count": 29,
   "id": "9a660767",
   "metadata": {
    "ExecuteTime": {
     "end_time": "2024-03-28T02:38:28.468760Z",
     "start_time": "2024-03-28T02:38:28.449846Z"
    }
   },
   "outputs": [],
   "source": [
    "def count_pronouns(text):\n",
    "    doc = nlp(text)\n",
    "    pronoun_count = sum(1 for token in doc if token.pos_ == \"PRON\")\n",
    "    return pronoun_count\n"
   ]
  },
  {
   "cell_type": "code",
   "execution_count": 30,
   "id": "705035ec",
   "metadata": {
    "ExecuteTime": {
     "end_time": "2024-03-28T02:38:33.382058Z",
     "start_time": "2024-03-28T02:38:28.470858Z"
    }
   },
   "outputs": [],
   "source": [
    "df_news_qa[\"cnt_pron\"] = df_news_qa[\"context\"].apply(lambda x: count_pronouns(x))\n",
    "df_news_qa[\"cnt_words\"] = df_news_qa[\"context\"].apply(lambda x: len(x.split()))\n",
    "df_news_qa[\"pron_rate\"] = df_news_qa[\"cnt_pron\"]/df_news_qa[\"cnt_words\"]"
   ]
  },
  {
   "cell_type": "code",
   "execution_count": 31,
   "id": "7a22f267",
   "metadata": {
    "ExecuteTime": {
     "end_time": "2024-03-28T02:38:33.657433Z",
     "start_time": "2024-03-28T02:38:33.382058Z"
    }
   },
   "outputs": [
    {
     "name": "stdout",
     "output_type": "stream",
     "text": [
      "mean 0.06391417537567784\n",
      "median 0.0563121443649289\n"
     ]
    },
    {
     "data": {
      "image/png": "[encoded data removed]",
      "text/plain": [
       "<Figure size 640x480 with 1 Axes>"
      ]
     },
     "metadata": {},
     "output_type": "display_data"
    }
   ],
   "source": [
    "print(\"mean\",df_news_qa[\"pron_rate\"].mean())\n",
    "print(\"median\",df_news_qa[\"pron_rate\"].median())\n",
    "\n",
    "sns.histplot(df_news_qa[\"pron_rate\"], bins=10, kde=True)\n",
    "plt.title('Pronoun Rate for News Dataset')\n",
    "plt.xlabel('Text Length')\n",
    "plt.show()\n"
   ]
  },
  {
   "cell_type": "code",
   "execution_count": 32,
   "id": "e9b7c228",
   "metadata": {
    "ExecuteTime": {
     "end_time": "2024-03-28T03:07:30.444805Z",
     "start_time": "2024-03-28T02:38:33.657433Z"
    }
   },
   "outputs": [],
   "source": [
    "df_squad_select[\"cnt_pron\"] = df_squad_select[\"context\"].apply(lambda x: count_pronouns(x))\n",
    "df_squad_select[\"cnt_words\"] = df_squad_select[\"context\"].apply(lambda x: len(x.split()))\n",
    "df_squad_select[\"pron_rate\"] = df_squad_select[\"cnt_pron\"]/df_squad_select[\"cnt_words\"]"
   ]
  },
  {
   "cell_type": "code",
   "execution_count": 33,
   "id": "1ec33fb0",
   "metadata": {
    "ExecuteTime": {
     "end_time": "2024-03-28T03:07:31.469344Z",
     "start_time": "2024-03-28T03:07:30.453460Z"
    }
   },
   "outputs": [
    {
     "name": "stdout",
     "output_type": "stream",
     "text": [
      "mean 0.0316841546767274\n",
      "median 0.0273224043715847\n"
     ]
    },
    {
     "data": {
      "image/png": "[encoded data removed]",
      "text/plain": [
       "<Figure size 640x480 with 1 Axes>"
      ]
     },
     "metadata": {},
     "output_type": "display_data"
    }
   ],
   "source": [
    "print(\"mean\",df_squad_select[\"pron_rate\"].mean())\n",
    "print(\"median\",df_squad_select[\"pron_rate\"].median())\n",
    "\n",
    "\n",
    "sns.histplot(df_squad_select[\"pron_rate\"], bins=10, kde=True)\n",
    "plt.title('Pronoun Rate for SQuAD Dataset')\n",
    "plt.xlabel('Text Length')\n",
    "plt.show()\n"
   ]
  },
  {
   "cell_type": "markdown",
   "id": "2c67efde",
   "metadata": {
    "ExecuteTime": {
     "end_time": "2024-03-28T08:14:02.480719Z",
     "start_time": "2024-03-28T08:14:02.434659Z"
    }
   },
   "source": [
    "It can be confirmed that the proportion of pronouns is higher in the news dataset compared to the SQuAD dataset. When coreference resolution is performed, it can be anticipated that the accuracy would be more affected in the news dataset.\n",
    "Given the potential difficulties in interpreting sentences due to pronouns, coreference resolution is employed to address the challenges associated with pronouns."
   ]
  },
  {
   "cell_type": "markdown",
   "id": "af9c199b",
   "metadata": {
    "ExecuteTime": {
     "end_time": "2024-03-28T03:07:31.483286Z",
     "start_time": "2024-03-28T03:07:31.472648Z"
    }
   },
   "source": [
    "### 2.5. Comparison between original articles and samples from the news dataset."
   ]
  },
  {
   "cell_type": "code",
   "execution_count": 37,
   "id": "a086edda",
   "metadata": {
    "ExecuteTime": {
     "end_time": "2024-03-28T03:07:31.559682Z",
     "start_time": "2024-03-28T03:07:31.552483Z"
    }
   },
   "outputs": [
    {
     "name": "stdout",
     "output_type": "stream",
     "text": [
      "★★sample news1 - dataset★★\n"
     ]
    },
    {
     "data": {
      "text/plain": [
       "'At least six members of the Super   New England Patriots have said they will not visit the White House for the traditional meeting that championship teams have with the president. Running back LeGarrette Blount, defensive end Chris Long and defensive tackle Alan Branch on Thursday became the latest to announce that they would skip the visit. Long posted on Twitter that he ?planned on skipping? in response to a column in The Daily News that urged him to skip. Blount revealed his decision on Fox Sports in a radio interview on ?The Rich Eisen Show? later in the afternoon. ?I just don?t feel welcome in that house,? Blount said. ?I?m going to just leave it at that. ? Branch told Sirius XM Radio that he planned to spend time with family. A day earlier, the Pro Bowl linebacker Dont?a Hightower bowed out when he told ESPN, ?Been there, done that,? having visited with a championship Alabama team. Tight end Martellus Bennett told reporters after the Super Bowl that he would not go: ?It is what it is,? he said. ?People know how I feel about it. Just follow me on Twitter. ? The outspoken Bennett had joked that he might move to outer space after Donald J. Trump was elected. The Pro Bowl safety Devin McCourty, a team captain,  told Time magazine: ?Basic reason for me is I don?t feel accepted in the White House. With the president having so many strong opinions and prejudices, I believe certain people might feel accepted there while others won?t. ? Bennett and McCourty were in the news for their activism last fall, when they raised their fists in protest during the national anthem for one game. At the time, athletes in various sports were protesting racial oppression in the country. The number of Patriots absences may well increase. Running back James White said he had not made up his mind whether to go. ?I?ll wait till the time comes and decide then,? he said. No date has been scheduled for this year?s ceremony honoring the Patriots. The ceremony for last year?s champions, the Broncos, took place in June. Perhaps no other team has as close an association with Trump as the Patriots. Just before the election, Trump claimed that he had the support of Patriots quarterback Tom Brady and Coach Bill Belichick. Brady, who displayed a ?Make America Great Again? cap in his locker during the campaign, never explicitly endorsed Trump, but he spoke favorably of him and they have socialized. Trump also cited a supportive letter he had received from Belichick, and several news media accounts confirmed the letter was authentic. The team?s owner, Robert K. Kraft, has said he has considered Trump a longtime friend. Brady did not attend his team?s visit with former President Barack Obama at the White House, in 2015, citing family issues. But some athletes who have skipped the trip over the years have explicitly given politics as a reason. Bruins goalie Tim Thomas declined to visit the Obama White House with his teammates in January 2012, saying in a statement: ?I believe the federal government has grown out of control, threatening the rights, liberties and property of the people. ?Because I believe this, today I exercised my right as a free citizen, and did not visit the White House. ? Baltimore Ravens center Matt Birk cited his opposition to abortion as the reason for skipping a 2013 visit. A number of other athletes have skipped the ceremony while citing scheduling conflicts or family commitments. Presidents for years have invited sports figures to the White House, but the tradition of honoring championships teams there solidified under Ronald Reagan. Major professional champions and many college champions stop by for a presentation and a photo opportunity. Six Patriots, so far, won?t make the trip this year.'"
      ]
     },
     "metadata": {},
     "output_type": "display_data"
    }
   ],
   "source": [
    "print(\"★★sample news1 - dataset★★\")\n",
    "display(df_news_qa[\"context\"][0])"
   ]
  },
  {
   "cell_type": "markdown",
   "id": "55e7dd08",
   "metadata": {},
   "source": [
    "★★sample news1 - original sentence★★   \n",
    "https://www.nytimes.com/2017/02/08/sports/football/new-england-patriots-white-house-visit-donald-trump.html"
   ]
  },
  {
   "cell_type": "markdown",
   "id": "3fdc9c4d",
   "metadata": {
    "ExecuteTime": {
     "end_time": "2024-03-21T12:25:03.807641Z",
     "start_time": "2024-03-21T12:25:03.789328Z"
    }
   },
   "source": [
    "At least six members of the Super Bowl-winning New England Patriots have said they will not visit the White House for the traditional meeting that championship teams have with the president. Running back LeGarrette Blount, defensive end Chris Long and defensive tackle Alan Branch on Thursday became the latest to announce that they would skip the visit. Long posted on Twitter that he “planned on skipping” in response to a column in The Daily News that urged him to skip. Blount revealed his decision on Fox Sports in a radio interview on “The Rich Eisen Show” later in the afternoon. “I just don’t feel welcome in that house,” Blount said. “I’m going to just leave it at that.” Branch told Sirius XM Radio that he planned to spend time with family. A day earlier, the Pro Bowl linebacker Dont’a Hightower bowed out when he told ESPN, “Been there, done that,” having visited with a championship Alabama team. Tight end Martellus Bennett told reporters after the Super Bowl that he would not go: “It is what it is,” he said. “People know how I feel about it. Just follow me on Twitter.” The outspoken Bennett had joked that he might move to outer space after Donald J. Trump was elected. The Pro Bowl safety Devin McCourty, a team captain, told Time magazine: “Basic reason for me is I don’t feel accepted in the White House. With the president having so many strong opinions and prejudices, I believe certain people might feel accepted there while others won’t.” Bennett and McCourty were in the news for their activism last fall, when they raised their fists in protest during the national anthem for one game. At the time, athletes in various sports were protesting racial oppression in the country. The number of Patriots absences may well increase. Running back James White said he had not made up his mind whether to go. “I’ll wait till the time comes and decide then,” he said. No date has been scheduled for this year’s ceremony honoring the Patriots. The ceremony for last year’s champions, the Broncos, took place in June. Perhaps no other team has as close an association with Trump as the Patriots. Just before the election, Trump claimed that he had the support of Patriots quarterback Tom Brady and Coach Bill Belichick. Brady, who displayed a “Make America Great Again” cap in his locker during the campaign, never explicitly endorsed Trump, but he spoke favorably of him and they have socialized. Trump also cited a supportive letter he had received from Belichick, and several news media accounts confirmed the letter was authentic. The team’s owner, Robert K. Kraft, has said he has considered Trump a longtime friend. Brady did not attend his team’s visit with former President Barack Obama at the White House, in 2015, citing family issues. But some athletes who have skipped the trip over the years have explicitly given politics as a reason. Bruins goalie Tim Thomas declined to visit the Obama White House with his teammates in January 2012, saying in a statement: “I believe the federal government has grown out of control, threatening the rights, liberties and property of the people. Because I believe this, today I exercised my right as a free citizen, and did not visit the White House.” Baltimore Ravens center Matt Birk cited his opposition to abortion as the reason for skipping a 2013 visit. A number of other athletes have skipped the ceremony while citing scheduling conflicts or family commitments. Presidents for years have invited sports figures to the White House, but the tradition of honoring championships teams there solidified under Ronald Reagan. Major professional champions and many college champions stop by for a presentation and a photo opportunity. Six Patriots, so far, won’t make the trip this year."
   ]
  },
  {
   "cell_type": "code",
   "execution_count": 38,
   "id": "979553e0",
   "metadata": {
    "ExecuteTime": {
     "end_time": "2024-03-28T03:07:31.569630Z",
     "start_time": "2024-03-28T03:07:31.562297Z"
    }
   },
   "outputs": [
    {
     "name": "stdout",
     "output_type": "stream",
     "text": [
      "★★sample news2 - dataset★★\n"
     ]
    },
    {
     "data": {
      "text/plain": [
       "'HOUSTON  ?   There was the game on the field, and there was the one watched through the political prism of these times. On social media, the Atlanta Falcons were not just the N. F. C. champions, they were   for   ferment, coming from a staunchly Democratic city and facing a Patriots team whose owner, head coach and starting quarterback are all friends with the president, to varying degrees. ?Falcons are fun and their biggest stars aren?t pro Trump,? JayZito wrote on Twitter. ?I?m a Falcons fan today. ? Not long before the game started, President Trump, in an interview on Fox, which was broadcasting the game, predicted a Patriot win by 8 points in part out of support for his friends. That prediction was the object of ridicule as Atlanta surged ahead, but then it ended up appearing prescient as the Patriots stormed back to win,   in the first Super Bowl overtime. Mr. Trump did not attend the game, opting for a traditional    party near his    vacation home in South Florida. (Social media users dissected a picture of Mr. Trump and his family not looking enthusiastic at a table there and took sometimes harsh note of Mr. Trump?s departure with nearly an hour and a half left in the game.) Vice President Mike Pence attended the game and drew some boos when he was shown on a stadium screen talking with James Baker, who served as secretary of state under former President George Bush. Mr. Bush did the opening coin toss from a wheelchair on the field, accompanied by the former first lady Barbara Bush. A succession of commercials with themes of inclusion, immigration and multiculturalism were seen by many viewers as commentary on Trump?s executive orders restricting immigration and his calls for a wall along the Mexican border. One commercial made by   follows the path of one of the company?s   Adolphus Busch, as he immigrated from Germany to the United States. The ad was criticized by some   commentators who created a hashtag, #BoycottBudweiser. The actor Morgan Freeman appeared in a commercial for Turkish Airlines, speaking about ?bridging worlds and finding delight in our differences. ? Before, during and after the game, people talked about an ad for the   company 84 Lumber that featured imagery of a Mexican mother and daughter on a journey north for a better life in the United States. The company deleted some scenes depicting a border wall but included the full ad on its website. The   website Breitbart News, in its live coverage of the game, grew exasperated. ?These commercials have been a bonanza of leftist activism: two immigration commercials, a feminist commercial, now an eco wacko commercial? Am I missing anything?? one of the editors wrote. About the only aspect of the game that generated a surprisingly more muted political discussion than expected was the one everybody seemed to think would cause a stir: the halftime show by Lady Gaga, a persistent critic of Mr. Trump. With a dash of patriotic imagery  ?   red and blue drones forming the shape of the United States  ?   she mostly stuck to her hits, with only a few gestures that some interpreted as subtle digs at the president. During her song ?Million Reasons? she hugged a woman of uncertain ethnicity and sang, ?Why don?t you stay,? a move that people on Twitter thought was a statement about race and immigration. The N. F. L. tried in its own way to unify the country for a few hours. Fans at the stadium were given small flags to wave during the singing of the national anthem, and when the teams ran onto the field, they were led by soldiers and sailors holding large American flags. The league even ran a   commercial called ?Inside These Lines? to show that ?the power of football? can ?bring people together. ? Still, outside the stadium it was another story. The president?s unabashed support for the Patriots turned into a punch line on social media when the Patriots fell behind by 25 points early in the second half. Some fans accused the president of jinxing the team. In Houston, hundreds of people protested the president and his policies near the stadium, crossing paths with thousands of fans heading to the game. Chants of ?Black Lives Matter? were applauded by Falcons fans. Similar protests took place last week near an N. F. L.  park downtown. Atlanta, the capital of a solidly red state, was suddenly adopted as a darling of   football fans. One commenter on Twitter joked, ?The Falcons respect an independent judiciary,? a dig at the president?s criticism of the federal judge in Seattle who temporarily halted the refugee ban. Some Patriots fans, uneasy with their team?s link to the president, encouraged fellow fans to donate to organizations like the N. A. A. C. P. and Planned Parenthood each time the Patriots scored. After the game, Martellus Bennett, a tight end for the Patriots, reiterated his vow not to attend the customary congratulatory ceremony at the White House, because he opposes Mr. Trump. Still, at the end Mr. Trump exulted, once again stoking support and derision. ?What an amazing comeback and win by the Patriots,?? he wrote on Twitter. ?Tom Brady, Bob Kraft and Coach B are total winners. Wow!?'"
      ]
     },
     "metadata": {},
     "output_type": "display_data"
    }
   ],
   "source": [
    "print(\"★★sample news2 - dataset★★\")\n",
    "display(df_news_qa[\"context\"][1])"
   ]
  },
  {
   "cell_type": "markdown",
   "id": "eadc7068",
   "metadata": {
    "ExecuteTime": {
     "end_time": "2024-03-21T12:32:09.160465Z",
     "start_time": "2024-03-21T12:32:09.149863Z"
    }
   },
   "source": [
    "★★sample news2 - original sentence★★   \n",
    "https://www.nytimes.com/2017/02/06/sports/football/super-bowl-trump-ads-atlanta.html"
   ]
  },
  {
   "cell_type": "markdown",
   "id": "b593b793",
   "metadata": {},
   "source": [
    "HOUSTON — There was the game on the field, and there was the one watched through the political prism of these times. On social media, the Atlanta Falcons were not just the N.F.C. champions, they were stand-ins for anti-Trump ferment, coming from a staunchly Democratic city and facing a Patriots team whose owner, head coach and starting quarterback are all friends with the president, to varying degrees. “Falcons are fun and their biggest stars aren’t pro Trump,” JayZito wrote on Twitter. “I’m a Falcons fan today.” Not long before the game started, President Trump, in an interview on Fox, which was broadcasting the game, predicted a Patriot win by 8 points in part out of support for his friends. That prediction was the object of ridicule as Atlanta surged ahead, but then it ended up appearing prescient as the Patriots stormed back to win, 34-28, in the first Super Bowl overtime. Mr. Trump did not attend the game, opting for a traditional Super-Bowl-watching party near his Mar-a-Lago vacation home in South Florida. (Social media users dissected a picture of Mr. Trump and his family not looking enthusiastic at a table there and took sometimes harsh note of Mr. Trump’s departure with nearly an hour and a half left in the game.) Vice President Mike Pence attended the game and drew some boos when he was shown on a stadium screen talking with James Baker, who served as secretary of state under former President George Bush. Mr. Bush did the opening coin toss from a wheelchair on the field, accompanied by the former first lady Barbara Bush. A succession of commercials with themes of inclusion, immigration and multiculturalism were seen by many viewers as commentary on Trump’s executive orders restricting immigration and his calls for a wall along the Mexican border. One commercial made by Anheuser-Busch follows the path of one of the company’s co-founders, Adolphus Busch, as he immigrated from Germany to the United States. The ad was criticized by some right-leaning commentators who created a hashtag, #BoycottBudweiser. The actor Morgan Freeman appeared in a commercial for Turkish Airlines, speaking about “bridging worlds and finding delight in our differences.” Before, during and after the game, people talked about an ad for the construction-supply company 84 Lumber that featured imagery of a Mexican mother and daughter on a journey north for a better life in the United States. The company deleted some scenes depicting a border wall but included the full ad on its website. The right-wing website Breitbart News, in its live coverage of the game, grew exasperated. “These commercials have been a bonanza of leftist activism: two immigration commercials, a feminist commercial, now an eco wacko commercial? Am I missing anything?” one of the editors wrote. About the only aspect of the game that generated a surprisingly more muted political discussion than expected was the one everybody seemed to think would cause a stir: the halftime show by Lady Gaga, a persistent critic of Mr. Trump. With a dash of patriotic imagery — red and blue drones forming the shape of the United States — she mostly stuck to her hits, with only a few gestures that some interpreted as subtle digs at the president. During her song “Million Reasons” she hugged a woman of uncertain ethnicity and sang, “Why don’t you stay,” a move that people on Twitter thought was a statement about race and immigration. The N.F.L. tried in its own way to unify the country for a few hours. Fans at the stadium were given small flags to wave during the singing of the national anthem, and when the teams ran onto the field, they were led by soldiers and sailors holding large American flags. The league even ran a 60-second commercial called “Inside These Lines” to show that “the power of football” can “bring people together.” Still, outside the stadium it was another story. The president’s unabashed support for the Patriots turned into a punch line on social media when the Patriots fell behind by 25 points early in the second half. Some fans accused the president of jinxing the team. In Houston, hundreds of people protested the president and his policies near the stadium, crossing paths with thousands of fans heading to the game. Chants of “Black Lives Matter” were applauded by Falcons fans. Similar protests took place last week near an N.F.L.-themed park downtown. Atlanta, the capital of a solidly red state, was suddenly adopted as a darling of left-leaning football fans. One commenter on Twitter joked, “The Falcons respect an independent judiciary,” a dig at the president’s criticism of the federal judge in Seattle who temporarily halted the refugee ban. Some Patriots fans, uneasy with their team’s link to the president, encouraged fellow fans to donate to organizations like the N.A.A.C.P. and Planned Parenthood each time the Patriots scored. After the game, Martellus Bennett, a tight end for the Patriots, reiterated his vow not to attend the customary congratulatory ceremony at the White House, because he opposes Mr. Trump. Still, at the end Mr. Trump exulted, once again stoking support and derision. “What an amazing comeback and win by the Patriots,’’ he wrote on Twitter. “Tom Brady, Bob Kraft and Coach B are total winners. Wow!”"
   ]
  },
  {
   "cell_type": "markdown",
   "id": "4d8aa5de",
   "metadata": {
    "ExecuteTime": {
     "end_time": "2024-03-28T03:07:31.596618Z",
     "start_time": "2024-03-28T03:07:31.593580Z"
    }
   },
   "source": [
    "It can be confirmed that single quotation marks, double quotation marks, dashes, etc., are being converted to question marks.\n",
    "\n",
    "In preprocessing, the following actions are taken:\n",
    "- Single quotation marks → Apostrophes like 'xxx's' need to be complemented.\n",
    "- Double quotation marks → Excluded.\n",
    "- Dashes → Excluded.\n",
    "\n",
    "Additionally, there are spaces and periods between each character of acronyms. To recognize them as a single acronym during tokenization, the spaces and periods between acronyms are excluded."
   ]
  },
  {
   "cell_type": "markdown",
   "id": "cba57599",
   "metadata": {},
   "source": [
    "For the SQuAD dataset, only sample in the dataset is displayed. It don't seem to be any issues in the samples."
   ]
  },
  {
   "cell_type": "code",
   "execution_count": 36,
   "id": "fa52a407",
   "metadata": {
    "ExecuteTime": {
     "end_time": "2024-03-28T03:07:31.549604Z",
     "start_time": "2024-03-28T03:07:31.539704Z"
    }
   },
   "outputs": [
    {
     "name": "stdout",
     "output_type": "stream",
     "text": [
      "★★sample SQuAD1★★\n"
     ]
    },
    {
     "data": {
      "text/plain": [
       "'Architecturally, the school has a Catholic character. Atop the Main Building\\'s gold dome is a golden statue of the Virgin Mary. Immediately in front of the Main Building and facing it, is a copper statue of Christ with arms upraised with the legend \"Venite Ad Me Omnes\". Next to the Main Building is the Basilica of the Sacred Heart. Immediately behind the basilica is the Grotto, a Marian place of prayer and reflection. It is a replica of the grotto at Lourdes, France where the Virgin Mary reputedly appeared to Saint Bernadette Soubirous in 1858. At the end of the main drive (and in a direct line that connects through 3 statues and the Gold Dome), is a simple, modern stone statue of Mary.'"
      ]
     },
     "metadata": {},
     "output_type": "display_data"
    },
    {
     "name": "stdout",
     "output_type": "stream",
     "text": [
      "---------------------\n",
      "★★sample SQuAD2★★\n"
     ]
    },
    {
     "data": {
      "text/plain": [
       "'Architecturally, the school has a Catholic character. Atop the Main Building\\'s gold dome is a golden statue of the Virgin Mary. Immediately in front of the Main Building and facing it, is a copper statue of Christ with arms upraised with the legend \"Venite Ad Me Omnes\". Next to the Main Building is the Basilica of the Sacred Heart. Immediately behind the basilica is the Grotto, a Marian place of prayer and reflection. It is a replica of the grotto at Lourdes, France where the Virgin Mary reputedly appeared to Saint Bernadette Soubirous in 1858. At the end of the main drive (and in a direct line that connects through 3 statues and the Gold Dome), is a simple, modern stone statue of Mary.'"
      ]
     },
     "metadata": {},
     "output_type": "display_data"
    }
   ],
   "source": [
    "print(\"★★sample SQuAD1★★\")\n",
    "display(df_squad_select[\"context\"][0])\n",
    "\n",
    "print(\"---------------------\")\n",
    "print(\"★★sample SQuAD2★★\")\n",
    "display(df_squad_select[\"context\"][1])\n"
   ]
  },
  {
   "cell_type": "markdown",
   "id": "75c04ba3",
   "metadata": {},
   "source": [
    "### 2.6. Key findings for subsequent preprocessing"
   ]
  },
  {
   "cell_type": "markdown",
   "id": "7d66a16e",
   "metadata": {},
   "source": [
    "\n",
    "- Imputation of missing values is unnecessary. (According to 2.1)\n",
    "- Use only context with over 300 words from the SQuAD dataset. (According to 2.2)\n",
    "- Exclude initial place names from the news dataset. (According to 2.3)\n",
    "- Replace pronouns through Coreference Resolution. (According to 2.4)\n",
    "- Tidy question marks. (According to 2.5)\n",
    "- Exclude period and space from acronym. (According to 2.5)"
   ]
  },
  {
   "cell_type": "markdown",
   "id": "9525e5e4",
   "metadata": {},
   "source": [
    "### 3. Preprocessing"
   ]
  },
  {
   "cell_type": "markdown",
   "id": "5dc0a59c",
   "metadata": {},
   "source": [
    "### 3.1. Exclude data point where the word length is less than or equal to 300 from the SQuAD dataset"
   ]
  },
  {
   "cell_type": "code",
   "execution_count": 41,
   "id": "4f7ed975",
   "metadata": {
    "ExecuteTime": {
     "end_time": "2024-03-28T03:07:31.798454Z",
     "start_time": "2024-03-28T03:07:31.606950Z"
    }
   },
   "outputs": [
    {
     "data": {
      "text/plain": [
       "(537, 15)"
      ]
     },
     "execution_count": 41,
     "metadata": {},
     "output_type": "execute_result"
    }
   ],
   "source": [
    "df_squad_prep = df_squad_select.copy()[df_squad_select[\"context_len\"]>300]\n",
    "df_squad_prep.shape"
   ]
  },
  {
   "cell_type": "markdown",
   "id": "43ecd9de",
   "metadata": {},
   "source": [
    "### 3.2. Exclude initial place names from the news dataset"
   ]
  },
  {
   "cell_type": "code",
   "execution_count": 42,
   "id": "7013d122",
   "metadata": {
    "ExecuteTime": {
     "end_time": "2024-03-28T03:07:31.821000Z",
     "start_time": "2024-03-28T03:07:31.800463Z"
    }
   },
   "outputs": [],
   "source": [
    "cnt_remove_place=0\n",
    "def remove_place_header(text):\n",
    "    global cnt_remove_place\n",
    "    if cnt_remove_place % 100 == 0:\n",
    "        print(\"count\",cnt_remove_place)\n",
    "    cnt_remove_place+=1\n",
    "\n",
    "    doc_ner = nlp(text)\n",
    "\n",
    "    # Exclude consecutive geographical names at the beginning. For example, exclude \"SEOUL, South Korea\". \n",
    "    if (doc_ner.ents[0].label_ in [\"ORG\",\"GPE\"]) and (doc_ner.ents[1].label_ in [\"ORG\",\"GPE\"]):\n",
    "        text = re.sub(f'^({doc_ner.ents[0]}|{doc_ner.ents[1]}|[\\s\\,\\. ])+\\? +', \"\",text)\n",
    "\n",
    "    # Exclude standalone geographical names at the beginning. For example, exclude \"SEOUL\".\n",
    "    if doc_ner.ents[0].label_ in [\"ORG\",\"GPE\"]:\n",
    "        text = re.sub(f'^({doc_ner.ents[0]}|[\\s\\,\\. ])+\\? +', \"\",text)\n",
    "\n",
    "    return text"
   ]
  },
  {
   "cell_type": "code",
   "execution_count": 43,
   "id": "fc87042b",
   "metadata": {
    "ExecuteTime": {
     "end_time": "2024-03-28T03:07:37.601892Z",
     "start_time": "2024-03-28T03:07:31.823012Z"
    }
   },
   "outputs": [
    {
     "name": "stdout",
     "output_type": "stream",
     "text": [
      "count 0\n"
     ]
    }
   ],
   "source": [
    "df_news_qa_prep = df_news_qa.copy()\n",
    "df_news_qa_prep[\"context\"] = df_news_qa_prep[\"context\"].apply(lambda x: remove_place_header(x))"
   ]
  },
  {
   "cell_type": "markdown",
   "id": "e7090c9e",
   "metadata": {},
   "source": [
    "### 3.3. Tidy Question Mark"
   ]
  },
  {
   "cell_type": "code",
   "execution_count": 44,
   "id": "e021a2ac",
   "metadata": {
    "ExecuteTime": {
     "end_time": "2024-03-28T03:07:37.612497Z",
     "start_time": "2024-03-28T03:07:37.603901Z"
    }
   },
   "outputs": [],
   "source": [
    "cnt_clean_question_mark=0\n",
    "def clean_question_mark(text):\n",
    "    global cnt_clean_question_mark\n",
    "    if cnt_clean_question_mark % 100 == 0:\n",
    "        print(\"count\",cnt_clean_question_mark)\n",
    "    cnt_clean_question_mark+=1\n",
    "\n",
    "    text = re.sub(\"I\\?m\",\"I'm\",text)\n",
    "    text = re.sub(\"n\\?t\",\"n't\",text)\n",
    "    text = re.sub(\"([A-Za-z])\\?(s|re|ve|ll|d)\",\"\\\\1'\\\\2\",text)\n",
    "    text = text.replace(\"?\",\"\")\n",
    "    \n",
    "    return text"
   ]
  },
  {
   "cell_type": "code",
   "execution_count": 45,
   "id": "ae37f783",
   "metadata": {
    "ExecuteTime": {
     "end_time": "2024-03-28T03:07:37.627840Z",
     "start_time": "2024-03-28T03:07:37.614847Z"
    }
   },
   "outputs": [
    {
     "name": "stdout",
     "output_type": "stream",
     "text": [
      "count 0\n"
     ]
    }
   ],
   "source": [
    "df_news_qa_prep[\"context\"] = df_news_qa_prep[\"context\"].apply(lambda x: clean_question_mark(x))"
   ]
  },
  {
   "cell_type": "markdown",
   "id": "2bfc0302",
   "metadata": {},
   "source": [
    "### 3.4 Exclude Period and Space from acronym"
   ]
  },
  {
   "cell_type": "code",
   "execution_count": 46,
   "id": "c92a064e",
   "metadata": {
    "ExecuteTime": {
     "end_time": "2024-03-28T03:07:37.644606Z",
     "start_time": "2024-03-28T03:07:37.629989Z"
    }
   },
   "outputs": [],
   "source": [
    "cnt_tidy_acronym=0\n",
    "def tidy_acronym(text):\n",
    "    global cnt_tidy_acronym\n",
    "    if cnt_tidy_acronym % 100 == 0:\n",
    "        print(\"count\",cnt_tidy_acronym)\n",
    "    cnt_tidy_acronym+=1\n",
    "    # Tidy acronym\n",
    "    while re.search(\"([A-Z]\\. ){2,}\",text):\n",
    "        \n",
    "        match = re.search(r'([A-Z]\\. ){2,}', text).group()\n",
    "        match_rep = match.replace(\" \",\"\")\n",
    "        match_rep = match_rep + \" \"\n",
    "        text = text.replace(match,match_rep)\n",
    "    \n",
    "    return text"
   ]
  },
  {
   "cell_type": "code",
   "execution_count": 47,
   "id": "e597d7f2",
   "metadata": {
    "ExecuteTime": {
     "end_time": "2024-03-28T03:07:37.675316Z",
     "start_time": "2024-03-28T03:07:37.646400Z"
    }
   },
   "outputs": [
    {
     "name": "stdout",
     "output_type": "stream",
     "text": [
      "count 0\n"
     ]
    }
   ],
   "source": [
    "df_news_qa_prep[\"context\"] = df_news_qa_prep[\"context\"].apply(lambda x: tidy_acronym(x))"
   ]
  },
  {
   "cell_type": "code",
   "execution_count": 48,
   "id": "ecbcc941",
   "metadata": {
    "ExecuteTime": {
     "end_time": "2024-03-28T03:07:37.734455Z",
     "start_time": "2024-03-28T03:07:37.677577Z"
    }
   },
   "outputs": [
    {
     "name": "stdout",
     "output_type": "stream",
     "text": [
      "count 100\n",
      "count 200\n",
      "count 300\n",
      "count 400\n",
      "count 500\n"
     ]
    }
   ],
   "source": [
    "df_squad_prep[\"context\"] = df_squad_prep[\"context\"].apply(lambda x: tidy_acronym(x))"
   ]
  },
  {
   "cell_type": "markdown",
   "id": "b1234333",
   "metadata": {
    "ExecuteTime": {
     "end_time": "2024-03-22T10:14:46.390575Z",
     "start_time": "2024-03-22T10:14:46.299433Z"
    }
   },
   "source": [
    "### 3.5. Replace pronouns through Coreference Resolution"
   ]
  },
  {
   "cell_type": "markdown",
   "id": "92de6479",
   "metadata": {},
   "source": [
    "To assess the effectiveness of Coreference Resolution, datasets with and without coreference resolution is created."
   ]
  },
  {
   "cell_type": "code",
   "execution_count": 49,
   "id": "04662e2a",
   "metadata": {
    "ExecuteTime": {
     "end_time": "2024-03-28T03:08:00.802660Z",
     "start_time": "2024-03-28T03:07:37.734455Z"
    }
   },
   "outputs": [
    {
     "data": {
      "text/plain": [
       "<spacy_experimental.coref.span_resolver_component.SpanResolver at 0x1eaed63b5f0>"
      ]
     },
     "execution_count": 49,
     "metadata": {},
     "output_type": "execute_result"
    }
   ],
   "source": [
    "nlp_coref = spacy.load(\"en_core_web_trf\")\n",
    "nlp_coref_source = spacy.load(\"en_coreference_web_trf\")\n",
    "\n",
    "nlp_coref_source.replace_listeners(\"transformer\", \"coref\", [\"model.tok2vec\"])\n",
    "nlp_coref_source.replace_listeners(\"transformer\", \"span_resolver\", [\"model.tok2vec\"])\n",
    "\n",
    "nlp_coref.add_pipe(\"coref\", source=nlp_coref_source)\n",
    "nlp_coref.add_pipe(\"span_resolver\", source=nlp_coref_source)\n"
   ]
  },
  {
   "cell_type": "code",
   "execution_count": 50,
   "id": "1bb218ff",
   "metadata": {
    "ExecuteTime": {
     "end_time": "2024-03-28T03:08:00.905008Z",
     "start_time": "2024-03-28T03:08:00.835186Z"
    }
   },
   "outputs": [],
   "source": [
    "cnt_coref_resolution=0\n",
    "\n",
    "def coref_resolution(text):\n",
    "    global cnt_coref_resolution\n",
    "    print(\"count\",cnt_coref_resolution)\n",
    "    cnt_coref_resolution+=1\n",
    "\n",
    "    doc = nlp_coref(text)\n",
    "    coref_enti = [str(token) for token in doc]\n",
    "    coref_clusters = {key : val for key , val in doc.spans.items() if re.match(r\"coref_clusters_*\",key)}\n",
    "    coref_w_spans = find_span_start_end(coref_clusters)\n",
    "    coref_clusters_with_name_spans = find_person_start_end(coref_clusters,coref_w_spans)\n",
    "    tokens = replace_refs_w_names(coref_clusters_with_name_spans, coref_enti)\n",
    "    return_text = tidy_text(\" \".join(tokens))\n",
    "    text = \" \".join(tokens)\n",
    "\n",
    "    return return_text\n",
    "\n",
    "def find_span_start_end(coref_clusters):\n",
    "\n",
    "    cluster_w_spans = {}\n",
    "    for cluster in coref_clusters:\n",
    "        cluster_w_spans[cluster] = [(span.start, span.end, span.text) for span in coref_clusters[cluster]]\n",
    "\n",
    "    return cluster_w_spans\n",
    "\n",
    "def find_person_start_end(coref_clusters,cluster_w_spans):\n",
    "    coref_clusters_with_name_spans = {}\n",
    "    for key, val in coref_clusters.items():\n",
    "        temp = [0 for i in range(len(val))]\n",
    "        person_flag = False\n",
    "        for idx, text in enumerate(val):\n",
    "            doc = nlp_coref(str(text))\n",
    "            for word in doc.ents:\n",
    "                if word.label_ == 'PERSON':\n",
    "                    temp[idx] = (word.start, word.end, word.text)\n",
    "                    person_flag = True\n",
    "            for token in doc:\n",
    "                if token.pos_ == 'PRON':\n",
    "                    temp[idx] = (token.i,token.i+1,token)\n",
    "        if len(temp) > 0:\n",
    "            if person_flag:\n",
    "                orig = cluster_w_spans[key]\n",
    "                for idx, tup in enumerate(orig):\n",
    "                    if isinstance(tup, tuple) and isinstance(temp[idx], tuple):\n",
    "                        orig_start, orig_end, text = tup\n",
    "                        offset_start, offset_end, _ = temp[idx]\n",
    "                        orig_start += offset_start\n",
    "                        orig_end = orig_start + (offset_end - offset_start) \n",
    "                        orig[idx] = (orig_start, orig_end, text)\n",
    "                coref_clusters_with_name_spans[key] = orig\n",
    "\n",
    "    return coref_clusters_with_name_spans\n",
    "\n",
    "def replace_refs_w_names(coref_clusters_with_name_spans, tokens):\n",
    "    special_tokens = [\"my\",\"his\",\"her\",\"mine\"]\n",
    "    for key, val in coref_clusters_with_name_spans.items():\n",
    "        if len(val) > 0 and isinstance(val, list):\n",
    "            head = val[0]\n",
    "            head_start, head_end, _ = head\n",
    "            head_name = \" \".join(tokens[head_start:head_end])\n",
    "            for i in range(1,len(val)):\n",
    "                coref_token_start, coref_token_end, _ = val[i]\n",
    "                count = 0\n",
    "                for j in range(coref_token_start, coref_token_end):\n",
    "                    if tokens[j].upper() == \"I\":\n",
    "                        count += 1\n",
    "                        continue\n",
    "                    if count == 0:\n",
    "                        if tokens[j].lower() in special_tokens:\n",
    "                            if head_name[-1].lower() == \"s\":\n",
    "                                tokens[j] = str(head_name)+\"'\"\n",
    "                            else:\n",
    "                                tokens[j] = str(head_name)+\"'s\"\n",
    "                        else:\n",
    "                            tokens[j] = head_name\n",
    "                    else:\n",
    "                        tokens[j] = \"\"\n",
    "                    count += 1\n",
    "\n",
    "    return tokens\n",
    "\n",
    "\n",
    "def tidy_text(text):\n",
    "    text = re.sub(\" (\\.|\\,)\",\"\\\\1\",text)\n",
    "    text = text.replace(\" n't\",\"n't\")\n",
    "    text = re.sub(\" '(s|re|ve|ll|d|m) \",\"'\\\\1 \",text)\n",
    "    text = re.sub(\" +\",\" \",text)\n",
    "    return text\n",
    "    "
   ]
  },
  {
   "cell_type": "code",
   "execution_count": 51,
   "id": "23f96e53",
   "metadata": {
    "ExecuteTime": {
     "end_time": "2024-03-28T03:27:09.122427Z",
     "start_time": "2024-03-28T03:08:00.909534Z"
    }
   },
   "outputs": [
    {
     "name": "stdout",
     "output_type": "stream",
     "text": [
      "count 0\n",
      "count 1\n",
      "count 2\n",
      "count 3\n",
      "count 4\n",
      "count 5\n",
      "count 6\n",
      "count 7\n",
      "count 8\n",
      "count 9\n",
      "count 10\n",
      "count 11\n",
      "count 12\n",
      "count 13\n",
      "count 14\n",
      "count 15\n",
      "count 16\n",
      "count 17\n",
      "count 18\n",
      "count 19\n",
      "count 20\n",
      "count 21\n",
      "count 22\n",
      "count 23\n",
      "count 24\n",
      "count 25\n",
      "count 26\n",
      "count 27\n",
      "count 28\n",
      "count 29\n"
     ]
    }
   ],
   "source": [
    "df_news_qa_prep[\"context_cr\"] = df_news_qa_prep[\"context\"].apply(lambda x:coref_resolution(x))"
   ]
  },
  {
   "cell_type": "markdown",
   "id": "299d2b10",
   "metadata": {},
   "source": [
    "Multiple occurrences of answer in context through coreference resolution is confirmed below."
   ]
  },
  {
   "cell_type": "code",
   "execution_count": 52,
   "id": "c3fd2d28",
   "metadata": {
    "ExecuteTime": {
     "end_time": "2024-03-28T03:27:09.298219Z",
     "start_time": "2024-03-28T03:27:09.180131Z"
    }
   },
   "outputs": [],
   "source": [
    "df_news_qa_prep[\"num_answer_words\"] = df_news_qa_prep[[\"context\",\"answer_text\"]].apply(lambda x: x[0].count(x[1]),axis=1)\n",
    "df_news_qa_prep[\"num_answer_words_cr\"] = df_news_qa_prep[[\"context_cr\",\"answer_text\"]].apply(lambda x: x[0].count(x[1]),axis=1)"
   ]
  },
  {
   "cell_type": "code",
   "execution_count": 53,
   "id": "69c4befd",
   "metadata": {
    "ExecuteTime": {
     "end_time": "2024-03-28T03:27:09.347497Z",
     "start_time": "2024-03-28T03:27:09.298219Z"
    }
   },
   "outputs": [
    {
     "data": {
      "text/plain": [
       "Index([], dtype='int64')"
      ]
     },
     "execution_count": 53,
     "metadata": {},
     "output_type": "execute_result"
    }
   ],
   "source": [
    "df_news_qa_prep[df_news_qa_prep[\"num_answer_words\"]!=1].index"
   ]
  },
  {
   "cell_type": "code",
   "execution_count": 54,
   "id": "804b103c",
   "metadata": {
    "ExecuteTime": {
     "end_time": "2024-03-28T03:27:09.366970Z",
     "start_time": "2024-03-28T03:27:09.347497Z"
    }
   },
   "outputs": [
    {
     "data": {
      "text/plain": [
       "Index([1, 5, 7, 9, 10, 25, 29], dtype='int64')"
      ]
     },
     "execution_count": 54,
     "metadata": {},
     "output_type": "execute_result"
    }
   ],
   "source": [
    "df_news_qa_prep[df_news_qa_prep[\"num_answer_words_cr\"]!=1].index"
   ]
  },
  {
   "cell_type": "markdown",
   "id": "16e3e1a4",
   "metadata": {},
   "source": [
    "Answer that is changed through coreference resolution is modified below."
   ]
  },
  {
   "cell_type": "code",
   "execution_count": 55,
   "id": "428507b0",
   "metadata": {
    "ExecuteTime": {
     "end_time": "2024-03-28T03:27:09.377967Z",
     "start_time": "2024-03-28T03:27:09.372641Z"
    }
   },
   "outputs": [],
   "source": [
    "df_news_qa_prep[\"answer_text_cr\"] = df_news_qa_prep[\"answer_text\"]"
   ]
  },
  {
   "cell_type": "code",
   "execution_count": 56,
   "id": "8e39436b",
   "metadata": {
    "ExecuteTime": {
     "end_time": "2024-03-28T03:27:09.388617Z",
     "start_time": "2024-03-28T03:27:09.382010Z"
    }
   },
   "outputs": [],
   "source": [
    "answer_text_cr = {\n",
    "1:\"Mr. George Bush did the opening coin toss\",\n",
    "7:\"Mr. Vladimir V. Putin of Russia\",\n",
    "9:\"who were convicted of espionage in 1986\",\n",
    "10:\"Berzelius ( Buzz ) Windrip has returned to the United States\",\n",
    "25:\"The chaos in Washington, bedlam at airports and protests across the country serve as an unsettling crowd noise to I . I is friends with President Trump.\",\n",
    "29:\"Mr. Jos began having violent seizures\"\n",
    "}"
   ]
  },
  {
   "cell_type": "code",
   "execution_count": 57,
   "id": "2709aa9a",
   "metadata": {
    "ExecuteTime": {
     "end_time": "2024-03-28T03:27:09.406212Z",
     "start_time": "2024-03-28T03:27:09.391990Z"
    }
   },
   "outputs": [],
   "source": [
    "for key in answer_text_cr.keys():\n",
    "    df_news_qa_prep.at[key,\"answer_text_cr\"] = answer_text_cr[key]"
   ]
  },
  {
   "cell_type": "code",
   "execution_count": 58,
   "id": "7b0bb3f5",
   "metadata": {
    "ExecuteTime": {
     "end_time": "2024-03-28T03:27:09.415596Z",
     "start_time": "2024-03-28T03:27:09.410230Z"
    }
   },
   "outputs": [],
   "source": [
    "# SQuAD"
   ]
  },
  {
   "cell_type": "code",
   "execution_count": 59,
   "id": "9154233d",
   "metadata": {
    "ExecuteTime": {
     "end_time": "2024-03-28T05:09:18.847422Z",
     "start_time": "2024-03-28T03:27:09.420435Z"
    },
    "scrolled": true
   },
   "outputs": [
    {
     "name": "stdout",
     "output_type": "stream",
     "text": [
      "count 30\n",
      "count 31\n",
      "count 32\n",
      "count 33\n",
      "count 34\n",
      "count 35\n",
      "count 36\n",
      "count 37\n",
      "count 38\n",
      "count 39\n",
      "count 40\n",
      "count 41\n",
      "count 42\n",
      "count 43\n",
      "count 44\n",
      "count 45\n",
      "count 46\n",
      "count 47\n",
      "count 48\n",
      "count 49\n",
      "count 50\n",
      "count 51\n",
      "count 52\n",
      "count 53\n",
      "count 54\n",
      "count 55\n",
      "count 56\n",
      "count 57\n",
      "count 58\n",
      "count 59\n",
      "count 60\n",
      "count 61\n",
      "count 62\n",
      "count 63\n",
      "count 64\n",
      "count 65\n",
      "count 66\n",
      "count 67\n",
      "count 68\n",
      "count 69\n",
      "count 70\n",
      "count 71\n",
      "count 72\n",
      "count 73\n",
      "count 74\n",
      "count 75\n",
      "count 76\n",
      "count 77\n",
      "count 78\n",
      "count 79\n",
      "count 80\n",
      "count 81\n",
      "count 82\n",
      "count 83\n",
      "count 84\n",
      "count 85\n",
      "count 86\n",
      "count 87\n",
      "count 88\n",
      "count 89\n",
      "count 90\n",
      "count 91\n",
      "count 92\n",
      "count 93\n",
      "count 94\n",
      "count 95\n",
      "count 96\n",
      "count 97\n",
      "count 98\n",
      "count 99\n",
      "count 100\n",
      "count 101\n",
      "count 102\n",
      "count 103\n",
      "count 104\n",
      "count 105\n",
      "count 106\n",
      "count 107\n",
      "count 108\n",
      "count 109\n",
      "count 110\n",
      "count 111\n",
      "count 112\n",
      "count 113\n",
      "count 114\n",
      "count 115\n",
      "count 116\n",
      "count 117\n",
      "count 118\n",
      "count 119\n",
      "count 120\n",
      "count 121\n",
      "count 122\n",
      "count 123\n",
      "count 124\n",
      "count 125\n",
      "count 126\n",
      "count 127\n",
      "count 128\n",
      "count 129\n",
      "count 130\n",
      "count 131\n",
      "count 132\n",
      "count 133\n",
      "count 134\n",
      "count 135\n",
      "count 136\n",
      "count 137\n",
      "count 138\n",
      "count 139\n",
      "count 140\n",
      "count 141\n",
      "count 142\n",
      "count 143\n",
      "count 144\n",
      "count 145\n",
      "count 146\n",
      "count 147\n",
      "count 148\n",
      "count 149\n",
      "count 150\n",
      "count 151\n",
      "count 152\n",
      "count 153\n",
      "count 154\n",
      "count 155\n",
      "count 156\n",
      "count 157\n",
      "count 158\n",
      "count 159\n",
      "count 160\n",
      "count 161\n",
      "count 162\n",
      "count 163\n",
      "count 164\n",
      "count 165\n",
      "count 166\n",
      "count 167\n",
      "count 168\n",
      "count 169\n",
      "count 170\n",
      "count 171\n",
      "count 172\n",
      "count 173\n",
      "count 174\n",
      "count 175\n",
      "count 176\n",
      "count 177\n",
      "count 178\n",
      "count 179\n",
      "count 180\n",
      "count 181\n",
      "count 182\n",
      "count 183\n",
      "count 184\n",
      "count 185\n",
      "count 186\n",
      "count 187\n",
      "count 188\n",
      "count 189\n",
      "count 190\n",
      "count 191\n",
      "count 192\n",
      "count 193\n",
      "count 194\n",
      "count 195\n",
      "count 196\n",
      "count 197\n",
      "count 198\n",
      "count 199\n",
      "count 200\n",
      "count 201\n",
      "count 202\n",
      "count 203\n",
      "count 204\n",
      "count 205\n",
      "count 206\n",
      "count 207\n",
      "count 208\n",
      "count 209\n",
      "count 210\n",
      "count 211\n",
      "count 212\n",
      "count 213\n",
      "count 214\n",
      "count 215\n",
      "count 216\n",
      "count 217\n",
      "count 218\n",
      "count 219\n",
      "count 220\n",
      "count 221\n",
      "count 222\n",
      "count 223\n",
      "count 224\n",
      "count 225\n",
      "count 226\n",
      "count 227\n",
      "count 228\n",
      "count 229\n",
      "count 230\n",
      "count 231\n",
      "count 232\n",
      "count 233\n",
      "count 234\n",
      "count 235\n",
      "count 236\n",
      "count 237\n",
      "count 238\n",
      "count 239\n",
      "count 240\n",
      "count 241\n",
      "count 242\n",
      "count 243\n",
      "count 244\n",
      "count 245\n",
      "count 246\n",
      "count 247\n",
      "count 248\n",
      "count 249\n",
      "count 250\n",
      "count 251\n",
      "count 252\n",
      "count 253\n",
      "count 254\n",
      "count 255\n",
      "count 256\n",
      "count 257\n",
      "count 258\n",
      "count 259\n",
      "count 260\n",
      "count 261\n",
      "count 262\n",
      "count 263\n",
      "count 264\n",
      "count 265\n",
      "count 266\n",
      "count 267\n",
      "count 268\n",
      "count 269\n",
      "count 270\n",
      "count 271\n",
      "count 272\n",
      "count 273\n",
      "count 274\n",
      "count 275\n",
      "count 276\n",
      "count 277\n",
      "count 278\n",
      "count 279\n",
      "count 280\n",
      "count 281\n",
      "count 282\n",
      "count 283\n",
      "count 284\n",
      "count 285\n",
      "count 286\n",
      "count 287\n",
      "count 288\n",
      "count 289\n",
      "count 290\n",
      "count 291\n",
      "count 292\n",
      "count 293\n",
      "count 294\n",
      "count 295\n",
      "count 296\n",
      "count 297\n",
      "count 298\n",
      "count 299\n",
      "count 300\n",
      "count 301\n",
      "count 302\n",
      "count 303\n",
      "count 304\n",
      "count 305\n",
      "count 306\n",
      "count 307\n",
      "count 308\n",
      "count 309\n",
      "count 310\n",
      "count 311\n",
      "count 312\n",
      "count 313\n",
      "count 314\n",
      "count 315\n"
     ]
    },
    {
     "name": "stderr",
     "output_type": "stream",
     "text": [
      "Token indices sequence length is longer than the specified maximum sequence length for this model (513 > 512). Running this sequence through the model will result in indexing errors\n",
      "Token indices sequence length is longer than the specified maximum sequence length for this model (513 > 512). Running this sequence through the model will result in indexing errors\n"
     ]
    },
    {
     "name": "stdout",
     "output_type": "stream",
     "text": [
      "count 316\n",
      "count 317\n",
      "count 318\n",
      "count 319\n",
      "count 320\n",
      "count 321\n",
      "count 322\n",
      "count 323\n",
      "count 324\n",
      "count 325\n",
      "count 326\n",
      "count 327\n",
      "count 328\n",
      "count 329\n",
      "count 330\n",
      "count 331\n",
      "count 332\n",
      "count 333\n",
      "count 334\n",
      "count 335\n",
      "count 336\n",
      "count 337\n",
      "count 338\n",
      "count 339\n",
      "count 340\n",
      "count 341\n",
      "count 342\n",
      "count 343\n",
      "count 344\n",
      "count 345\n",
      "count 346\n",
      "count 347\n",
      "count 348\n",
      "count 349\n",
      "count 350\n",
      "count 351\n",
      "count 352\n",
      "count 353\n",
      "count 354\n",
      "count 355\n",
      "count 356\n",
      "count 357\n",
      "count 358\n",
      "count 359\n",
      "count 360\n",
      "count 361\n",
      "count 362\n",
      "count 363\n",
      "count 364\n",
      "count 365\n",
      "count 366\n",
      "count 367\n",
      "count 368\n",
      "count 369\n",
      "count 370\n",
      "count 371\n",
      "count 372\n",
      "count 373\n",
      "count 374\n",
      "count 375\n",
      "count 376\n",
      "count 377\n",
      "count 378\n",
      "count 379\n",
      "count 380\n",
      "count 381\n",
      "count 382\n",
      "count 383\n",
      "count 384\n",
      "count 385\n",
      "count 386\n",
      "count 387\n",
      "count 388\n",
      "count 389\n",
      "count 390\n",
      "count 391\n",
      "count 392\n",
      "count 393\n",
      "count 394\n",
      "count 395\n",
      "count 396\n",
      "count 397\n",
      "count 398\n",
      "count 399\n",
      "count 400\n",
      "count 401\n",
      "count 402\n",
      "count 403\n",
      "count 404\n",
      "count 405\n",
      "count 406\n",
      "count 407\n",
      "count 408\n",
      "count 409\n",
      "count 410\n",
      "count 411\n",
      "count 412\n",
      "count 413\n",
      "count 414\n",
      "count 415\n",
      "count 416\n",
      "count 417\n",
      "count 418\n",
      "count 419\n",
      "count 420\n",
      "count 421\n",
      "count 422\n",
      "count 423\n",
      "count 424\n",
      "count 425\n",
      "count 426\n",
      "count 427\n",
      "count 428\n",
      "count 429\n",
      "count 430\n",
      "count 431\n",
      "count 432\n",
      "count 433\n",
      "count 434\n",
      "count 435\n",
      "count 436\n",
      "count 437\n",
      "count 438\n",
      "count 439\n",
      "count 440\n",
      "count 441\n",
      "count 442\n",
      "count 443\n",
      "count 444\n",
      "count 445\n",
      "count 446\n",
      "count 447\n",
      "count 448\n",
      "count 449\n",
      "count 450\n",
      "count 451\n",
      "count 452\n",
      "count 453\n",
      "count 454\n",
      "count 455\n",
      "count 456\n",
      "count 457\n",
      "count 458\n",
      "count 459\n",
      "count 460\n",
      "count 461\n",
      "count 462\n",
      "count 463\n",
      "count 464\n",
      "count 465\n",
      "count 466\n",
      "count 467\n",
      "count 468\n",
      "count 469\n",
      "count 470\n",
      "count 471\n",
      "count 472\n",
      "count 473\n",
      "count 474\n",
      "count 475\n",
      "count 476\n",
      "count 477\n",
      "count 478\n",
      "count 479\n",
      "count 480\n",
      "count 481\n",
      "count 482\n",
      "count 483\n",
      "count 484\n",
      "count 485\n",
      "count 486\n",
      "count 487\n",
      "count 488\n",
      "count 489\n",
      "count 490\n",
      "count 491\n",
      "count 492\n",
      "count 493\n",
      "count 494\n",
      "count 495\n",
      "count 496\n",
      "count 497\n",
      "count 498\n",
      "count 499\n",
      "count 500\n",
      "count 501\n",
      "count 502\n",
      "count 503\n",
      "count 504\n",
      "count 505\n",
      "count 506\n",
      "count 507\n",
      "count 508\n",
      "count 509\n",
      "count 510\n",
      "count 511\n",
      "count 512\n",
      "count 513\n",
      "count 514\n",
      "count 515\n",
      "count 516\n",
      "count 517\n",
      "count 518\n",
      "count 519\n",
      "count 520\n",
      "count 521\n",
      "count 522\n",
      "count 523\n",
      "count 524\n",
      "count 525\n",
      "count 526\n",
      "count 527\n",
      "count 528\n",
      "count 529\n",
      "count 530\n",
      "count 531\n",
      "count 532\n",
      "count 533\n",
      "count 534\n",
      "count 535\n",
      "count 536\n",
      "count 537\n",
      "count 538\n",
      "count 539\n",
      "count 540\n",
      "count 541\n",
      "count 542\n",
      "count 543\n",
      "count 544\n",
      "count 545\n",
      "count 546\n",
      "count 547\n",
      "count 548\n",
      "count 549\n",
      "count 550\n",
      "count 551\n",
      "count 552\n",
      "count 553\n",
      "count 554\n",
      "count 555\n",
      "count 556\n",
      "count 557\n",
      "count 558\n",
      "count 559\n",
      "count 560\n",
      "count 561\n",
      "count 562\n",
      "count 563\n",
      "count 564\n",
      "count 565\n",
      "count 566\n"
     ]
    }
   ],
   "source": [
    "df_squad_prep[\"context_cr\"] = df_squad_prep[\"context\"].apply(lambda x:coref_resolution(x))"
   ]
  },
  {
   "cell_type": "markdown",
   "id": "ea7b9ba1",
   "metadata": {},
   "source": [
    "If coreference resolution has resulted in multiple occurrences of the answer, the news dataset is adjusted accordingly. However, since the SQuAD dataset has more data points than the news dataset, it will be excluded."
   ]
  },
  {
   "cell_type": "code",
   "execution_count": 60,
   "id": "0a78b150",
   "metadata": {
    "ExecuteTime": {
     "end_time": "2024-03-28T05:09:19.157763Z",
     "start_time": "2024-03-28T05:09:18.910196Z"
    }
   },
   "outputs": [],
   "source": [
    "df_squad_prep[\"num_answer_words\"] = df_squad_prep[[\"context\",\"answer_text\"]].apply(lambda x: x[0].count(x[1]),axis=1)\n",
    "df_squad_prep[\"num_answer_words_cr\"] = df_squad_prep[[\"context_cr\",\"answer_text\"]].apply(lambda x: x[0].count(x[1]),axis=1)\n",
    "\n",
    "df_squad_prep_resample = df_squad_prep.copy()[(df_squad_prep[\"num_answer_words\"]==1)&(df_squad_prep[\"num_answer_words_cr\"]==1)]"
   ]
  },
  {
   "cell_type": "markdown",
   "id": "372265d7",
   "metadata": {},
   "source": [
    "The pretrained BERT model to be used in this case has a token limit of 512. Therefore, any data point exceeding this limit will be excluded."
   ]
  },
  {
   "cell_type": "code",
   "execution_count": 61,
   "id": "f3b9f293",
   "metadata": {
    "ExecuteTime": {
     "end_time": "2024-03-28T05:09:23.616590Z",
     "start_time": "2024-03-28T05:09:19.160772Z"
    }
   },
   "outputs": [
    {
     "name": "stderr",
     "output_type": "stream",
     "text": [
      "Token indices sequence length is longer than the specified maximum sequence length for this model (551 > 512). Running this sequence through the model will result in indexing errors\n"
     ]
    }
   ],
   "source": [
    "df_squad_prep_resample[\"len_token\"] = df_squad_prep_resample[[\"context\",\"question\"]].apply(lambda x: len(tokenizer_ori.encode(x[0],x[1])),axis=1)\n",
    "df_squad_prep_resample[\"len_token_cr\"] = df_squad_prep_resample[[\"context_cr\",\"question\"]].apply(lambda x: len(tokenizer_ori.encode(x[0],x[1])),axis=1)\n",
    "df_squad_prep_resample = df_squad_prep_resample[(df_squad_prep_resample[\"len_token\"]<512)&\n",
    "                                                (df_squad_prep_resample[\"len_token_cr\"]<512)]\n",
    "df_squad_prep_resample.reset_index(inplace=True,drop=True)"
   ]
  },
  {
   "cell_type": "markdown",
   "id": "4c04ab1c",
   "metadata": {
    "code_folding": []
   },
   "source": [
    "### 3.6. Train Test Split"
   ]
  },
  {
   "cell_type": "markdown",
   "id": "ed16592a",
   "metadata": {},
   "source": [
    "For both the news dataset and the SQuAD dataset, they will be divided into training and test datasets. However, during the consideration of candidate approaches, the training dataset will be further divided into training data and validation data.\n",
    "The number of data entries during the consideration of candidate approaches and the construction of the final model is as follows:\n",
    "\n",
    "- Consideration of candidate approaches\n",
    "|                   | News | SQuAD |\n",
    "|-------------------|------|-------|\n",
    "| # of training data      |  10  |  151  |\n",
    "| # of validation data    |  10  |   51  |\n",
    "\n",
    "\n",
    "- Construction of the final model\n",
    "|                   | News | SQuAD |\n",
    "|-------------------|------|-------|\n",
    "| # of training data      |  20  |  202  |\n",
    "| # of test data          |  10  |   50  |"
   ]
  },
  {
   "cell_type": "code",
   "execution_count": 63,
   "id": "76cdc248",
   "metadata": {
    "ExecuteTime": {
     "end_time": "2024-03-28T05:09:23.637627Z",
     "start_time": "2024-03-28T05:09:23.630972Z"
    }
   },
   "outputs": [],
   "source": [
    "# news"
   ]
  },
  {
   "cell_type": "code",
   "execution_count": 111,
   "id": "ebc2a155",
   "metadata": {
    "ExecuteTime": {
     "end_time": "2024-03-28T06:23:03.557080Z",
     "start_time": "2024-03-28T06:23:03.548700Z"
    }
   },
   "outputs": [],
   "source": [
    "col_news = [\"id\",\"question\",\"context\",\"context_cr\",\"answer_text\",\"answer_text_cr\"]\n",
    "df_news_train_ori = df_news_qa_prep.copy()[0:20][col_news]\n",
    "df_news_test_ori = df_news_qa_prep.copy()[20:30][col_news]\n",
    "valid_news_ids = df_news_train_ori.loc[10:20,\"id\"].to_list()"
   ]
  },
  {
   "cell_type": "code",
   "execution_count": 113,
   "id": "3d23b741",
   "metadata": {
    "ExecuteTime": {
     "end_time": "2024-03-28T06:23:12.624738Z",
     "start_time": "2024-03-28T06:23:11.778011Z"
    }
   },
   "outputs": [],
   "source": [
    "df_news_train_ori[\"len_token\"] = df_news_train_ori[[\"context\",\"question\"]].apply(lambda x: len(tokenizer_ori.encode(x[0],x[1])),axis=1)\n",
    "df_news_test_ori[\"len_token\"] = df_news_test_ori[[\"context\",\"question\"]].apply(lambda x: len(tokenizer_ori.encode(x[0],x[1])),axis=1)\n",
    "\n",
    "df_news_train_ori[\"len_token_cr\"] = df_news_train_ori[[\"context_cr\",\"question\"]].apply(lambda x: len(tokenizer_ori.encode(x[0],x[1])),axis=1)\n",
    "df_news_test_ori[\"len_token_cr\"] = df_news_test_ori[[\"context_cr\",\"question\"]].apply(lambda x: len(tokenizer_ori.encode(x[0],x[1])),axis=1)\n"
   ]
  },
  {
   "cell_type": "code",
   "execution_count": 114,
   "id": "f203979f",
   "metadata": {
    "ExecuteTime": {
     "end_time": "2024-03-28T06:23:15.111879Z",
     "start_time": "2024-03-28T06:23:15.104166Z"
    }
   },
   "outputs": [],
   "source": [
    "def split_context(df_qa,col_nms):\n",
    "    max_bert_pos = 512 -100\n",
    "    \n",
    "    id_nm = col_nms[0]\n",
    "    len_token_nm = col_nms[1]\n",
    "    context_nm = col_nms[2]\n",
    "    question_nm = col_nms[3]\n",
    "    answer_text_nm = col_nms[4]\n",
    "    \n",
    "    df_qa[\"split_num\"] = df_qa[len_token_nm].apply(lambda x: math.ceil(x/max_bert_pos))\n",
    "\n",
    "    df_split_context = pd.DataFrame()\n",
    "    for ind in df_qa.index:\n",
    "        \n",
    "        len_split = len(df_qa.loc[ind,context_nm].split())//df_qa.loc[ind,\"split_num\"]\n",
    "        tmp_lis=[]\n",
    "        for i in range(df_qa.loc[ind,\"split_num\"]):\n",
    "            tmp_lis.append(\" \".join(df_qa.loc[ind,context_nm].split()[len_split*i:len_split*(i+1)]))\n",
    "\n",
    "        for i in range(len(tmp_lis)):\n",
    "            df_tmp = pd.DataFrame({\"id\":df_qa.loc[ind,id_nm],\n",
    "                                   \"context\":[tmp_lis[i]],\n",
    "                                   \"question\":[df_qa.loc[ind,question_nm]],\n",
    "                                   \"answer_text\":[df_qa.loc[ind,answer_text_nm]],\n",
    "                                  })\n",
    "            df_split_context = pd.concat([df_split_context,df_tmp])\n",
    "    df_split_context.reset_index(drop=True,inplace=True)\n",
    "    return df_split_context\n"
   ]
  },
  {
   "cell_type": "code",
   "execution_count": 115,
   "id": "d758bd75",
   "metadata": {
    "ExecuteTime": {
     "end_time": "2024-03-28T06:23:15.537987Z",
     "start_time": "2024-03-28T06:23:15.378263Z"
    }
   },
   "outputs": [],
   "source": [
    "df_news_train = split_context(df_news_train_ori,[\"id\",\"len_token\",\"context\",\"question\",\"answer_text\"])\n",
    "df_news_test = split_context(df_news_test_ori,[\"id\",\"len_token\",\"context\",\"question\",\"answer_text\"])\n",
    "\n",
    "df_news_train_cr = split_context(df_news_train_ori,[\"id\",\"len_token_cr\",\"context_cr\",\"question\",\"answer_text_cr\"])\n",
    "df_news_test_cr = split_context(df_news_test_ori,[\"id\",\"len_token_cr\",\"context_cr\",\"question\",\"answer_text_cr\"])\n"
   ]
  },
  {
   "cell_type": "code",
   "execution_count": 72,
   "id": "28ccf2b0",
   "metadata": {
    "ExecuteTime": {
     "end_time": "2024-03-28T05:22:23.166398Z",
     "start_time": "2024-03-28T05:22:23.160710Z"
    }
   },
   "outputs": [],
   "source": [
    "# SQuAD"
   ]
  },
  {
   "cell_type": "code",
   "execution_count": 149,
   "id": "f0bd2e1f",
   "metadata": {
    "ExecuteTime": {
     "end_time": "2024-03-28T07:00:43.417113Z",
     "start_time": "2024-03-28T07:00:43.409618Z"
    }
   },
   "outputs": [],
   "source": [
    "squad_train_num = round(df_squad_prep_resample.shape[0]*0.8)\n",
    "squad_valid_num = round(df_squad_prep_resample.shape[0]*0.6)"
   ]
  },
  {
   "cell_type": "code",
   "execution_count": 150,
   "id": "473e927d",
   "metadata": {
    "ExecuteTime": {
     "end_time": "2024-03-28T07:00:44.047019Z",
     "start_time": "2024-03-28T07:00:44.006212Z"
    }
   },
   "outputs": [],
   "source": [
    "col_squad=[\"id\",\"question\",\"context\",\"answer_text\"]\n",
    "df_squad_train = df_squad_prep_resample.copy()[0:squad_train_num][col_squad]\n",
    "df_squad_test = df_squad_prep_resample.copy()[squad_train_num:][col_squad]\n",
    "\n",
    "col_squad_cr=[\"id\",\"question\",\"context_cr\",\"answer_text\"]\n",
    "df_squad_train_cr = df_squad_prep_resample.copy()[0:squad_train_num][col_squad_cr]\n",
    "df_squad_test_cr = df_squad_prep_resample.copy()[squad_train_num:][col_squad_cr]\n",
    "\n",
    "df_squad_train_cr.rename(columns={\"context_cr\":\"context\"},inplace=True)\n",
    "df_squad_test_cr.rename(columns={\"context_cr\":\"context\"},inplace=True)"
   ]
  },
  {
   "cell_type": "code",
   "execution_count": 151,
   "id": "61d8139c",
   "metadata": {
    "ExecuteTime": {
     "end_time": "2024-03-28T07:00:44.685212Z",
     "start_time": "2024-03-28T07:00:44.671086Z"
    }
   },
   "outputs": [],
   "source": [
    "\n",
    "df_squad_train[\"valid_flg\"] = False\n",
    "df_squad_train.loc[squad_valid_num:squad_train_num,\"valid_flg\"] = True\n",
    "valid_squad_flg= df_squad_train[\"valid_flg\"]\n",
    "df_squad_train.drop(columns=\"valid_flg\",inplace=True)"
   ]
  },
  {
   "cell_type": "markdown",
   "id": "23967983",
   "metadata": {},
   "source": [
    "### 3.7. Search for start position"
   ]
  },
  {
   "cell_type": "code",
   "execution_count": 77,
   "id": "c0c8411e",
   "metadata": {
    "ExecuteTime": {
     "end_time": "2024-03-28T05:22:35.947734Z",
     "start_time": "2024-03-28T05:22:35.944154Z"
    }
   },
   "outputs": [],
   "source": [
    "# news"
   ]
  },
  {
   "cell_type": "code",
   "execution_count": 100,
   "id": "ad5017ab",
   "metadata": {
    "ExecuteTime": {
     "end_time": "2024-03-28T06:20:50.753655Z",
     "start_time": "2024-03-28T06:20:50.748345Z"
    }
   },
   "outputs": [],
   "source": [
    "def start_pos_find(df,col_nms=[\"context\",\"answer_text\"]):\n",
    "    \n",
    "    context_nm = col_nms[0]\n",
    "    answer_text_nm = col_nms[1]\n",
    "    \n",
    "    answer_start_pos_lis=[]\n",
    "    for ind in df.index:\n",
    "        if df[answer_text_nm][ind] in df[context_nm][ind]:\n",
    "            answer_start_pos_lis.append(df[context_nm][ind].index(df[answer_text_nm][ind]))\n",
    "        else:\n",
    "            answer_start_pos_lis.append(None)\n",
    "    return answer_start_pos_lis"
   ]
  },
  {
   "cell_type": "code",
   "execution_count": 116,
   "id": "e8c4239a",
   "metadata": {
    "ExecuteTime": {
     "end_time": "2024-03-28T06:23:18.961308Z",
     "start_time": "2024-03-28T06:23:18.950720Z"
    }
   },
   "outputs": [],
   "source": [
    "df_news_train[\"answer_start_position\"] = start_pos_find(df_news_train,[\"context\",\"answer_text\"])\n",
    "df_news_test[\"answer_start_position\"] = start_pos_find(df_news_test,[\"context\",\"answer_text\"])\n",
    "\n",
    "df_news_train_cr[\"answer_start_position\"] = start_pos_find(df_news_train_cr,[\"context\",\"answer_text\"])\n",
    "df_news_test_cr[\"answer_start_position\"] = start_pos_find(df_news_test_cr,[\"context\",\"answer_text\"])"
   ]
  },
  {
   "cell_type": "code",
   "execution_count": 118,
   "id": "c93a8eca",
   "metadata": {
    "ExecuteTime": {
     "end_time": "2024-03-28T06:23:20.698026Z",
     "start_time": "2024-03-28T06:23:20.677439Z"
    }
   },
   "outputs": [
    {
     "name": "stdout",
     "output_type": "stream",
     "text": [
      "no_ans_pos_train 20\n",
      "no_ans_pos_test 10\n",
      "no_ans_pos_train_cr 21\n",
      "no_ans_pos_train_cr 10\n",
      "-------\n",
      "no_ans_pos_train_cr 20\n"
     ]
    }
   ],
   "source": [
    "print(\"no_ans_pos_train\",len(df_news_train[~df_news_train[\"answer_start_position\"].isnull()]))\n",
    "print(\"no_ans_pos_test\",len(df_news_test[~df_news_test[\"answer_start_position\"].isnull()]))\n",
    "print(\"no_ans_pos_train_cr\",len(df_news_train_cr[~df_news_train_cr[\"answer_start_position\"].isnull()]))\n",
    "print(\"no_ans_pos_train_cr\",len(df_news_test_cr[~df_news_test_cr[\"answer_start_position\"].isnull()]))\n",
    "\n",
    "\n",
    "print(\"-------\")\n",
    "# In cases where there are multiple answers, one of them will be excluded.\n",
    "ex_ind = df_news_train_cr[df_news_train_cr[\"answer_text\"]==\"Aleksandr Motuzyanik\"].index[-1]\n",
    "df_news_train_cr.drop(ex_ind,inplace=True)\n",
    "df_news_train_cr.reset_index(drop=True,inplace=True)\n",
    "print(\"no_ans_pos_train_cr\",len(df_news_train_cr[~df_news_train_cr[\"answer_start_position\"].isnull()]))\n"
   ]
  },
  {
   "cell_type": "code",
   "execution_count": 94,
   "id": "7ff034c3",
   "metadata": {
    "ExecuteTime": {
     "end_time": "2024-03-26T04:10:48.671508Z",
     "start_time": "2024-03-26T04:10:48.667707Z"
    }
   },
   "outputs": [],
   "source": [
    "# SQuAD"
   ]
  },
  {
   "cell_type": "code",
   "execution_count": 152,
   "id": "baab50f3",
   "metadata": {
    "ExecuteTime": {
     "end_time": "2024-03-28T07:00:50.471668Z",
     "start_time": "2024-03-28T07:00:50.433169Z"
    }
   },
   "outputs": [],
   "source": [
    "df_squad_train[\"answer_start_position\"] = start_pos_find(df_squad_train,[\"context\",\"answer_text\"])\n",
    "df_squad_test[\"answer_start_position\"] = start_pos_find(df_squad_test,[\"context\",\"answer_text\"])\n",
    "\n",
    "df_squad_train_cr[\"answer_start_position\"] = start_pos_find(df_squad_train_cr,[\"context\",\"answer_text\"])\n",
    "df_squad_test_cr[\"answer_start_position\"] = start_pos_find(df_squad_test_cr,[\"context\",\"answer_text\"])"
   ]
  },
  {
   "cell_type": "code",
   "execution_count": 153,
   "id": "7226626f",
   "metadata": {
    "ExecuteTime": {
     "end_time": "2024-03-28T07:00:51.003645Z",
     "start_time": "2024-03-28T07:00:50.991384Z"
    }
   },
   "outputs": [
    {
     "name": "stdout",
     "output_type": "stream",
     "text": [
      "no_ans_pos_train 202\n",
      "no_ans_pos_test 50\n",
      "no_ans_pos_train_cr 202\n",
      "no_ans_pos_test_cr 50\n"
     ]
    }
   ],
   "source": [
    "print(\"no_ans_pos_train\",len(df_squad_train[~df_squad_train[\"answer_start_position\"].isnull()]))\n",
    "print(\"no_ans_pos_test\",len(df_squad_test[~df_squad_test[\"answer_start_position\"].isnull()]))\n",
    "print(\"no_ans_pos_train_cr\",len(df_squad_train_cr[~df_squad_train_cr[\"answer_start_position\"].isnull()]))\n",
    "print(\"no_ans_pos_test_cr\",len(df_squad_test_cr[~df_squad_test_cr[\"answer_start_position\"].isnull()]))\n"
   ]
  },
  {
   "cell_type": "markdown",
   "id": "9e20f84f",
   "metadata": {},
   "source": [
    "### 4. Selecting method"
   ]
  },
  {
   "cell_type": "markdown",
   "id": "0588959b",
   "metadata": {},
   "source": [
    "In the evaluation of candidate methods, the predictive accuracy of four cases regarding effectiveness of fine-tuning and correference resolution is assessed.\n",
    "\n",
    "\n",
    "| No | Fine-tuning | Coreference Resolution |\n",
    "|----|-------------|------------------------|\n",
    "| 1  | None        | None                   |\n",
    "| 2  | None        | Yes                    |\n",
    "| 3  | Yes         | None                   |\n",
    "| 4  | Yes         | Yes                    |"
   ]
  },
  {
   "cell_type": "code",
   "execution_count": 104,
   "id": "2fa422a3",
   "metadata": {
    "ExecuteTime": {
     "end_time": "2024-03-28T06:21:12.317971Z",
     "start_time": "2024-03-28T06:21:12.309832Z"
    }
   },
   "outputs": [],
   "source": [
    "def get_prediction(model, tokenizer,question, context):\n",
    "\n",
    "    inputs = tokenizer.encode_plus(question, context, return_tensors='pt')\n",
    "\n",
    "    outputs = model(**inputs)\n",
    "    answer_start = torch.argmax(outputs[0])  \n",
    "    answer_end = torch.argmax(outputs[1]) + 1 \n",
    "    \n",
    "    start_score = float(torch.max(outputs[0]))\n",
    "    end_score = float(torch.max(outputs[0]))\n",
    "    \n",
    "    mean_score = (start_score + end_score)/2\n",
    "    \n",
    "    answer = tokenizer.convert_tokens_to_string(tokenizer.convert_ids_to_tokens(inputs['input_ids'][0][answer_start:answer_end]))\n",
    "\n",
    "    return answer,mean_score\n"
   ]
  },
  {
   "cell_type": "code",
   "execution_count": 105,
   "id": "f05f7df2",
   "metadata": {
    "ExecuteTime": {
     "end_time": "2024-03-28T06:21:12.511906Z",
     "start_time": "2024-03-28T06:21:12.494896Z"
    }
   },
   "outputs": [],
   "source": [
    "def normalize_text(s):\n",
    "   \n",
    "\n",
    "    def remove_articles(text):\n",
    "        regex = re.compile(r\"\\b(a|an|the)\\b\", re.UNICODE)\n",
    "        return re.sub(regex, \" \", text)\n",
    "\n",
    "    def white_space_fix(text):\n",
    "        return \" \".join(text.split())\n",
    "\n",
    "    def remove_punc(text):\n",
    "        exclude = set(string.punctuation)\n",
    "        return \"\".join(ch for ch in text if ch not in exclude)\n",
    "\n",
    "    def lower(text):\n",
    "        return text.lower()\n",
    "\n",
    "    return white_space_fix(remove_articles(remove_punc(lower(s))))\n",
    "\n",
    "def eval_exact_match(prediction, truth):\n",
    "    return int(normalize_text(prediction) == normalize_text(truth))\n",
    "\n",
    "def eval_f1(prediction, truth):\n",
    "    pred_tokens = normalize_text(prediction).split()\n",
    "    truth_tokens = normalize_text(truth).split()\n",
    "    \n",
    "    if len(pred_tokens) == 0 or len(truth_tokens) == 0:\n",
    "        return int(pred_tokens == truth_tokens)\n",
    "    \n",
    "    common_tokens = set(pred_tokens) & set(truth_tokens)\n",
    "    \n",
    "    if len(common_tokens) == 0:\n",
    "        return 0\n",
    "    \n",
    "    prec = len(common_tokens) / len(pred_tokens)\n",
    "    rec = len(common_tokens) / len(truth_tokens)\n",
    "    \n",
    "    return 2 * (prec * rec) / (prec + rec)\n"
   ]
  },
  {
   "cell_type": "markdown",
   "id": "0679b3e7",
   "metadata": {
    "code_folding": []
   },
   "source": [
    "### 4.1. None Fine-tuning and None Coreference Resolution"
   ]
  },
  {
   "cell_type": "code",
   "execution_count": 138,
   "id": "092e3075",
   "metadata": {
    "ExecuteTime": {
     "end_time": "2024-03-28T06:53:12.017317Z",
     "start_time": "2024-03-28T06:51:43.419027Z"
    }
   },
   "outputs": [
    {
     "name": "stdout",
     "output_type": "stream",
     "text": [
      "mean_exact_match 0.2\n",
      "mean_f1 0.6352130325814537\n"
     ]
    }
   ],
   "source": [
    "# News\n",
    "df_news_valid = df_news_train[df_news_train[\"id\"].isin(valid_news_ids)] \n",
    "pred_val_news = df_news_valid[[\"question\",\"context\"]].apply(lambda x: get_prediction(model_ori,tokenizer_ori,x[0],x[1]),axis=1)\n",
    "df_news_valid[\"pred_answer\"] = pred_val_news.apply(lambda x: x[0])\n",
    "df_news_valid[\"pred_score\"] = pred_val_news.apply(lambda x: x[1])\n",
    "\n",
    "df_news_valid_comp = df_news_valid.copy()\n",
    "df_news_valid_comp[\"pred_score_agg\"] = np.where(df_news_valid_comp[\"pred_answer\"]==\"[CLS]\",-100,df_news_valid_comp[\"pred_score\"])\n",
    "df_news_valid_comp = df_news_valid_comp.loc[df_news_valid_comp.groupby(['id'])['pred_score_agg'].idxmax()]\n",
    "\n",
    "df_news_valid_comp[\"exact_match\"] = df_news_valid_comp[[\"pred_answer\",\"answer_text\"]].apply(lambda x: eval_exact_match(x[0], x[1]),axis=1)\n",
    "df_news_valid_comp[\"f1\"] = df_news_valid_comp[[\"pred_answer\",\"answer_text\"]].apply(lambda x: eval_f1(x[0], x[1]),axis=1)\n",
    "print(\"mean_exact_match\",df_news_valid_comp[\"exact_match\"].mean())\n",
    "print(\"mean_f1\",df_news_valid_comp[\"f1\"].mean())"
   ]
  },
  {
   "cell_type": "code",
   "execution_count": 33,
   "id": "d3050e09",
   "metadata": {
    "ExecuteTime": {
     "end_time": "2024-03-25T03:53:29.285256Z",
     "start_time": "2024-03-25T03:51:17.479654Z"
    },
    "scrolled": true
   },
   "outputs": [
    {
     "name": "stdout",
     "output_type": "stream",
     "text": [
      "mean_exact_match 0.8235294117647058\n",
      "mean_f1 0.8858292566078031\n"
     ]
    }
   ],
   "source": [
    "# SQuAD\n",
    "df_squad_valid = df_squad_train[valid_squad_flg].copy()\n",
    "pred_val_squad = df_squad_valid[[\"question\",\"context\"]].apply(lambda x: get_prediction(model_ori,tokenizer_ori,x[0],x[1]),axis=1)\n",
    "df_squad_valid[\"pred_answer\"] = pred_val_squad.apply(lambda x: x[0])\n",
    "df_squad_valid[\"pred_score\"] = pred_val_squad.apply(lambda x: x[1])\n",
    "\n",
    "df_squad_valid[\"exact_match\"] = df_squad_valid[[\"pred_answer\",\"answer_text\"]].apply(lambda x: eval_exact_match(x[0], x[1]),axis=1)\n",
    "df_squad_valid[\"f1\"] = df_squad_valid[[\"pred_answer\",\"answer_text\"]].apply(lambda x: eval_f1(x[0], x[1]),axis=1)\n",
    "print(\"mean_exact_match\",df_squad_valid[\"exact_match\"].mean())\n",
    "print(\"mean_f1\",df_squad_valid[\"f1\"].mean())\n"
   ]
  },
  {
   "cell_type": "markdown",
   "id": "7b8c013c",
   "metadata": {},
   "source": [
    "### 4.2. None Fine-tuning and Coreference Resolution"
   ]
  },
  {
   "cell_type": "code",
   "execution_count": 136,
   "id": "e5174af7",
   "metadata": {
    "ExecuteTime": {
     "end_time": "2024-03-28T06:50:52.667461Z",
     "start_time": "2024-03-28T06:49:17.935139Z"
    }
   },
   "outputs": [
    {
     "name": "stdout",
     "output_type": "stream",
     "text": [
      "mean_exact_match 0.3\n",
      "mean_f1 0.658546365914787\n"
     ]
    }
   ],
   "source": [
    "# News\n",
    "df_news_valid_cr = df_news_train_cr[df_news_train_cr[\"id\"].isin(valid_news_ids)] \n",
    "pred_val_news_cr = df_news_valid_cr[[\"question\",\"context\"]].apply(lambda x: get_prediction(model_ori,tokenizer_ori,x[0],x[1]),axis=1)\n",
    "df_news_valid_cr[\"pred_answer\"] = pred_val_news_cr.apply(lambda x: x[0])\n",
    "df_news_valid_cr[\"pred_score\"] = pred_val_news_cr.apply(lambda x: x[1])\n",
    "\n",
    "df_news_valid_comp_cr = df_news_valid_cr.copy()\n",
    "df_news_valid_comp_cr[\"pred_score_agg\"] = np.where(df_news_valid_comp_cr[\"pred_answer\"]==\"[CLS]\",-100,df_news_valid_comp_cr[\"pred_score\"])\n",
    "df_news_valid_comp_cr = df_news_valid_comp_cr.loc[df_news_valid_comp_cr.groupby(['id'])['pred_score_agg'].idxmax()]\n",
    "\n",
    "df_news_valid_comp_cr[\"exact_match\"] = df_news_valid_comp_cr[[\"pred_answer\",\"answer_text\"]].apply(lambda x: eval_exact_match(x[0], x[1]),axis=1)\n",
    "df_news_valid_comp_cr[\"f1\"] = df_news_valid_comp_cr[[\"pred_answer\",\"answer_text\"]].apply(lambda x: eval_f1(x[0], x[1]),axis=1)\n",
    "print(\"mean_exact_match\",df_news_valid_comp_cr[\"exact_match\"].mean())\n",
    "print(\"mean_f1\",df_news_valid_comp_cr[\"f1\"].mean())\n"
   ]
  },
  {
   "cell_type": "code",
   "execution_count": 34,
   "id": "1107866d",
   "metadata": {
    "ExecuteTime": {
     "end_time": "2024-03-25T03:59:50.352193Z",
     "start_time": "2024-03-25T03:57:05.863262Z"
    }
   },
   "outputs": [
    {
     "name": "stdout",
     "output_type": "stream",
     "text": [
      "mean_exact_match 0.8235294117647058\n",
      "mean_f1 0.8792933088953849\n"
     ]
    }
   ],
   "source": [
    "# SQuAD\n",
    "df_squad_valid_cr = df_squad_train_cr[valid_squad_flg].copy()\n",
    "pred_val_squad_cr = df_squad_valid_cr[[\"question\",\"context\"]].apply(lambda x: get_prediction(model_ori,tokenizer_ori,x[0],x[1]),axis=1)\n",
    "df_squad_valid_cr[\"pred_answer\"] = pred_val_squad_cr.apply(lambda x: x[0])\n",
    "df_squad_valid_cr[\"pred_score\"] = pred_val_squad_cr.apply(lambda x: x[1])\n",
    "\n",
    "df_squad_valid_cr[\"exact_match\"] = df_squad_valid_cr[[\"pred_answer\",\"answer_text\"]].apply(lambda x: eval_exact_match(x[0], x[1]),axis=1)\n",
    "df_squad_valid_cr[\"f1\"] = df_squad_valid_cr[[\"pred_answer\",\"answer_text\"]].apply(lambda x: eval_f1(x[0], x[1]),axis=1)\n",
    "print(\"mean_exact_match\",df_squad_valid_cr[\"exact_match\"].mean())\n",
    "print(\"mean_f1\",df_squad_valid_cr[\"f1\"].mean())\n"
   ]
  },
  {
   "cell_type": "markdown",
   "id": "dc13891c",
   "metadata": {},
   "source": [
    "When utilising coreference resolution, an improvement in predictive accuracy is observed for the news dataset, while a decrease in predictive accuracy is noted for the SQuAD dataset. For the SQuAD dataset, coreference resolution might not work effectively since the SQuAD dataset contains shorter passages compared to the news dataset, plus BERT's attention layer can relate pronouns to their corresponding nouns (Clark et al. 2019, p. 276). On the other hand, for the news dataset, coreference resolution likely contributed to identifying pronouns successfully since the news dataset consists of longer passages and only BERT's attention layer might not be enough to identify the relationship of pronouns."
   ]
  },
  {
   "cell_type": "code",
   "execution_count": 139,
   "id": "d586757c",
   "metadata": {
    "ExecuteTime": {
     "end_time": "2024-03-28T06:54:09.517234Z",
     "start_time": "2024-03-28T06:54:09.507022Z"
    }
   },
   "outputs": [
    {
     "name": "stdout",
     "output_type": "stream",
     "text": [
      "Correct answer length 6.7\n",
      "Predicted answer length 3.9\n"
     ]
    }
   ],
   "source": [
    "print(\"Correct answer length\",df_news_valid_comp[\"answer_text\"].apply(lambda x: len(x.split())).mean())\n",
    "print(\"Predicted answer length\",df_news_valid_comp[\"pred_answer\"].apply(lambda x: len(x.split())).mean())"
   ]
  },
  {
   "cell_type": "code",
   "execution_count": 140,
   "id": "c9c40007",
   "metadata": {
    "ExecuteTime": {
     "end_time": "2024-03-28T06:54:34.184907Z",
     "start_time": "2024-03-28T06:54:34.175021Z"
    }
   },
   "outputs": [
    {
     "name": "stdout",
     "output_type": "stream",
     "text": [
      "Correct answer length 7.1\n",
      "Predicted answer length 4.0\n"
     ]
    }
   ],
   "source": [
    "print(\"Correct answer length\",df_news_valid_comp_cr[\"answer_text\"].apply(lambda x: len(x.split())).mean())\n",
    "print(\"Predicted answer length\",df_news_valid_comp_cr[\"pred_answer\"].apply(lambda x: len(x.split())).mean())"
   ]
  },
  {
   "cell_type": "code",
   "execution_count": 105,
   "id": "c9bb3226",
   "metadata": {},
   "outputs": [
    {
     "name": "stdout",
     "output_type": "stream",
     "text": [
      "Correct answer length 3.4313725490196076\n",
      "Predicted answer length 3.6862745098039214\n"
     ]
    }
   ],
   "source": [
    "print(\"Correct answer length\",df_squad_valid[\"answer_text\"].apply(lambda x: len(x.split())).mean())\n",
    "print(\"Predicted answer length\",df_squad_valid[\"pred_answer\"].apply(lambda x: len(x.split())).mean())"
   ]
  },
  {
   "cell_type": "code",
   "execution_count": 107,
   "id": "21a8971c",
   "metadata": {},
   "outputs": [
    {
     "name": "stdout",
     "output_type": "stream",
     "text": [
      "Correct answer length 3.4313725490196076\n",
      "Predicted answer length 3.627450980392157\n"
     ]
    }
   ],
   "source": [
    "print(\"Correct answer length\",df_squad_valid_cr[\"answer_text\"].apply(lambda x: len(x.split())).mean())\n",
    "print(\"Predicted answer length\",df_squad_valid_cr[\"pred_answer\"].apply(lambda x: len(x.split())).mean())"
   ]
  },
  {
   "cell_type": "markdown",
   "id": "9cee8e14",
   "metadata": {},
   "source": [
    "### 4.3. Fine-tuning and None Coreference Resolution"
   ]
  },
  {
   "cell_type": "code",
   "execution_count": 6,
   "id": "4ebe2c47",
   "metadata": {
    "ExecuteTime": {
     "end_time": "2024-03-25T12:00:32.393644Z",
     "start_time": "2024-03-25T12:00:32.382047Z"
    }
   },
   "outputs": [],
   "source": [
    "class Loader:\n",
    "    def __init__(self, tokenizer):\n",
    "        self.tokenizer = tokenizer\n",
    "\n",
    "    def tokenize(self,batch):\n",
    "        tokenized_batch = self.tokenizer(batch[\"question\"], batch[\"context\"],\n",
    "        max_length=512,\n",
    "        padding=\"max_length\",\n",
    "        truncation=True,\n",
    "        return_offsets_mapping=True,\n",
    "        return_token_type_ids=True)\n",
    "\n",
    "\n",
    "        answer_starts = []\n",
    "        answer_ends = []\n",
    "\n",
    "\n",
    "        for i, context in enumerate(batch[\"context\"]):              \n",
    "            answer_start = batch[\"answer_start_position\"][i]\n",
    "            answer_end = answer_start + len(batch[\"answer\"][i])   \n",
    "            answer_starts.append(answer_start)\n",
    "            answer_ends.append(answer_end)\n",
    "\n",
    "\n",
    "        tokenized_batch[\"answer_start\"] = answer_starts\n",
    "        tokenized_batch[\"answer_end\"] = answer_ends\n",
    "\n",
    "\n",
    "        return tokenized_batch\n",
    "\n",
    "\n",
    "    def prepare_train_features(self,example):\n",
    "        start_position = example[\"input_ids\"].index(self.tokenizer.cls_token_id)\n",
    "        end_position = example[\"input_ids\"].index(self.tokenizer.sep_token_id)\n",
    "\n",
    "\n",
    "        found_start = False\n",
    "        found_end = False\n",
    "        for i, (offset_start, offset_end) in enumerate(example[\"offset_mapping\"]):\n",
    "            if not found_start and offset_start == example[\"answer_start\"]:\n",
    "                start_position = i\n",
    "                found_start = True\n",
    "            if not found_end and offset_end == example[\"answer_end\"]:\n",
    "                end_position = i\n",
    "                found_end = True\n",
    "            if found_start and found_end:\n",
    "                break\n",
    "\n",
    "\n",
    "        if not found_start or not found_end:\n",
    "            start_position = -1\n",
    "            end_position = -1\n",
    "\n",
    "\n",
    "        example[\"start_positions\"] = start_position\n",
    "        example[\"end_positions\"] = end_position\n",
    "        return example\n",
    "\n",
    "\n",
    "\n",
    "    def filter_invalid_examples(self,example):\n",
    "        return example[\"start_positions\"] != -1 and example[\"end_positions\"] != -1\n",
    "\n",
    "    def convert_to_tensors(self,example):\n",
    "        example[\"input_ids\"] = torch.tensor(example[\"input_ids\"], dtype=torch.long)\n",
    "        example[\"attention_mask\"] = torch.tensor(example[\"attention_mask\"], dtype=torch.long)\n",
    "        return example\n",
    "\n"
   ]
  },
  {
   "cell_type": "code",
   "execution_count": 7,
   "id": "6e93426d",
   "metadata": {
    "ExecuteTime": {
     "end_time": "2024-03-25T12:01:04.242468Z",
     "start_time": "2024-03-25T12:01:03.068004Z"
    }
   },
   "outputs": [
    {
     "data": {
      "application/vnd.jupyter.widget-view+json": {
       "model_id": "",
       "version_major": 2,
       "version_minor": 0
      },
      "text/plain": [
       "Map:   0%|          | 0/161 [00:00<?, ? examples/s]"
      ]
     },
     "metadata": {},
     "output_type": "display_data"
    },
    {
     "data": {
      "application/vnd.jupyter.widget-view+json": {
       "model_id": "",
       "version_major": 2,
       "version_minor": 0
      },
      "text/plain": [
       "Map:   0%|          | 0/161 [00:00<?, ? examples/s]"
      ]
     },
     "metadata": {},
     "output_type": "display_data"
    },
    {
     "data": {
      "application/vnd.jupyter.widget-view+json": {
       "model_id": "",
       "version_major": 2,
       "version_minor": 0
      },
      "text/plain": [
       "Filter:   0%|          | 0/161 [00:00<?, ? examples/s]"
      ]
     },
     "metadata": {},
     "output_type": "display_data"
    },
    {
     "data": {
      "application/vnd.jupyter.widget-view+json": {
       "model_id": "",
       "version_major": 2,
       "version_minor": 0
      },
      "text/plain": [
       "Map:   0%|          | 0/144 [00:00<?, ? examples/s]"
      ]
     },
     "metadata": {},
     "output_type": "display_data"
    },
    {
     "data": {
      "application/vnd.jupyter.widget-view+json": {
       "model_id": "",
       "version_major": 2,
       "version_minor": 0
      },
      "text/plain": [
       "Map:   0%|          | 0/16 [00:00<?, ? examples/s]"
      ]
     },
     "metadata": {},
     "output_type": "display_data"
    }
   ],
   "source": [
    "tuning_tokenizer = BertTokenizerFast.from_pretrained(\"bert-large-cased-whole-word-masking-finetuned-squad\")\n",
    "loader=Loader(tuning_tokenizer)\n",
    "\n",
    "df_news_train_agg = df_news_train.copy()[~df_news_train[\"id\"].isin(valid_news_ids)]\n",
    "df_news_train_agg = df_news_train_agg[~df_news_train_agg[\"answer_start_position\"].isnull()]\n",
    "df_train = pd.concat([df_news_train_agg,df_squad_train[~valid_squad_flg]])\n",
    "df_train.drop(columns=\"id\",inplace=True)\n",
    "df_train.rename(columns={\"answer_text\":\"answer\"},inplace=True)\n",
    "\n",
    "dataset = Dataset.from_pandas(df_train)\n",
    "tokenized_dataset = dataset.map(loader.tokenize, batched=True)\n",
    "prepared_dataset = tokenized_dataset.map(loader.prepare_train_features, batched=False)\n",
    "filtered_dataset = prepared_dataset.filter(loader.filter_invalid_examples, batched=False)\n",
    "\n",
    "train_indices, eval_indices = train_test_split(list(range(len(filtered_dataset))), test_size=0.1, random_state=random_state_val)\n",
    "train_dataset = filtered_dataset.select(train_indices)\n",
    "eval_dataset = filtered_dataset.select(eval_indices)\n",
    "train_dataset = train_dataset.map(loader.convert_to_tensors)\n",
    "eval_dataset = eval_dataset.map(loader.convert_to_tensors)\n",
    "\n",
    "dataset_dict = DatasetDict({\"train\": train_dataset, \"eval\": eval_dataset})"
   ]
  },
  {
   "cell_type": "code",
   "execution_count": 8,
   "id": "8005cffc",
   "metadata": {
    "ExecuteTime": {
     "end_time": "2024-03-25T08:43:44.050189Z",
     "start_time": "2024-03-25T08:43:43.003794Z"
    }
   },
   "outputs": [
    {
     "name": "stderr",
     "output_type": "stream",
     "text": [
      "The following columns in the training set don't have a corresponding argument in `BertForQuestionAnswering.forward` and have been ignored: __index_level_0__, answer_start, answer_start_position, offset_mapping, question, answer_end, context, answer. If __index_level_0__, answer_start, answer_start_position, offset_mapping, question, answer_end, context, answer are not expected by `BertForQuestionAnswering.forward`,  you can safely ignore this message.\n",
      "/Users/shosakata/anaconda3/lib/python3.11/site-packages/transformers/optimization.py:306: FutureWarning: This implementation of AdamW is deprecated and will be removed in a future version. Use the PyTorch implementation torch.optim.AdamW instead, or set `no_deprecation_warning=True` to disable this warning\n",
      "  warnings.warn(\n",
      "***** Running training *****\n",
      "  Num examples = 144\n",
      "  Num Epochs = 6\n",
      "  Instantaneous batch size per device = 16\n",
      "  Total train batch size (w. parallel, distributed & accumulation) = 16\n",
      "  Gradient Accumulation steps = 1\n",
      "  Total optimization steps = 54\n",
      "  Number of trainable parameters = 332531714\n"
     ]
    },
    {
     "data": {
      "text/html": [
       "\n",
       "    <div>\n",
       "      \n",
       "      <progress value='54' max='54' style='width:300px; height:20px; vertical-align: middle;'></progress>\n",
       "      [54/54 1:51:24, Epoch 6/6]\n",
       "    </div>\n",
       "    <table border=\"1\" class=\"dataframe\">\n",
       "  <thead>\n",
       " <tr style=\"text-align: left;\">\n",
       "      <th>Epoch</th>\n",
       "      <th>Training Loss</th>\n",
       "      <th>Validation Loss</th>\n",
       "    </tr>\n",
       "  </thead>\n",
       "  <tbody>\n",
       "    <tr>\n",
       "      <td>1</td>\n",
       "      <td>No log</td>\n",
       "      <td>0.325120</td>\n",
       "    </tr>\n",
       "    <tr>\n",
       "      <td>2</td>\n",
       "      <td>0.912000</td>\n",
       "      <td>0.329002</td>\n",
       "    </tr>\n",
       "    <tr>\n",
       "      <td>3</td>\n",
       "      <td>0.538500</td>\n",
       "      <td>0.327866</td>\n",
       "    </tr>\n",
       "    <tr>\n",
       "      <td>4</td>\n",
       "      <td>0.691800</td>\n",
       "      <td>0.329483</td>\n",
       "    </tr>\n",
       "    <tr>\n",
       "      <td>5</td>\n",
       "      <td>0.569900</td>\n",
       "      <td>0.332512</td>\n",
       "    </tr>\n",
       "    <tr>\n",
       "      <td>6</td>\n",
       "      <td>0.393500</td>\n",
       "      <td>0.352945</td>\n",
       "    </tr>\n",
       "  </tbody>\n",
       "</table><p>"
      ],
      "text/plain": [
       "<IPython.core.display.HTML object>"
      ]
     },
     "metadata": {},
     "output_type": "display_data"
    },
    {
     "name": "stderr",
     "output_type": "stream",
     "text": [
      "The following columns in the evaluation set don't have a corresponding argument in `BertForQuestionAnswering.forward` and have been ignored: __index_level_0__, answer_start, answer_start_position, offset_mapping, question, answer_end, context, answer. If __index_level_0__, answer_start, answer_start_position, offset_mapping, question, answer_end, context, answer are not expected by `BertForQuestionAnswering.forward`,  you can safely ignore this message.\n",
      "***** Running Evaluation *****\n",
      "  Num examples = 16\n",
      "  Batch size = 64\n",
      "Saving model checkpoint to ./results/checkpoint-9\n",
      "Configuration saved in ./results/checkpoint-9/config.json\n",
      "Model weights saved in ./results/checkpoint-9/pytorch_model.bin\n",
      "tokenizer config file saved in ./results/checkpoint-9/tokenizer_config.json\n",
      "Special tokens file saved in ./results/checkpoint-9/special_tokens_map.json\n",
      "The following columns in the evaluation set don't have a corresponding argument in `BertForQuestionAnswering.forward` and have been ignored: __index_level_0__, answer_start, answer_start_position, offset_mapping, question, answer_end, context, answer. If __index_level_0__, answer_start, answer_start_position, offset_mapping, question, answer_end, context, answer are not expected by `BertForQuestionAnswering.forward`,  you can safely ignore this message.\n",
      "***** Running Evaluation *****\n",
      "  Num examples = 16\n",
      "  Batch size = 64\n",
      "Saving model checkpoint to ./results/checkpoint-18\n",
      "Configuration saved in ./results/checkpoint-18/config.json\n",
      "Model weights saved in ./results/checkpoint-18/pytorch_model.bin\n",
      "tokenizer config file saved in ./results/checkpoint-18/tokenizer_config.json\n",
      "Special tokens file saved in ./results/checkpoint-18/special_tokens_map.json\n",
      "Deleting older checkpoint [results/checkpoint-54] due to args.save_total_limit\n",
      "The following columns in the evaluation set don't have a corresponding argument in `BertForQuestionAnswering.forward` and have been ignored: __index_level_0__, answer_start, answer_start_position, offset_mapping, question, answer_end, context, answer. If __index_level_0__, answer_start, answer_start_position, offset_mapping, question, answer_end, context, answer are not expected by `BertForQuestionAnswering.forward`,  you can safely ignore this message.\n",
      "***** Running Evaluation *****\n",
      "  Num examples = 16\n",
      "  Batch size = 64\n",
      "Saving model checkpoint to ./results/checkpoint-27\n",
      "Configuration saved in ./results/checkpoint-27/config.json\n",
      "Model weights saved in ./results/checkpoint-27/pytorch_model.bin\n",
      "tokenizer config file saved in ./results/checkpoint-27/tokenizer_config.json\n",
      "Special tokens file saved in ./results/checkpoint-27/special_tokens_map.json\n",
      "Deleting older checkpoint [results/checkpoint-18] due to args.save_total_limit\n",
      "The following columns in the evaluation set don't have a corresponding argument in `BertForQuestionAnswering.forward` and have been ignored: __index_level_0__, answer_start, answer_start_position, offset_mapping, question, answer_end, context, answer. If __index_level_0__, answer_start, answer_start_position, offset_mapping, question, answer_end, context, answer are not expected by `BertForQuestionAnswering.forward`,  you can safely ignore this message.\n",
      "***** Running Evaluation *****\n",
      "  Num examples = 16\n",
      "  Batch size = 64\n",
      "Saving model checkpoint to ./results/checkpoint-36\n",
      "Configuration saved in ./results/checkpoint-36/config.json\n",
      "Model weights saved in ./results/checkpoint-36/pytorch_model.bin\n",
      "tokenizer config file saved in ./results/checkpoint-36/tokenizer_config.json\n",
      "Special tokens file saved in ./results/checkpoint-36/special_tokens_map.json\n",
      "Deleting older checkpoint [results/checkpoint-27] due to args.save_total_limit\n",
      "The following columns in the evaluation set don't have a corresponding argument in `BertForQuestionAnswering.forward` and have been ignored: __index_level_0__, answer_start, answer_start_position, offset_mapping, question, answer_end, context, answer. If __index_level_0__, answer_start, answer_start_position, offset_mapping, question, answer_end, context, answer are not expected by `BertForQuestionAnswering.forward`,  you can safely ignore this message.\n",
      "***** Running Evaluation *****\n",
      "  Num examples = 16\n",
      "  Batch size = 64\n",
      "Saving model checkpoint to ./results/checkpoint-45\n",
      "Configuration saved in ./results/checkpoint-45/config.json\n",
      "Model weights saved in ./results/checkpoint-45/pytorch_model.bin\n",
      "tokenizer config file saved in ./results/checkpoint-45/tokenizer_config.json\n",
      "Special tokens file saved in ./results/checkpoint-45/special_tokens_map.json\n",
      "Deleting older checkpoint [results/checkpoint-36] due to args.save_total_limit\n",
      "The following columns in the evaluation set don't have a corresponding argument in `BertForQuestionAnswering.forward` and have been ignored: __index_level_0__, answer_start, answer_start_position, offset_mapping, question, answer_end, context, answer. If __index_level_0__, answer_start, answer_start_position, offset_mapping, question, answer_end, context, answer are not expected by `BertForQuestionAnswering.forward`,  you can safely ignore this message.\n",
      "***** Running Evaluation *****\n",
      "  Num examples = 16\n",
      "  Batch size = 64\n",
      "Saving model checkpoint to ./results/checkpoint-54\n",
      "Configuration saved in ./results/checkpoint-54/config.json\n",
      "Model weights saved in ./results/checkpoint-54/pytorch_model.bin\n",
      "tokenizer config file saved in ./results/checkpoint-54/tokenizer_config.json\n",
      "Special tokens file saved in ./results/checkpoint-54/special_tokens_map.json\n",
      "Deleting older checkpoint [results/checkpoint-45] due to args.save_total_limit\n",
      "\n",
      "\n",
      "Training completed. Do not forget to share your model on huggingface.co/models =)\n",
      "\n",
      "\n",
      "Loading best model from ./results/checkpoint-9 (score: 0.32512032985687256).\n"
     ]
    },
    {
     "data": {
      "text/plain": [
       "TrainOutput(global_step=54, training_loss=0.6067188801588835, metrics={'train_runtime': 6797.0264, 'train_samples_per_second': 0.127, 'train_steps_per_second': 0.008, 'total_flos': 802402841198592.0, 'train_loss': 0.6067188801588835, 'epoch': 6.0})"
      ]
     },
     "execution_count": 8,
     "metadata": {},
     "output_type": "execute_result"
    }
   ],
   "source": [
    "tuning_model = BertForQuestionAnswering.from_pretrained('bert-large-cased-whole-word-masking-finetuned-squad')\n",
    "\n",
    "training_args = TrainingArguments(\n",
    "    output_dir='./results',\n",
    "    num_train_epochs=6,\n",
    "    per_device_train_batch_size=16,\n",
    "    per_device_eval_batch_size=64,\n",
    "    warmup_steps=500,\n",
    "    weight_decay=0.01,\n",
    "    logging_dir='./logs',\n",
    "    logging_steps=10,\n",
    "    evaluation_strategy=\"epoch\",\n",
    "    save_strategy=\"epoch\",\n",
    "    save_total_limit=2,\n",
    "    load_best_model_at_end=True,\n",
    ")\n",
    "\n",
    "trainer = Trainer(\n",
    "    model=tuning_model,\n",
    "    args=training_args,\n",
    "    train_dataset=dataset_dict[\"train\"],\n",
    "    eval_dataset=dataset_dict[\"eval\"],\n",
    "    data_collator=DefaultDataCollator(),\n",
    "    tokenizer=tuning_tokenizer,\n",
    ")\n",
    "trainer.train()\n"
   ]
  },
  {
   "cell_type": "code",
   "execution_count": 157,
   "id": "2b8857d6",
   "metadata": {
    "ExecuteTime": {
     "end_time": "2024-03-28T07:05:54.751508Z",
     "start_time": "2024-03-28T07:04:17.528722Z"
    }
   },
   "outputs": [
    {
     "name": "stdout",
     "output_type": "stream",
     "text": [
      "mean_exact_match 0.2\n",
      "mean_f1 0.6352130325814537\n"
     ]
    }
   ],
   "source": [
    "df_news_valid_tuning = df_news_train[df_news_train[\"id\"].isin(valid_news_ids)] \n",
    "pred_val_news = df_news_valid_tuning[[\"question\",\"context\"]].apply(lambda x: get_prediction(tuning_model,tuning_tokenizer,x[0],x[1]),axis=1)\n",
    "df_news_valid_tuning[\"pred_answer\"] = pred_val_news.apply(lambda x: x[0])\n",
    "df_news_valid_tuning[\"pred_score\"] = pred_val_news.apply(lambda x: x[1])\n",
    "\n",
    "df_news_valid_tuning_comp = df_news_valid_tuning.copy()\n",
    "df_news_valid_tuning_comp[\"pred_score_agg\"] = np.where(df_news_valid_tuning_comp[\"pred_answer\"]==\"[CLS]\",-100,df_news_valid_tuning_comp[\"pred_score\"])\n",
    "df_news_valid_tuning_comp = df_news_valid_tuning_comp.loc[df_news_valid_tuning_comp.groupby(['id'])['pred_score_agg'].idxmax()]\n",
    "\n",
    "df_news_valid_tuning_comp[\"exact_match\"] = df_news_valid_tuning_comp[[\"pred_answer\",\"answer_text\"]].apply(lambda x: eval_exact_match(x[0], x[1]),axis=1)\n",
    "df_news_valid_tuning_comp[\"f1\"] = df_news_valid_tuning_comp[[\"pred_answer\",\"answer_text\"]].apply(lambda x: eval_f1(x[0], x[1]),axis=1)\n",
    "print(\"mean_exact_match\",df_news_valid_tuning_comp[\"exact_match\"].mean())\n",
    "print(\"mean_f1\",df_news_valid_tuning_comp[\"f1\"].mean())"
   ]
  },
  {
   "cell_type": "code",
   "execution_count": 10,
   "id": "3dc698f3",
   "metadata": {},
   "outputs": [
    {
     "name": "stdout",
     "output_type": "stream",
     "text": [
      "mean_exact_match 0.8235294117647058\n",
      "mean_f1 0.8858292566078031\n"
     ]
    }
   ],
   "source": [
    "df_squad_valid_tuning = df_squad_train[valid_squad_flg].copy()\n",
    "pred_val_squad = df_squad_valid_tuning[[\"question\",\"context\"]].apply(lambda x: get_prediction(tuning_model,tuning_tokenizer,x[0],x[1]),axis=1)\n",
    "df_squad_valid_tuning[\"pred_answer\"] = pred_val_squad.apply(lambda x: x[0])\n",
    "df_squad_valid_tuning[\"pred_score\"] = pred_val_squad.apply(lambda x: x[1])\n",
    "\n",
    "df_squad_valid_tuning[\"exact_match\"] = df_squad_valid_tuning[[\"pred_answer\",\"answer_text\"]].apply(lambda x: eval_exact_match(x[0], x[1]),axis=1)\n",
    "df_squad_valid_tuning[\"f1\"] = df_squad_valid_tuning[[\"pred_answer\",\"answer_text\"]].apply(lambda x: eval_f1(x[0], x[1]),axis=1)\n",
    "print(\"mean_exact_match\",df_squad_valid_tuning[\"exact_match\"].mean())\n",
    "print(\"mean_f1\",df_squad_valid_tuning[\"f1\"].mean())\n"
   ]
  },
  {
   "cell_type": "markdown",
   "id": "c63e2fec",
   "metadata": {},
   "source": [
    "### 4.4. Fine-tuning and Coreference Resolution"
   ]
  },
  {
   "cell_type": "code",
   "execution_count": 12,
   "id": "4699fb8a",
   "metadata": {
    "ExecuteTime": {
     "end_time": "2024-03-25T12:12:53.390682Z",
     "start_time": "2024-03-25T12:12:51.292370Z"
    }
   },
   "outputs": [
    {
     "name": "stderr",
     "output_type": "stream",
     "text": [
      "loading file vocab.txt from cache at /Users/shosakata/.cache/huggingface/hub/models--bert-large-cased-whole-word-masking-finetuned-squad/snapshots/de462ace242f74c8c469e35697b4d3a47c77d084/vocab.txt\n",
      "loading file tokenizer.json from cache at /Users/shosakata/.cache/huggingface/hub/models--bert-large-cased-whole-word-masking-finetuned-squad/snapshots/de462ace242f74c8c469e35697b4d3a47c77d084/tokenizer.json\n",
      "loading file added_tokens.json from cache at None\n",
      "loading file special_tokens_map.json from cache at None\n",
      "loading file tokenizer_config.json from cache at /Users/shosakata/.cache/huggingface/hub/models--bert-large-cased-whole-word-masking-finetuned-squad/snapshots/de462ace242f74c8c469e35697b4d3a47c77d084/tokenizer_config.json\n",
      "loading configuration file config.json from cache at /Users/shosakata/.cache/huggingface/hub/models--bert-large-cased-whole-word-masking-finetuned-squad/snapshots/de462ace242f74c8c469e35697b4d3a47c77d084/config.json\n",
      "Model config BertConfig {\n",
      "  \"_name_or_path\": \"bert-large-cased-whole-word-masking-finetuned-squad\",\n",
      "  \"architectures\": [\n",
      "    \"BertForQuestionAnswering\"\n",
      "  ],\n",
      "  \"attention_probs_dropout_prob\": 0.1,\n",
      "  \"classifier_dropout\": null,\n",
      "  \"directionality\": \"bidi\",\n",
      "  \"hidden_act\": \"gelu\",\n",
      "  \"hidden_dropout_prob\": 0.1,\n",
      "  \"hidden_size\": 1024,\n",
      "  \"initializer_range\": 0.02,\n",
      "  \"intermediate_size\": 4096,\n",
      "  \"layer_norm_eps\": 1e-12,\n",
      "  \"max_position_embeddings\": 512,\n",
      "  \"model_type\": \"bert\",\n",
      "  \"num_attention_heads\": 16,\n",
      "  \"num_hidden_layers\": 24,\n",
      "  \"pad_token_id\": 0,\n",
      "  \"pooler_fc_size\": 768,\n",
      "  \"pooler_num_attention_heads\": 12,\n",
      "  \"pooler_num_fc_layers\": 3,\n",
      "  \"pooler_size_per_head\": 128,\n",
      "  \"pooler_type\": \"first_token_transform\",\n",
      "  \"position_embedding_type\": \"absolute\",\n",
      "  \"transformers_version\": \"4.25.1\",\n",
      "  \"type_vocab_size\": 2,\n",
      "  \"use_cache\": true,\n",
      "  \"vocab_size\": 28996\n",
      "}\n",
      "\n"
     ]
    },
    {
     "data": {
      "application/vnd.jupyter.widget-view+json": {
       "model_id": "",
       "version_major": 2,
       "version_minor": 0
      },
      "text/plain": [
       "Map:   0%|          | 0/161 [00:00<?, ? examples/s]"
      ]
     },
     "metadata": {},
     "output_type": "display_data"
    },
    {
     "data": {
      "application/vnd.jupyter.widget-view+json": {
       "model_id": "",
       "version_major": 2,
       "version_minor": 0
      },
      "text/plain": [
       "Map:   0%|          | 0/161 [00:00<?, ? examples/s]"
      ]
     },
     "metadata": {},
     "output_type": "display_data"
    },
    {
     "data": {
      "application/vnd.jupyter.widget-view+json": {
       "model_id": "",
       "version_major": 2,
       "version_minor": 0
      },
      "text/plain": [
       "Filter:   0%|          | 0/161 [00:00<?, ? examples/s]"
      ]
     },
     "metadata": {},
     "output_type": "display_data"
    },
    {
     "data": {
      "application/vnd.jupyter.widget-view+json": {
       "model_id": "",
       "version_major": 2,
       "version_minor": 0
      },
      "text/plain": [
       "Map:   0%|          | 0/144 [00:00<?, ? examples/s]"
      ]
     },
     "metadata": {},
     "output_type": "display_data"
    },
    {
     "data": {
      "application/vnd.jupyter.widget-view+json": {
       "model_id": "",
       "version_major": 2,
       "version_minor": 0
      },
      "text/plain": [
       "Map:   0%|          | 0/16 [00:00<?, ? examples/s]"
      ]
     },
     "metadata": {},
     "output_type": "display_data"
    }
   ],
   "source": [
    "tuning_tokenizer_cr = BertTokenizerFast.from_pretrained(\"bert-large-cased-whole-word-masking-finetuned-squad\")\n",
    "loader_cr=Loader(tuning_tokenizer_cr)\n",
    "\n",
    "df_news_train_cr_agg = df_news_train_cr.copy()[~df_news_train_cr[\"id\"].isin(valid_news_ids)]\n",
    "df_news_train_cr_agg = df_news_train_cr_agg[~df_news_train_cr_agg[\"answer_start_position\"].isnull()]\n",
    "df_train_cr = pd.concat([df_news_train_cr_agg,df_squad_train[~valid_squad_flg]])\n",
    "\n",
    "# df_train_cr = pd.concat([df_news_train_cr[~valid_news_flg],df_squad_train_cr[~valid_squad_flg]])\n",
    "df_train_cr.drop(columns=\"id\",inplace=True)\n",
    "df_train_cr.rename(columns={\"answer_text\":\"answer\"},inplace=True)\n",
    "\n",
    "dataset = Dataset.from_pandas(df_train_cr)\n",
    "tokenized_dataset = dataset.map(loader_cr.tokenize, batched=True)\n",
    "prepared_dataset = tokenized_dataset.map(loader_cr.prepare_train_features, batched=False)\n",
    "filtered_dataset = prepared_dataset.filter(loader_cr.filter_invalid_examples, batched=False)\n",
    "\n",
    "train_indices, eval_indices = train_test_split(list(range(len(filtered_dataset))), test_size=0.1, random_state=random_state_val)\n",
    "train_dataset = filtered_dataset.select(train_indices)\n",
    "eval_dataset = filtered_dataset.select(eval_indices)\n",
    "train_dataset = train_dataset.map(loader_cr.convert_to_tensors)\n",
    "eval_dataset = eval_dataset.map(loader_cr.convert_to_tensors)\n",
    "\n",
    "dataset_dict_cr = DatasetDict({\"train\": train_dataset, \"eval\": eval_dataset})\n"
   ]
  },
  {
   "cell_type": "code",
   "execution_count": 13,
   "id": "eed41155",
   "metadata": {
    "scrolled": true
   },
   "outputs": [
    {
     "name": "stderr",
     "output_type": "stream",
     "text": [
      "loading configuration file config.json from cache at /Users/shosakata/.cache/huggingface/hub/models--bert-large-cased-whole-word-masking-finetuned-squad/snapshots/de462ace242f74c8c469e35697b4d3a47c77d084/config.json\n",
      "Model config BertConfig {\n",
      "  \"architectures\": [\n",
      "    \"BertForQuestionAnswering\"\n",
      "  ],\n",
      "  \"attention_probs_dropout_prob\": 0.1,\n",
      "  \"classifier_dropout\": null,\n",
      "  \"directionality\": \"bidi\",\n",
      "  \"hidden_act\": \"gelu\",\n",
      "  \"hidden_dropout_prob\": 0.1,\n",
      "  \"hidden_size\": 1024,\n",
      "  \"initializer_range\": 0.02,\n",
      "  \"intermediate_size\": 4096,\n",
      "  \"layer_norm_eps\": 1e-12,\n",
      "  \"max_position_embeddings\": 512,\n",
      "  \"model_type\": \"bert\",\n",
      "  \"num_attention_heads\": 16,\n",
      "  \"num_hidden_layers\": 24,\n",
      "  \"pad_token_id\": 0,\n",
      "  \"pooler_fc_size\": 768,\n",
      "  \"pooler_num_attention_heads\": 12,\n",
      "  \"pooler_num_fc_layers\": 3,\n",
      "  \"pooler_size_per_head\": 128,\n",
      "  \"pooler_type\": \"first_token_transform\",\n",
      "  \"position_embedding_type\": \"absolute\",\n",
      "  \"transformers_version\": \"4.25.1\",\n",
      "  \"type_vocab_size\": 2,\n",
      "  \"use_cache\": true,\n",
      "  \"vocab_size\": 28996\n",
      "}\n",
      "\n",
      "loading weights file model.safetensors from cache at /Users/shosakata/.cache/huggingface/hub/models--bert-large-cased-whole-word-masking-finetuned-squad/snapshots/de462ace242f74c8c469e35697b4d3a47c77d084/model.safetensors\n",
      "All model checkpoint weights were used when initializing BertForQuestionAnswering.\n",
      "\n",
      "All the weights of BertForQuestionAnswering were initialized from the model checkpoint at bert-large-cased-whole-word-masking-finetuned-squad.\n",
      "If your task is similar to the task the model of the checkpoint was trained on, you can already use BertForQuestionAnswering for predictions without further training.\n",
      "The following columns in the training set don't have a corresponding argument in `BertForQuestionAnswering.forward` and have been ignored: __index_level_0__, answer_start, answer_start_position, offset_mapping, question, answer_end, context, answer. If __index_level_0__, answer_start, answer_start_position, offset_mapping, question, answer_end, context, answer are not expected by `BertForQuestionAnswering.forward`,  you can safely ignore this message.\n",
      "/Users/shosakata/anaconda3/lib/python3.11/site-packages/transformers/optimization.py:306: FutureWarning: This implementation of AdamW is deprecated and will be removed in a future version. Use the PyTorch implementation torch.optim.AdamW instead, or set `no_deprecation_warning=True` to disable this warning\n",
      "  warnings.warn(\n",
      "***** Running training *****\n",
      "  Num examples = 144\n",
      "  Num Epochs = 6\n",
      "  Instantaneous batch size per device = 16\n",
      "  Total train batch size (w. parallel, distributed & accumulation) = 16\n",
      "  Gradient Accumulation steps = 1\n",
      "  Total optimization steps = 54\n",
      "  Number of trainable parameters = 332531714\n"
     ]
    },
    {
     "data": {
      "text/html": [
       "\n",
       "    <div>\n",
       "      \n",
       "      <progress value='54' max='54' style='width:300px; height:20px; vertical-align: middle;'></progress>\n",
       "      [54/54 1:50:17, Epoch 6/6]\n",
       "    </div>\n",
       "    <table border=\"1\" class=\"dataframe\">\n",
       "  <thead>\n",
       " <tr style=\"text-align: left;\">\n",
       "      <th>Epoch</th>\n",
       "      <th>Training Loss</th>\n",
       "      <th>Validation Loss</th>\n",
       "    </tr>\n",
       "  </thead>\n",
       "  <tbody>\n",
       "    <tr>\n",
       "      <td>1</td>\n",
       "      <td>No log</td>\n",
       "      <td>0.369291</td>\n",
       "    </tr>\n",
       "    <tr>\n",
       "      <td>2</td>\n",
       "      <td>0.941400</td>\n",
       "      <td>0.371919</td>\n",
       "    </tr>\n",
       "    <tr>\n",
       "      <td>3</td>\n",
       "      <td>0.589900</td>\n",
       "      <td>0.373014</td>\n",
       "    </tr>\n",
       "    <tr>\n",
       "      <td>4</td>\n",
       "      <td>0.701500</td>\n",
       "      <td>0.377175</td>\n",
       "    </tr>\n",
       "    <tr>\n",
       "      <td>5</td>\n",
       "      <td>0.588900</td>\n",
       "      <td>0.382092</td>\n",
       "    </tr>\n",
       "    <tr>\n",
       "      <td>6</td>\n",
       "      <td>0.394900</td>\n",
       "      <td>0.402012</td>\n",
       "    </tr>\n",
       "  </tbody>\n",
       "</table><p>"
      ],
      "text/plain": [
       "<IPython.core.display.HTML object>"
      ]
     },
     "metadata": {},
     "output_type": "display_data"
    },
    {
     "name": "stderr",
     "output_type": "stream",
     "text": [
      "The following columns in the evaluation set don't have a corresponding argument in `BertForQuestionAnswering.forward` and have been ignored: __index_level_0__, answer_start, answer_start_position, offset_mapping, question, answer_end, context, answer. If __index_level_0__, answer_start, answer_start_position, offset_mapping, question, answer_end, context, answer are not expected by `BertForQuestionAnswering.forward`,  you can safely ignore this message.\n",
      "***** Running Evaluation *****\n",
      "  Num examples = 16\n",
      "  Batch size = 64\n",
      "Saving model checkpoint to ./results/checkpoint-9\n",
      "Configuration saved in ./results/checkpoint-9/config.json\n",
      "Model weights saved in ./results/checkpoint-9/pytorch_model.bin\n",
      "tokenizer config file saved in ./results/checkpoint-9/tokenizer_config.json\n",
      "Special tokens file saved in ./results/checkpoint-9/special_tokens_map.json\n",
      "The following columns in the evaluation set don't have a corresponding argument in `BertForQuestionAnswering.forward` and have been ignored: __index_level_0__, answer_start, answer_start_position, offset_mapping, question, answer_end, context, answer. If __index_level_0__, answer_start, answer_start_position, offset_mapping, question, answer_end, context, answer are not expected by `BertForQuestionAnswering.forward`,  you can safely ignore this message.\n",
      "***** Running Evaluation *****\n",
      "  Num examples = 16\n",
      "  Batch size = 64\n",
      "Saving model checkpoint to ./results/checkpoint-18\n",
      "Configuration saved in ./results/checkpoint-18/config.json\n",
      "Model weights saved in ./results/checkpoint-18/pytorch_model.bin\n",
      "tokenizer config file saved in ./results/checkpoint-18/tokenizer_config.json\n",
      "Special tokens file saved in ./results/checkpoint-18/special_tokens_map.json\n",
      "Deleting older checkpoint [results/checkpoint-54] due to args.save_total_limit\n",
      "The following columns in the evaluation set don't have a corresponding argument in `BertForQuestionAnswering.forward` and have been ignored: __index_level_0__, answer_start, answer_start_position, offset_mapping, question, answer_end, context, answer. If __index_level_0__, answer_start, answer_start_position, offset_mapping, question, answer_end, context, answer are not expected by `BertForQuestionAnswering.forward`,  you can safely ignore this message.\n",
      "***** Running Evaluation *****\n",
      "  Num examples = 16\n",
      "  Batch size = 64\n",
      "Saving model checkpoint to ./results/checkpoint-27\n",
      "Configuration saved in ./results/checkpoint-27/config.json\n",
      "Model weights saved in ./results/checkpoint-27/pytorch_model.bin\n",
      "tokenizer config file saved in ./results/checkpoint-27/tokenizer_config.json\n",
      "Special tokens file saved in ./results/checkpoint-27/special_tokens_map.json\n",
      "Deleting older checkpoint [results/checkpoint-18] due to args.save_total_limit\n",
      "The following columns in the evaluation set don't have a corresponding argument in `BertForQuestionAnswering.forward` and have been ignored: __index_level_0__, answer_start, answer_start_position, offset_mapping, question, answer_end, context, answer. If __index_level_0__, answer_start, answer_start_position, offset_mapping, question, answer_end, context, answer are not expected by `BertForQuestionAnswering.forward`,  you can safely ignore this message.\n",
      "***** Running Evaluation *****\n",
      "  Num examples = 16\n",
      "  Batch size = 64\n",
      "Saving model checkpoint to ./results/checkpoint-36\n",
      "Configuration saved in ./results/checkpoint-36/config.json\n",
      "Model weights saved in ./results/checkpoint-36/pytorch_model.bin\n",
      "tokenizer config file saved in ./results/checkpoint-36/tokenizer_config.json\n",
      "Special tokens file saved in ./results/checkpoint-36/special_tokens_map.json\n",
      "Deleting older checkpoint [results/checkpoint-27] due to args.save_total_limit\n",
      "The following columns in the evaluation set don't have a corresponding argument in `BertForQuestionAnswering.forward` and have been ignored: __index_level_0__, answer_start, answer_start_position, offset_mapping, question, answer_end, context, answer. If __index_level_0__, answer_start, answer_start_position, offset_mapping, question, answer_end, context, answer are not expected by `BertForQuestionAnswering.forward`,  you can safely ignore this message.\n",
      "***** Running Evaluation *****\n",
      "  Num examples = 16\n",
      "  Batch size = 64\n",
      "Saving model checkpoint to ./results/checkpoint-45\n",
      "Configuration saved in ./results/checkpoint-45/config.json\n",
      "Model weights saved in ./results/checkpoint-45/pytorch_model.bin\n",
      "tokenizer config file saved in ./results/checkpoint-45/tokenizer_config.json\n",
      "Special tokens file saved in ./results/checkpoint-45/special_tokens_map.json\n",
      "Deleting older checkpoint [results/checkpoint-36] due to args.save_total_limit\n",
      "The following columns in the evaluation set don't have a corresponding argument in `BertForQuestionAnswering.forward` and have been ignored: __index_level_0__, answer_start, answer_start_position, offset_mapping, question, answer_end, context, answer. If __index_level_0__, answer_start, answer_start_position, offset_mapping, question, answer_end, context, answer are not expected by `BertForQuestionAnswering.forward`,  you can safely ignore this message.\n",
      "***** Running Evaluation *****\n",
      "  Num examples = 16\n",
      "  Batch size = 64\n",
      "Saving model checkpoint to ./results/checkpoint-54\n",
      "Configuration saved in ./results/checkpoint-54/config.json\n",
      "Model weights saved in ./results/checkpoint-54/pytorch_model.bin\n",
      "tokenizer config file saved in ./results/checkpoint-54/tokenizer_config.json\n",
      "Special tokens file saved in ./results/checkpoint-54/special_tokens_map.json\n",
      "Deleting older checkpoint [results/checkpoint-45] due to args.save_total_limit\n",
      "\n",
      "\n",
      "Training completed. Do not forget to share your model on huggingface.co/models =)\n",
      "\n",
      "\n",
      "Loading best model from ./results/checkpoint-9 (score: 0.3692913353443146).\n"
     ]
    },
    {
     "data": {
      "text/plain": [
       "TrainOutput(global_step=54, training_loss=0.6244881815380521, metrics={'train_runtime': 6734.6616, 'train_samples_per_second': 0.128, 'train_steps_per_second': 0.008, 'total_flos': 802402841198592.0, 'train_loss': 0.6244881815380521, 'epoch': 6.0})"
      ]
     },
     "execution_count": 13,
     "metadata": {},
     "output_type": "execute_result"
    }
   ],
   "source": [
    "tuning_model_cr = BertForQuestionAnswering.from_pretrained('bert-large-cased-whole-word-masking-finetuned-squad')\n",
    "\n",
    "trainer = Trainer(\n",
    "    model=tuning_model_cr,\n",
    "    args=training_args,\n",
    "    train_dataset=dataset_dict_cr[\"train\"],\n",
    "    eval_dataset=dataset_dict_cr[\"eval\"],\n",
    "    data_collator=DefaultDataCollator(),\n",
    "    tokenizer=tuning_tokenizer_cr,\n",
    ")\n",
    "trainer.train()\n"
   ]
  },
  {
   "cell_type": "code",
   "execution_count": 160,
   "id": "6ace1452",
   "metadata": {
    "ExecuteTime": {
     "end_time": "2024-03-28T07:13:13.096884Z",
     "start_time": "2024-03-28T07:11:34.148785Z"
    }
   },
   "outputs": [
    {
     "name": "stdout",
     "output_type": "stream",
     "text": [
      "mean_exact_match 0.3\n",
      "mean_f1 0.658546365914787\n"
     ]
    }
   ],
   "source": [
    "df_news_valid_tuning_cr = df_news_train_cr.copy()[df_news_train_cr[\"id\"].isin(valid_news_ids)] \n",
    "pred_val_news_cr = df_news_valid_tuning_cr[[\"question\",\"context\"]].apply(lambda x: get_prediction(tuning_model_cr,tuning_tokenizer_cr,x[0],x[1]),axis=1)\n",
    "df_news_valid_tuning_cr[\"pred_answer\"] = pred_val_news_cr.apply(lambda x: x[0])\n",
    "df_news_valid_tuning_cr[\"pred_score\"] = pred_val_news_cr.apply(lambda x: x[1])\n",
    "\n",
    "df_news_valid_tuning_comp_cr = df_news_valid_tuning_cr.copy()\n",
    "df_news_valid_tuning_comp_cr[\"pred_score_agg\"] = np.where(df_news_valid_tuning_comp_cr[\"pred_answer\"]==\"[CLS]\",-100,df_news_valid_tuning_comp_cr[\"pred_score\"])\n",
    "df_news_valid_tuning_comp_cr = df_news_valid_tuning_comp_cr.loc[df_news_valid_tuning_comp_cr.groupby(['id'])['pred_score_agg'].idxmax()]\n",
    "\n",
    "df_news_valid_tuning_comp_cr[\"exact_match\"] = df_news_valid_tuning_comp_cr[[\"pred_answer\",\"answer_text\"]].apply(lambda x: eval_exact_match(x[0], x[1]),axis=1)\n",
    "df_news_valid_tuning_comp_cr[\"f1\"] = df_news_valid_tuning_comp_cr[[\"pred_answer\",\"answer_text\"]].apply(lambda x: eval_f1(x[0], x[1]),axis=1)\n",
    "print(\"mean_exact_match\",df_news_valid_tuning_comp_cr[\"exact_match\"].mean())\n",
    "print(\"mean_f1\",df_news_valid_tuning_comp_cr[\"f1\"].mean())\n"
   ]
  },
  {
   "cell_type": "code",
   "execution_count": 15,
   "id": "b2062af6",
   "metadata": {
    "ExecuteTime": {
     "end_time": "2024-03-25T04:12:08.832160Z",
     "start_time": "2024-03-25T04:09:05.904710Z"
    }
   },
   "outputs": [
    {
     "name": "stdout",
     "output_type": "stream",
     "text": [
      "mean_exact_match 0.8235294117647058\n",
      "mean_f1 0.8792933088953849\n"
     ]
    }
   ],
   "source": [
    "df_squad_valid_tuning_cr = df_squad_train_cr[valid_squad_flg].copy()\n",
    "pred_val_squad_cr = df_squad_valid_tuning_cr[[\"question\",\"context\"]].apply(lambda x: get_prediction(tuning_model_cr,tuning_tokenizer_cr,x[0],x[1]),axis=1)\n",
    "df_squad_valid_tuning_cr[\"pred_answer\"] = pred_val_squad_cr.apply(lambda x: x[0])\n",
    "df_squad_valid_tuning_cr[\"pred_score\"] = pred_val_squad_cr.apply(lambda x: x[1])\n",
    "\n",
    "df_squad_valid_tuning_cr[\"exact_match\"] = df_squad_valid_tuning_cr[[\"pred_answer\",\"answer_text\"]].apply(lambda x: eval_exact_match(x[0], x[1]),axis=1)\n",
    "df_squad_valid_tuning_cr[\"f1\"] = df_squad_valid_tuning_cr[[\"pred_answer\",\"answer_text\"]].apply(lambda x: eval_f1(x[0], x[1]),axis=1)\n",
    "print(\"mean_exact_match\",df_squad_valid_tuning_cr[\"exact_match\"].mean())\n",
    "print(\"mean_f1\",df_squad_valid_tuning_cr[\"f1\"].mean())\n"
   ]
  },
  {
   "cell_type": "markdown",
   "id": "5c3f1238",
   "metadata": {},
   "source": [
    "### 4.5. Evaluate Candidate Methods"
   ]
  },
  {
   "cell_type": "code",
   "execution_count": 166,
   "id": "efcdd512",
   "metadata": {
    "ExecuteTime": {
     "end_time": "2024-03-28T07:33:58.005458Z",
     "start_time": "2024-03-28T07:33:57.904135Z"
    }
   },
   "outputs": [],
   "source": [
    "list_df=[\n",
    "\"df_news_valid_comp\",\n",
    "\"df_news_valid_comp_cr\",\n",
    "\"df_news_valid_tuning_comp\",\n",
    "\"df_news_valid_tuning_comp_cr\",\n",
    "\"df_squad_valid\",\n",
    "\"df_squad_valid_cr\",\n",
    "\"df_squad_valid_tuning\",\n",
    "\"df_squad_valid_tuning_cr\"\n",
    "]\n",
    "df_eval_valid = pd.DataFrame()\n",
    "\n",
    "for df_nm in list_df:\n",
    "    exec(f'df_temp=pd.DataFrame({df_nm}[[\"exact_match\",\"f1\"]].mean()).T')\n",
    "    exec(f'df_temp.index=[re.sub(\"(df_|_valid|_comp)\",\"\",\"{df_nm}\")]')\n",
    "\n",
    "    df_eval_valid = pd.concat([df_eval_valid,df_temp])\n",
    "\n",
    "df_eval_valid = df_eval_valid.reset_index().rename(columns={\"index\":\"model\"})"
   ]
  },
  {
   "cell_type": "code",
   "execution_count": 167,
   "id": "b1a032e9",
   "metadata": {
    "ExecuteTime": {
     "end_time": "2024-03-28T07:33:59.280483Z",
     "start_time": "2024-03-28T07:33:59.201779Z"
    }
   },
   "outputs": [
    {
     "data": {
      "text/html": [
       "<div>\n",
       "<style scoped>\n",
       "    .dataframe tbody tr th:only-of-type {\n",
       "        vertical-align: middle;\n",
       "    }\n",
       "\n",
       "    .dataframe tbody tr th {\n",
       "        vertical-align: top;\n",
       "    }\n",
       "\n",
       "    .dataframe thead th {\n",
       "        text-align: right;\n",
       "    }\n",
       "</style>\n",
       "<table border=\"1\" class=\"dataframe\">\n",
       "  <thead>\n",
       "    <tr style=\"text-align: right;\">\n",
       "      <th></th>\n",
       "      <th>model</th>\n",
       "      <th>exact_match</th>\n",
       "      <th>f1</th>\n",
       "    </tr>\n",
       "  </thead>\n",
       "  <tbody>\n",
       "    <tr>\n",
       "      <th>0</th>\n",
       "      <td>news</td>\n",
       "      <td>0.200000</td>\n",
       "      <td>0.635213</td>\n",
       "    </tr>\n",
       "    <tr>\n",
       "      <th>1</th>\n",
       "      <td>news_cr</td>\n",
       "      <td>0.300000</td>\n",
       "      <td>0.658546</td>\n",
       "    </tr>\n",
       "    <tr>\n",
       "      <th>2</th>\n",
       "      <td>news_tuning</td>\n",
       "      <td>0.200000</td>\n",
       "      <td>0.635213</td>\n",
       "    </tr>\n",
       "    <tr>\n",
       "      <th>3</th>\n",
       "      <td>news_tuning_cr</td>\n",
       "      <td>0.300000</td>\n",
       "      <td>0.658546</td>\n",
       "    </tr>\n",
       "    <tr>\n",
       "      <th>4</th>\n",
       "      <td>squad</td>\n",
       "      <td>0.823529</td>\n",
       "      <td>0.885829</td>\n",
       "    </tr>\n",
       "    <tr>\n",
       "      <th>5</th>\n",
       "      <td>squad_cr</td>\n",
       "      <td>0.823529</td>\n",
       "      <td>0.879293</td>\n",
       "    </tr>\n",
       "    <tr>\n",
       "      <th>6</th>\n",
       "      <td>squad_tuning</td>\n",
       "      <td>0.823529</td>\n",
       "      <td>0.885829</td>\n",
       "    </tr>\n",
       "    <tr>\n",
       "      <th>7</th>\n",
       "      <td>squad_tuning_cr</td>\n",
       "      <td>0.823529</td>\n",
       "      <td>0.879293</td>\n",
       "    </tr>\n",
       "  </tbody>\n",
       "</table>\n",
       "</div>"
      ],
      "text/plain": [
       "             model  exact_match        f1\n",
       "0             news     0.200000  0.635213\n",
       "1          news_cr     0.300000  0.658546\n",
       "2      news_tuning     0.200000  0.635213\n",
       "3   news_tuning_cr     0.300000  0.658546\n",
       "4            squad     0.823529  0.885829\n",
       "5         squad_cr     0.823529  0.879293\n",
       "6     squad_tuning     0.823529  0.885829\n",
       "7  squad_tuning_cr     0.823529  0.879293"
      ]
     },
     "execution_count": 167,
     "metadata": {},
     "output_type": "execute_result"
    }
   ],
   "source": [
    "df_eval_valid"
   ]
  },
  {
   "cell_type": "code",
   "execution_count": 168,
   "id": "eaa1b522",
   "metadata": {
    "ExecuteTime": {
     "end_time": "2024-03-28T07:34:02.195888Z",
     "start_time": "2024-03-28T07:34:01.399464Z"
    }
   },
   "outputs": [
    {
     "data": {
      "image/png": "[encoded data removed]",
      "text/plain": [
       "<Figure size 640x480 with 1 Axes>"
      ]
     },
     "metadata": {},
     "output_type": "display_data"
    }
   ],
   "source": [
    "df_eval_valid_news = df_eval_valid[df_eval_valid[\"model\"].str.contains(\"news\")]\n",
    "df_eval_valid_news.plot(x=\"model\",kind=\"bar\")\n",
    "plt.title(\"Evaluation Metrics for News Dataset\")\n",
    "plt.show()"
   ]
  },
  {
   "cell_type": "code",
   "execution_count": 169,
   "id": "561561f3",
   "metadata": {
    "ExecuteTime": {
     "end_time": "2024-03-28T07:34:03.241839Z",
     "start_time": "2024-03-28T07:34:03.073129Z"
    }
   },
   "outputs": [
    {
     "data": {
      "image/png": "[encoded data removed]",
      "text/plain": [
       "<Figure size 640x480 with 1 Axes>"
      ]
     },
     "metadata": {},
     "output_type": "display_data"
    }
   ],
   "source": [
    "df_eval_valid_news = df_eval_valid[df_eval_valid[\"model\"].str.contains(\"squad\")]\n",
    "df_eval_valid_news.plot(x=\"model\",kind=\"bar\")\n",
    "plt.title(\"Evaluation Metrics for SQuAD Dataset\")\n",
    "plt.show()"
   ]
  },
  {
   "cell_type": "markdown",
   "id": "f63c8281",
   "metadata": {},
   "source": [
    "| No | fine-tuning | Coreference Resolution | Exact Match (News) | F1 (News) | Exact Match (SQuAD) | F1 (SQuAD) |\n",
    "|----|-------------|------------------------|---------------------|-----------|----------------------|------------|\n",
    "| 1  | None        | None                   | 0.300               | 0.735     | 0.824                | 0.886      |\n",
    "| 2  | None        | Yes                    | 0.400               | 0.759     | 0.824                | 0.879      |\n",
    "| 3  | Yes         | None                   | 0.300               | 0.735     | 0.824                | 0.886      |\n",
    "| 4  | Yes         | Yes                    | 0.400               | 0.759     | 0.824                | 0.879      |\n",
    "\n",
    "\n",
    "The SQuAD dataset was added to supplement the lack of the news dataset. Therefore, prioritizing the F1 score of the News dataset for assessment, options No. 2 or No. 4 would be preferable. While there is no observed improvement in predictive accuracy through fine-tuning, there is also no decrease in predictive accuracy. Additionally, the validation dataset is utilized as part of the training data for the final model, resulting in a larger dataset. This increases the possibility of improved accuracy. Therefore, the approach in No. 4 will be utilised for the final model construction.\n",
    "\n"
   ]
  },
  {
   "cell_type": "markdown",
   "id": "b6e78e15",
   "metadata": {},
   "source": [
    "### 4.5. Build and Evaluate the Final Model"
   ]
  },
  {
   "cell_type": "code",
   "execution_count": 22,
   "id": "1d797b24",
   "metadata": {},
   "outputs": [
    {
     "name": "stderr",
     "output_type": "stream",
     "text": [
      "loading file vocab.txt from cache at /Users/shosakata/.cache/huggingface/hub/models--bert-large-cased-whole-word-masking-finetuned-squad/snapshots/de462ace242f74c8c469e35697b4d3a47c77d084/vocab.txt\n",
      "loading file tokenizer.json from cache at /Users/shosakata/.cache/huggingface/hub/models--bert-large-cased-whole-word-masking-finetuned-squad/snapshots/de462ace242f74c8c469e35697b4d3a47c77d084/tokenizer.json\n",
      "loading file added_tokens.json from cache at None\n",
      "loading file special_tokens_map.json from cache at None\n",
      "loading file tokenizer_config.json from cache at /Users/shosakata/.cache/huggingface/hub/models--bert-large-cased-whole-word-masking-finetuned-squad/snapshots/de462ace242f74c8c469e35697b4d3a47c77d084/tokenizer_config.json\n",
      "loading configuration file config.json from cache at /Users/shosakata/.cache/huggingface/hub/models--bert-large-cased-whole-word-masking-finetuned-squad/snapshots/de462ace242f74c8c469e35697b4d3a47c77d084/config.json\n",
      "Model config BertConfig {\n",
      "  \"_name_or_path\": \"bert-large-cased-whole-word-masking-finetuned-squad\",\n",
      "  \"architectures\": [\n",
      "    \"BertForQuestionAnswering\"\n",
      "  ],\n",
      "  \"attention_probs_dropout_prob\": 0.1,\n",
      "  \"classifier_dropout\": null,\n",
      "  \"directionality\": \"bidi\",\n",
      "  \"hidden_act\": \"gelu\",\n",
      "  \"hidden_dropout_prob\": 0.1,\n",
      "  \"hidden_size\": 1024,\n",
      "  \"initializer_range\": 0.02,\n",
      "  \"intermediate_size\": 4096,\n",
      "  \"layer_norm_eps\": 1e-12,\n",
      "  \"max_position_embeddings\": 512,\n",
      "  \"model_type\": \"bert\",\n",
      "  \"num_attention_heads\": 16,\n",
      "  \"num_hidden_layers\": 24,\n",
      "  \"pad_token_id\": 0,\n",
      "  \"pooler_fc_size\": 768,\n",
      "  \"pooler_num_attention_heads\": 12,\n",
      "  \"pooler_num_fc_layers\": 3,\n",
      "  \"pooler_size_per_head\": 128,\n",
      "  \"pooler_type\": \"first_token_transform\",\n",
      "  \"position_embedding_type\": \"absolute\",\n",
      "  \"transformers_version\": \"4.25.1\",\n",
      "  \"type_vocab_size\": 2,\n",
      "  \"use_cache\": true,\n",
      "  \"vocab_size\": 28996\n",
      "}\n",
      "\n"
     ]
    },
    {
     "data": {
      "application/vnd.jupyter.widget-view+json": {
       "model_id": "",
       "version_major": 2,
       "version_minor": 0
      },
      "text/plain": [
       "Map:   0%|          | 0/222 [00:00<?, ? examples/s]"
      ]
     },
     "metadata": {},
     "output_type": "display_data"
    },
    {
     "data": {
      "application/vnd.jupyter.widget-view+json": {
       "model_id": "",
       "version_major": 2,
       "version_minor": 0
      },
      "text/plain": [
       "Map:   0%|          | 0/222 [00:00<?, ? examples/s]"
      ]
     },
     "metadata": {},
     "output_type": "display_data"
    },
    {
     "data": {
      "application/vnd.jupyter.widget-view+json": {
       "model_id": "",
       "version_major": 2,
       "version_minor": 0
      },
      "text/plain": [
       "Filter:   0%|          | 0/222 [00:00<?, ? examples/s]"
      ]
     },
     "metadata": {},
     "output_type": "display_data"
    },
    {
     "data": {
      "application/vnd.jupyter.widget-view+json": {
       "model_id": "",
       "version_major": 2,
       "version_minor": 0
      },
      "text/plain": [
       "Map:   0%|          | 0/198 [00:00<?, ? examples/s]"
      ]
     },
     "metadata": {},
     "output_type": "display_data"
    },
    {
     "data": {
      "application/vnd.jupyter.widget-view+json": {
       "model_id": "",
       "version_major": 2,
       "version_minor": 0
      },
      "text/plain": [
       "Map:   0%|          | 0/23 [00:00<?, ? examples/s]"
      ]
     },
     "metadata": {},
     "output_type": "display_data"
    }
   ],
   "source": [
    "tuning_tokenizer_final = BertTokenizerFast.from_pretrained(\"bert-large-cased-whole-word-masking-finetuned-squad\")\n",
    "loader_final=Loader(tuning_tokenizer_final)\n",
    "\n",
    "df_train_final = pd.concat([df_news_train_cr,df_squad_train_cr])\n",
    "df_train_final.drop(columns=\"id\",inplace=True)\n",
    "df_train_final.rename(columns={\"answer_text\":\"answer\"},inplace=True)\n",
    "\n",
    "dataset = Dataset.from_pandas(df_train_final)\n",
    "tokenized_dataset = dataset.map(loader_final.tokenize, batched=True)\n",
    "prepared_dataset = tokenized_dataset.map(loader_final.prepare_train_features, batched=False)\n",
    "filtered_dataset = prepared_dataset.filter(loader_final.filter_invalid_examples, batched=False)\n",
    "\n",
    "train_indices, eval_indices = train_test_split(list(range(len(filtered_dataset))), test_size=0.1, random_state=random_state_val)\n",
    "train_dataset = filtered_dataset.select(train_indices)\n",
    "eval_dataset = filtered_dataset.select(eval_indices)\n",
    "train_dataset = train_dataset.map(loader_final.convert_to_tensors)\n",
    "eval_dataset = eval_dataset.map(loader_final.convert_to_tensors)\n",
    "\n",
    "dataset_dict_final = DatasetDict({\"train\": train_dataset, \"eval\": eval_dataset})\n"
   ]
  },
  {
   "cell_type": "code",
   "execution_count": 23,
   "id": "c378a6ea",
   "metadata": {},
   "outputs": [
    {
     "name": "stderr",
     "output_type": "stream",
     "text": [
      "loading configuration file config.json from cache at /Users/shosakata/.cache/huggingface/hub/models--bert-large-cased-whole-word-masking-finetuned-squad/snapshots/de462ace242f74c8c469e35697b4d3a47c77d084/config.json\n",
      "Model config BertConfig {\n",
      "  \"architectures\": [\n",
      "    \"BertForQuestionAnswering\"\n",
      "  ],\n",
      "  \"attention_probs_dropout_prob\": 0.1,\n",
      "  \"classifier_dropout\": null,\n",
      "  \"directionality\": \"bidi\",\n",
      "  \"hidden_act\": \"gelu\",\n",
      "  \"hidden_dropout_prob\": 0.1,\n",
      "  \"hidden_size\": 1024,\n",
      "  \"initializer_range\": 0.02,\n",
      "  \"intermediate_size\": 4096,\n",
      "  \"layer_norm_eps\": 1e-12,\n",
      "  \"max_position_embeddings\": 512,\n",
      "  \"model_type\": \"bert\",\n",
      "  \"num_attention_heads\": 16,\n",
      "  \"num_hidden_layers\": 24,\n",
      "  \"pad_token_id\": 0,\n",
      "  \"pooler_fc_size\": 768,\n",
      "  \"pooler_num_attention_heads\": 12,\n",
      "  \"pooler_num_fc_layers\": 3,\n",
      "  \"pooler_size_per_head\": 128,\n",
      "  \"pooler_type\": \"first_token_transform\",\n",
      "  \"position_embedding_type\": \"absolute\",\n",
      "  \"transformers_version\": \"4.25.1\",\n",
      "  \"type_vocab_size\": 2,\n",
      "  \"use_cache\": true,\n",
      "  \"vocab_size\": 28996\n",
      "}\n",
      "\n",
      "loading weights file model.safetensors from cache at /Users/shosakata/.cache/huggingface/hub/models--bert-large-cased-whole-word-masking-finetuned-squad/snapshots/de462ace242f74c8c469e35697b4d3a47c77d084/model.safetensors\n",
      "All model checkpoint weights were used when initializing BertForQuestionAnswering.\n",
      "\n",
      "All the weights of BertForQuestionAnswering were initialized from the model checkpoint at bert-large-cased-whole-word-masking-finetuned-squad.\n",
      "If your task is similar to the task the model of the checkpoint was trained on, you can already use BertForQuestionAnswering for predictions without further training.\n",
      "The following columns in the training set don't have a corresponding argument in `BertForQuestionAnswering.forward` and have been ignored: __index_level_0__, answer_start, answer_start_position, offset_mapping, question, answer_end, context, answer. If __index_level_0__, answer_start, answer_start_position, offset_mapping, question, answer_end, context, answer are not expected by `BertForQuestionAnswering.forward`,  you can safely ignore this message.\n",
      "/Users/shosakata/anaconda3/lib/python3.11/site-packages/transformers/optimization.py:306: FutureWarning: This implementation of AdamW is deprecated and will be removed in a future version. Use the PyTorch implementation torch.optim.AdamW instead, or set `no_deprecation_warning=True` to disable this warning\n",
      "  warnings.warn(\n",
      "***** Running training *****\n",
      "  Num examples = 198\n",
      "  Num Epochs = 6\n",
      "  Instantaneous batch size per device = 16\n",
      "  Total train batch size (w. parallel, distributed & accumulation) = 16\n",
      "  Gradient Accumulation steps = 1\n",
      "  Total optimization steps = 78\n",
      "  Number of trainable parameters = 332531714\n"
     ]
    },
    {
     "data": {
      "text/html": [
       "\n",
       "    <div>\n",
       "      \n",
       "      <progress value='78' max='78' style='width:300px; height:20px; vertical-align: middle;'></progress>\n",
       "      [78/78 2:34:32, Epoch 6/6]\n",
       "    </div>\n",
       "    <table border=\"1\" class=\"dataframe\">\n",
       "  <thead>\n",
       " <tr style=\"text-align: left;\">\n",
       "      <th>Epoch</th>\n",
       "      <th>Training Loss</th>\n",
       "      <th>Validation Loss</th>\n",
       "    </tr>\n",
       "  </thead>\n",
       "  <tbody>\n",
       "    <tr>\n",
       "      <td>1</td>\n",
       "      <td>0.817800</td>\n",
       "      <td>0.763843</td>\n",
       "    </tr>\n",
       "    <tr>\n",
       "      <td>2</td>\n",
       "      <td>0.689400</td>\n",
       "      <td>0.742596</td>\n",
       "    </tr>\n",
       "    <tr>\n",
       "      <td>3</td>\n",
       "      <td>0.653500</td>\n",
       "      <td>0.731109</td>\n",
       "    </tr>\n",
       "    <tr>\n",
       "      <td>4</td>\n",
       "      <td>0.442500</td>\n",
       "      <td>0.719241</td>\n",
       "    </tr>\n",
       "    <tr>\n",
       "      <td>5</td>\n",
       "      <td>0.267500</td>\n",
       "      <td>0.737383</td>\n",
       "    </tr>\n",
       "    <tr>\n",
       "      <td>6</td>\n",
       "      <td>0.512500</td>\n",
       "      <td>0.722506</td>\n",
       "    </tr>\n",
       "  </tbody>\n",
       "</table><p>"
      ],
      "text/plain": [
       "<IPython.core.display.HTML object>"
      ]
     },
     "metadata": {},
     "output_type": "display_data"
    },
    {
     "name": "stderr",
     "output_type": "stream",
     "text": [
      "The following columns in the evaluation set don't have a corresponding argument in `BertForQuestionAnswering.forward` and have been ignored: __index_level_0__, answer_start, answer_start_position, offset_mapping, question, answer_end, context, answer. If __index_level_0__, answer_start, answer_start_position, offset_mapping, question, answer_end, context, answer are not expected by `BertForQuestionAnswering.forward`,  you can safely ignore this message.\n",
      "***** Running Evaluation *****\n",
      "  Num examples = 23\n",
      "  Batch size = 64\n",
      "Saving model checkpoint to ./results/checkpoint-13\n",
      "Configuration saved in ./results/checkpoint-13/config.json\n",
      "Model weights saved in ./results/checkpoint-13/pytorch_model.bin\n",
      "tokenizer config file saved in ./results/checkpoint-13/tokenizer_config.json\n",
      "Special tokens file saved in ./results/checkpoint-13/special_tokens_map.json\n",
      "Deleting older checkpoint [results/checkpoint-9] due to args.save_total_limit\n",
      "The following columns in the evaluation set don't have a corresponding argument in `BertForQuestionAnswering.forward` and have been ignored: __index_level_0__, answer_start, answer_start_position, offset_mapping, question, answer_end, context, answer. If __index_level_0__, answer_start, answer_start_position, offset_mapping, question, answer_end, context, answer are not expected by `BertForQuestionAnswering.forward`,  you can safely ignore this message.\n",
      "***** Running Evaluation *****\n",
      "  Num examples = 23\n",
      "  Batch size = 64\n",
      "Saving model checkpoint to ./results/checkpoint-26\n",
      "Configuration saved in ./results/checkpoint-26/config.json\n",
      "Model weights saved in ./results/checkpoint-26/pytorch_model.bin\n",
      "tokenizer config file saved in ./results/checkpoint-26/tokenizer_config.json\n",
      "Special tokens file saved in ./results/checkpoint-26/special_tokens_map.json\n",
      "Deleting older checkpoint [results/checkpoint-54] due to args.save_total_limit\n",
      "The following columns in the evaluation set don't have a corresponding argument in `BertForQuestionAnswering.forward` and have been ignored: __index_level_0__, answer_start, answer_start_position, offset_mapping, question, answer_end, context, answer. If __index_level_0__, answer_start, answer_start_position, offset_mapping, question, answer_end, context, answer are not expected by `BertForQuestionAnswering.forward`,  you can safely ignore this message.\n",
      "***** Running Evaluation *****\n",
      "  Num examples = 23\n",
      "  Batch size = 64\n",
      "Saving model checkpoint to ./results/checkpoint-39\n",
      "Configuration saved in ./results/checkpoint-39/config.json\n",
      "Model weights saved in ./results/checkpoint-39/pytorch_model.bin\n",
      "tokenizer config file saved in ./results/checkpoint-39/tokenizer_config.json\n",
      "Special tokens file saved in ./results/checkpoint-39/special_tokens_map.json\n",
      "Deleting older checkpoint [results/checkpoint-13] due to args.save_total_limit\n",
      "The following columns in the evaluation set don't have a corresponding argument in `BertForQuestionAnswering.forward` and have been ignored: __index_level_0__, answer_start, answer_start_position, offset_mapping, question, answer_end, context, answer. If __index_level_0__, answer_start, answer_start_position, offset_mapping, question, answer_end, context, answer are not expected by `BertForQuestionAnswering.forward`,  you can safely ignore this message.\n",
      "***** Running Evaluation *****\n",
      "  Num examples = 23\n",
      "  Batch size = 64\n",
      "Saving model checkpoint to ./results/checkpoint-52\n",
      "Configuration saved in ./results/checkpoint-52/config.json\n",
      "Model weights saved in ./results/checkpoint-52/pytorch_model.bin\n",
      "tokenizer config file saved in ./results/checkpoint-52/tokenizer_config.json\n",
      "Special tokens file saved in ./results/checkpoint-52/special_tokens_map.json\n",
      "Deleting older checkpoint [results/checkpoint-26] due to args.save_total_limit\n",
      "The following columns in the evaluation set don't have a corresponding argument in `BertForQuestionAnswering.forward` and have been ignored: __index_level_0__, answer_start, answer_start_position, offset_mapping, question, answer_end, context, answer. If __index_level_0__, answer_start, answer_start_position, offset_mapping, question, answer_end, context, answer are not expected by `BertForQuestionAnswering.forward`,  you can safely ignore this message.\n",
      "***** Running Evaluation *****\n",
      "  Num examples = 23\n",
      "  Batch size = 64\n",
      "Saving model checkpoint to ./results/checkpoint-65\n",
      "Configuration saved in ./results/checkpoint-65/config.json\n",
      "Model weights saved in ./results/checkpoint-65/pytorch_model.bin\n",
      "tokenizer config file saved in ./results/checkpoint-65/tokenizer_config.json\n",
      "Special tokens file saved in ./results/checkpoint-65/special_tokens_map.json\n",
      "Deleting older checkpoint [results/checkpoint-39] due to args.save_total_limit\n",
      "The following columns in the evaluation set don't have a corresponding argument in `BertForQuestionAnswering.forward` and have been ignored: __index_level_0__, answer_start, answer_start_position, offset_mapping, question, answer_end, context, answer. If __index_level_0__, answer_start, answer_start_position, offset_mapping, question, answer_end, context, answer are not expected by `BertForQuestionAnswering.forward`,  you can safely ignore this message.\n",
      "***** Running Evaluation *****\n",
      "  Num examples = 23\n",
      "  Batch size = 64\n",
      "Saving model checkpoint to ./results/checkpoint-78\n",
      "Configuration saved in ./results/checkpoint-78/config.json\n",
      "Model weights saved in ./results/checkpoint-78/pytorch_model.bin\n",
      "tokenizer config file saved in ./results/checkpoint-78/tokenizer_config.json\n",
      "Special tokens file saved in ./results/checkpoint-78/special_tokens_map.json\n",
      "Deleting older checkpoint [results/checkpoint-65] due to args.save_total_limit\n",
      "\n",
      "\n",
      "Training completed. Do not forget to share your model on huggingface.co/models =)\n",
      "\n",
      "\n",
      "Loading best model from ./results/checkpoint-52 (score: 0.7192414402961731).\n"
     ]
    },
    {
     "data": {
      "text/plain": [
       "TrainOutput(global_step=78, training_loss=0.5538573891688616, metrics={'train_runtime': 9392.9527, 'train_samples_per_second': 0.126, 'train_steps_per_second': 0.008, 'total_flos': 1103303906648064.0, 'train_loss': 0.5538573891688616, 'epoch': 6.0})"
      ]
     },
     "execution_count": 23,
     "metadata": {},
     "output_type": "execute_result"
    }
   ],
   "source": [
    "tuning_model_final = BertForQuestionAnswering.from_pretrained('bert-large-cased-whole-word-masking-finetuned-squad')\n",
    "\n",
    "trainer = Trainer(\n",
    "    model=tuning_model_final,\n",
    "    args=training_args,\n",
    "    train_dataset=dataset_dict_final[\"train\"],\n",
    "    eval_dataset=dataset_dict_final[\"eval\"],\n",
    "    data_collator=DefaultDataCollator(),\n",
    "    tokenizer=tuning_tokenizer_final,\n",
    ")\n",
    "trainer.train()\n"
   ]
  },
  {
   "cell_type": "code",
   "execution_count": 26,
   "id": "f0cc86e5",
   "metadata": {},
   "outputs": [
    {
     "name": "stdout",
     "output_type": "stream",
     "text": [
      "mean_exact_match 0.5\n",
      "mean_f1 0.7779144385026739\n"
     ]
    }
   ],
   "source": [
    "pred_test_news = df_news_test_cr[[\"question\",\"context\"]].apply(lambda x: get_prediction(tuning_model_final,tuning_tokenizer_final,x[0],x[1]),axis=1)\n",
    "df_news_test_cr[\"pred_answer\"] = pred_test_news.apply(lambda x: x[0])\n",
    "df_news_test_cr[\"pred_score\"] = pred_test_news.apply(lambda x: x[1])\n",
    "\n",
    "df_news_test_comp_cr = df_news_test_cr.copy().loc[df_news_test_cr.groupby(['id'])['pred_score'].idxmax()]\n",
    "\n",
    "df_news_test_comp_cr[\"exact_match\"] = df_news_test_comp_cr[[\"pred_answer\",\"answer_text\"]].apply(lambda x: eval_exact_match(x[0], x[1]),axis=1)\n",
    "df_news_test_comp_cr[\"f1\"] = df_news_test_comp_cr[[\"pred_answer\",\"answer_text\"]].apply(lambda x: eval_f1(x[0], x[1]),axis=1)\n",
    "print(\"mean_exact_match\",df_news_test_comp_cr[\"exact_match\"].mean())\n",
    "print(\"mean_f1\",df_news_test_comp_cr[\"f1\"].mean())"
   ]
  },
  {
   "cell_type": "code",
   "execution_count": 27,
   "id": "9ac02fbd",
   "metadata": {},
   "outputs": [
    {
     "name": "stdout",
     "output_type": "stream",
     "text": [
      "mean_exact_match 0.78\n",
      "mean_f1 0.9052990342990342\n"
     ]
    }
   ],
   "source": [
    "pred_test_squad = df_squad_test_cr[[\"question\",\"context\"]].apply(lambda x: get_prediction(tuning_model_final,tuning_tokenizer_final,x[0],x[1]),axis=1)\n",
    "df_squad_test_cr[\"pred_answer\"] = pred_test_squad.apply(lambda x: x[0])\n",
    "df_squad_test_cr[\"pred_score\"] = pred_test_squad.apply(lambda x: x[1])\n",
    "\n",
    "df_squad_test_cr[\"exact_match\"] = df_squad_test_cr[[\"pred_answer\",\"answer_text\"]].apply(lambda x: eval_exact_match(x[0], x[1]),axis=1)\n",
    "df_squad_test_cr[\"f1\"] = df_squad_test_cr[[\"pred_answer\",\"answer_text\"]].apply(lambda x: eval_f1(x[0], x[1]),axis=1)\n",
    "print(\"mean_exact_match\",df_squad_test_cr[\"exact_match\"].mean())\n",
    "print(\"mean_f1\",df_squad_test_cr[\"f1\"].mean())\n"
   ]
  },
  {
   "cell_type": "markdown",
   "id": "546cf13f",
   "metadata": {},
   "source": [
    "Even though the EM score of news dataset is not high, both the news dataset and the SQuAD dataset demonstrate consistent accuracy, with the F1 score for the SQuAD dataset exceeding 90%. The lower EM score in the news dataset can be attributed to the characteristic of the constructed model to select word-based or phrase-based answers since news dataset have more sentence-based answers, compared to SQuAD dataset."
   ]
  },
  {
   "cell_type": "markdown",
   "id": "9d3a91b4",
   "metadata": {},
   "source": [
    "## B. References"
   ]
  },
  {
   "cell_type": "markdown",
   "id": "8f03a51f",
   "metadata": {},
   "source": [
    "Clark, K, Khandelwal, U, Levy, O, Manning, CD 2019, ‘What does BERT look at? an analysis of BERT's attention ‘, <i>Association for Computational Linguistics</i>, pp. 276-286"
   ]
  },
  {
   "cell_type": "markdown",
   "id": "8d577c45",
   "metadata": {},
   "source": [
    "Devlin, J, Chang, MW, Lee, K, & Toutanova, K 2019, ‘BERT: pre-training of deep bidirectional transformers for language understanding ‘, <i>Association for Computational Linguistics</i>, vol. 1, pp. 4171–4186"
   ]
  }
 ],
 "metadata": {
  "kernelspec": {
   "display_name": "Python 3 (ipykernel)",
   "language": "python",
   "name": "python3"
  },
  "language_info": {
   "codemirror_mode": {
    "name": "ipython",
    "version": 3
   },
   "file_extension": ".py",
   "mimetype": "text/x-python",
   "name": "python",
   "nbconvert_exporter": "python",
   "pygments_lexer": "ipython3",
   "version": "3.11.5"
  }
 },
 "nbformat": 4,
 "nbformat_minor": 5
}
